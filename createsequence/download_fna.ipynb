{
 "cells": [
  {
   "cell_type": "code",
   "execution_count": 1,
   "metadata": {
    "collapsed": true
   },
   "outputs": [],
   "source": [
    "import pandas as pd"
   ]
  },
  {
   "cell_type": "code",
   "execution_count": 10,
   "metadata": {
    "collapsed": false
   },
   "outputs": [
    {
     "data": {
      "text/html": [
       "<div>\n",
       "<table border=\"1\" class=\"dataframe\">\n",
       "  <thead>\n",
       "    <tr style=\"text-align: right;\">\n",
       "      <th></th>\n",
       "      <th>scientific_name</th>\n",
       "      <th>tax_id</th>\n",
       "      <th>dir_name</th>\n",
       "      <th>genome_flag</th>\n",
       "      <th>taxid</th>\n",
       "    </tr>\n",
       "  </thead>\n",
       "  <tbody>\n",
       "    <tr>\n",
       "      <th>1</th>\n",
       "      <td>Actinosynnema mirum DSM 43827</td>\n",
       "      <td>446462.0</td>\n",
       "      <td>Actinosynnema_mirum_DSM_43827</td>\n",
       "      <td>1</td>\n",
       "      <td>446462</td>\n",
       "    </tr>\n",
       "    <tr>\n",
       "      <th>5</th>\n",
       "      <td>Arthrobacter sp. FB24</td>\n",
       "      <td>290399.0</td>\n",
       "      <td>Arthrobacter_sp_FB24</td>\n",
       "      <td>1</td>\n",
       "      <td>290399</td>\n",
       "    </tr>\n",
       "    <tr>\n",
       "      <th>9</th>\n",
       "      <td>Bartonella henselae str. Houston-1</td>\n",
       "      <td>283166.0</td>\n",
       "      <td>Bartonella_henselae_Houston-1</td>\n",
       "      <td>1</td>\n",
       "      <td>283166</td>\n",
       "    </tr>\n",
       "    <tr>\n",
       "      <th>15</th>\n",
       "      <td>Cellulomonas flavigena DSM 20109</td>\n",
       "      <td>446466.0</td>\n",
       "      <td>Cellulomonas_flavigena_DSM_20109</td>\n",
       "      <td>1</td>\n",
       "      <td>446466</td>\n",
       "    </tr>\n",
       "    <tr>\n",
       "      <th>20</th>\n",
       "      <td>Cryptobacterium curtum DSM 15641</td>\n",
       "      <td>469378.0</td>\n",
       "      <td>Cryptobacterium_curtum_DSM_15641</td>\n",
       "      <td>1</td>\n",
       "      <td>469378</td>\n",
       "    </tr>\n",
       "  </tbody>\n",
       "</table>\n",
       "</div>"
      ],
      "text/plain": [
       "                       scientific_name    tax_id  \\\n",
       "1        Actinosynnema mirum DSM 43827  446462.0   \n",
       "5                Arthrobacter sp. FB24  290399.0   \n",
       "9   Bartonella henselae str. Houston-1  283166.0   \n",
       "15    Cellulomonas flavigena DSM 20109  446466.0   \n",
       "20    Cryptobacterium curtum DSM 15641  469378.0   \n",
       "\n",
       "                            dir_name  genome_flag   taxid  \n",
       "1      Actinosynnema_mirum_DSM_43827            1  446462  \n",
       "5               Arthrobacter_sp_FB24            1  290399  \n",
       "9      Bartonella_henselae_Houston-1            1  283166  \n",
       "15  Cellulomonas_flavigena_DSM_20109            1  446466  \n",
       "20  Cryptobacterium_curtum_DSM_15641            1  469378  "
      ]
     },
     "execution_count": 10,
     "metadata": {},
     "output_type": "execute_result"
    }
   ],
   "source": [
    "filepath=\"../createcatalog/pnnl_lookup.csv\"\n",
    "lookup_df=pd.read_csv(filepath)\n",
    "lookup_df=lookup_df[lookup_df[\"genome_flag\"]==1]\n",
    "lookup_df[\"taxid\"]=lookup_df[\"tax_id\"].astype(int)\n",
    "lookup_df.head()"
   ]
  },
  {
   "cell_type": "code",
   "execution_count": 11,
   "metadata": {
    "collapsed": false
   },
   "outputs": [
    {
     "data": {
      "text/html": [
       "<div>\n",
       "<table border=\"1\" class=\"dataframe\">\n",
       "  <thead>\n",
       "    <tr style=\"text-align: right;\">\n",
       "      <th></th>\n",
       "      <th>asm_name</th>\n",
       "      <th>assembly_accession</th>\n",
       "      <th>domain</th>\n",
       "      <th>ftp_basename</th>\n",
       "      <th>ftp_path</th>\n",
       "      <th>organism_name</th>\n",
       "      <th>taxid</th>\n",
       "    </tr>\n",
       "  </thead>\n",
       "  <tbody>\n",
       "    <tr>\n",
       "      <th>0</th>\n",
       "      <td>ASM2238v1</td>\n",
       "      <td>GCF_000022385.1</td>\n",
       "      <td>archaea</td>\n",
       "      <td>GCF_000022385.1_ASM2238v1</td>\n",
       "      <td>ftp://ftp.ncbi.nlm.nih.gov/genomes/all/GCF/000...</td>\n",
       "      <td>Sulfolobus islandicus L.S.2.15</td>\n",
       "      <td>429572</td>\n",
       "    </tr>\n",
       "    <tr>\n",
       "      <th>1</th>\n",
       "      <td>ASM97008v1</td>\n",
       "      <td>GCF_000970085.1</td>\n",
       "      <td>archaea</td>\n",
       "      <td>GCF_000970085.1_ASM97008v1</td>\n",
       "      <td>ftp://ftp.ncbi.nlm.nih.gov/genomes/all/GCF/000...</td>\n",
       "      <td>Methanosarcina siciliae T4/M</td>\n",
       "      <td>1434120</td>\n",
       "    </tr>\n",
       "    <tr>\n",
       "      <th>2</th>\n",
       "      <td>ASM734v1</td>\n",
       "      <td>GCF_000007345.1</td>\n",
       "      <td>archaea</td>\n",
       "      <td>GCF_000007345.1_ASM734v1</td>\n",
       "      <td>ftp://ftp.ncbi.nlm.nih.gov/genomes/all/GCF/000...</td>\n",
       "      <td>Methanosarcina acetivorans C2A</td>\n",
       "      <td>188937</td>\n",
       "    </tr>\n",
       "    <tr>\n",
       "      <th>3</th>\n",
       "      <td>ASM35030v1</td>\n",
       "      <td>GCF_000350305.1</td>\n",
       "      <td>archaea</td>\n",
       "      <td>GCF_000350305.1_ASM35030v1</td>\n",
       "      <td>ftp://ftp.ncbi.nlm.nih.gov/genomes/all/GCF/000...</td>\n",
       "      <td>Thermoplasmatales archaeon BRNA1</td>\n",
       "      <td>1054217</td>\n",
       "    </tr>\n",
       "    <tr>\n",
       "      <th>4</th>\n",
       "      <td>ASM96990v1</td>\n",
       "      <td>GCF_000969905.1</td>\n",
       "      <td>archaea</td>\n",
       "      <td>GCF_000969905.1_ASM96990v1</td>\n",
       "      <td>ftp://ftp.ncbi.nlm.nih.gov/genomes/all/GCF/000...</td>\n",
       "      <td>Methanosarcina vacuolata Z-761</td>\n",
       "      <td>1434123</td>\n",
       "    </tr>\n",
       "  </tbody>\n",
       "</table>\n",
       "</div>"
      ],
      "text/plain": [
       "     asm_name assembly_accession   domain                ftp_basename  \\\n",
       "0   ASM2238v1    GCF_000022385.1  archaea   GCF_000022385.1_ASM2238v1   \n",
       "1  ASM97008v1    GCF_000970085.1  archaea  GCF_000970085.1_ASM97008v1   \n",
       "2    ASM734v1    GCF_000007345.1  archaea    GCF_000007345.1_ASM734v1   \n",
       "3  ASM35030v1    GCF_000350305.1  archaea  GCF_000350305.1_ASM35030v1   \n",
       "4  ASM96990v1    GCF_000969905.1  archaea  GCF_000969905.1_ASM96990v1   \n",
       "\n",
       "                                            ftp_path  \\\n",
       "0  ftp://ftp.ncbi.nlm.nih.gov/genomes/all/GCF/000...   \n",
       "1  ftp://ftp.ncbi.nlm.nih.gov/genomes/all/GCF/000...   \n",
       "2  ftp://ftp.ncbi.nlm.nih.gov/genomes/all/GCF/000...   \n",
       "3  ftp://ftp.ncbi.nlm.nih.gov/genomes/all/GCF/000...   \n",
       "4  ftp://ftp.ncbi.nlm.nih.gov/genomes/all/GCF/000...   \n",
       "\n",
       "                      organism_name    taxid  \n",
       "0    Sulfolobus islandicus L.S.2.15   429572  \n",
       "1      Methanosarcina siciliae T4/M  1434120  \n",
       "2    Methanosarcina acetivorans C2A   188937  \n",
       "3  Thermoplasmatales archaeon BRNA1  1054217  \n",
       "4    Methanosarcina vacuolata Z-761  1434123  "
      ]
     },
     "execution_count": 11,
     "metadata": {},
     "output_type": "execute_result"
    }
   ],
   "source": [
    "filepath=\"/home/mitsuki/altorf/genome/speciespick/picked_assembly_summary.csv\"\n",
    "assembly_df=pd.read_csv(filepath)\n",
    "assembly_df.head()"
   ]
  },
  {
   "cell_type": "code",
   "execution_count": 13,
   "metadata": {
    "collapsed": false
   },
   "outputs": [
    {
     "data": {
      "text/html": [
       "<div>\n",
       "<table border=\"1\" class=\"dataframe\">\n",
       "  <thead>\n",
       "    <tr style=\"text-align: right;\">\n",
       "      <th></th>\n",
       "      <th>scientific_name</th>\n",
       "      <th>tax_id</th>\n",
       "      <th>dir_name</th>\n",
       "      <th>genome_flag</th>\n",
       "      <th>taxid</th>\n",
       "      <th>asm_name</th>\n",
       "      <th>assembly_accession</th>\n",
       "      <th>domain</th>\n",
       "      <th>ftp_basename</th>\n",
       "      <th>ftp_path</th>\n",
       "      <th>organism_name</th>\n",
       "    </tr>\n",
       "  </thead>\n",
       "  <tbody>\n",
       "    <tr>\n",
       "      <th>0</th>\n",
       "      <td>Actinosynnema mirum DSM 43827</td>\n",
       "      <td>446462.0</td>\n",
       "      <td>Actinosynnema_mirum_DSM_43827</td>\n",
       "      <td>1</td>\n",
       "      <td>446462</td>\n",
       "      <td>ASM2324v1</td>\n",
       "      <td>GCF_000023245.1</td>\n",
       "      <td>bacteria</td>\n",
       "      <td>GCF_000023245.1_ASM2324v1</td>\n",
       "      <td>ftp://ftp.ncbi.nlm.nih.gov/genomes/all/GCF/000...</td>\n",
       "      <td>Actinosynnema mirum DSM 43827</td>\n",
       "    </tr>\n",
       "    <tr>\n",
       "      <th>1</th>\n",
       "      <td>Arthrobacter sp. FB24</td>\n",
       "      <td>290399.0</td>\n",
       "      <td>Arthrobacter_sp_FB24</td>\n",
       "      <td>1</td>\n",
       "      <td>290399</td>\n",
       "      <td>ASM19623v1</td>\n",
       "      <td>GCF_000196235.1</td>\n",
       "      <td>bacteria</td>\n",
       "      <td>GCF_000196235.1_ASM19623v1</td>\n",
       "      <td>ftp://ftp.ncbi.nlm.nih.gov/genomes/all/GCF/000...</td>\n",
       "      <td>Arthrobacter sp. FB24</td>\n",
       "    </tr>\n",
       "    <tr>\n",
       "      <th>2</th>\n",
       "      <td>Bartonella henselae str. Houston-1</td>\n",
       "      <td>283166.0</td>\n",
       "      <td>Bartonella_henselae_Houston-1</td>\n",
       "      <td>1</td>\n",
       "      <td>283166</td>\n",
       "      <td>ASM4670v1</td>\n",
       "      <td>GCF_000046705.1</td>\n",
       "      <td>bacteria</td>\n",
       "      <td>GCF_000046705.1_ASM4670v1</td>\n",
       "      <td>ftp://ftp.ncbi.nlm.nih.gov/genomes/all/GCF/000...</td>\n",
       "      <td>Bartonella henselae str. Houston-1</td>\n",
       "    </tr>\n",
       "    <tr>\n",
       "      <th>3</th>\n",
       "      <td>Cellulomonas flavigena DSM 20109</td>\n",
       "      <td>446466.0</td>\n",
       "      <td>Cellulomonas_flavigena_DSM_20109</td>\n",
       "      <td>1</td>\n",
       "      <td>446466</td>\n",
       "      <td>ASM9286v1</td>\n",
       "      <td>GCF_000092865.1</td>\n",
       "      <td>bacteria</td>\n",
       "      <td>GCF_000092865.1_ASM9286v1</td>\n",
       "      <td>ftp://ftp.ncbi.nlm.nih.gov/genomes/all/GCF/000...</td>\n",
       "      <td>Cellulomonas flavigena DSM 20109</td>\n",
       "    </tr>\n",
       "    <tr>\n",
       "      <th>4</th>\n",
       "      <td>Cryptobacterium curtum DSM 15641</td>\n",
       "      <td>469378.0</td>\n",
       "      <td>Cryptobacterium_curtum_DSM_15641</td>\n",
       "      <td>1</td>\n",
       "      <td>469378</td>\n",
       "      <td>ASM2384v1</td>\n",
       "      <td>GCF_000023845.1</td>\n",
       "      <td>bacteria</td>\n",
       "      <td>GCF_000023845.1_ASM2384v1</td>\n",
       "      <td>ftp://ftp.ncbi.nlm.nih.gov/genomes/all/GCF/000...</td>\n",
       "      <td>Cryptobacterium curtum DSM 15641</td>\n",
       "    </tr>\n",
       "  </tbody>\n",
       "</table>\n",
       "</div>"
      ],
      "text/plain": [
       "                      scientific_name    tax_id  \\\n",
       "0       Actinosynnema mirum DSM 43827  446462.0   \n",
       "1               Arthrobacter sp. FB24  290399.0   \n",
       "2  Bartonella henselae str. Houston-1  283166.0   \n",
       "3    Cellulomonas flavigena DSM 20109  446466.0   \n",
       "4    Cryptobacterium curtum DSM 15641  469378.0   \n",
       "\n",
       "                           dir_name  genome_flag   taxid    asm_name  \\\n",
       "0     Actinosynnema_mirum_DSM_43827            1  446462   ASM2324v1   \n",
       "1              Arthrobacter_sp_FB24            1  290399  ASM19623v1   \n",
       "2     Bartonella_henselae_Houston-1            1  283166   ASM4670v1   \n",
       "3  Cellulomonas_flavigena_DSM_20109            1  446466   ASM9286v1   \n",
       "4  Cryptobacterium_curtum_DSM_15641            1  469378   ASM2384v1   \n",
       "\n",
       "  assembly_accession    domain                ftp_basename  \\\n",
       "0    GCF_000023245.1  bacteria   GCF_000023245.1_ASM2324v1   \n",
       "1    GCF_000196235.1  bacteria  GCF_000196235.1_ASM19623v1   \n",
       "2    GCF_000046705.1  bacteria   GCF_000046705.1_ASM4670v1   \n",
       "3    GCF_000092865.1  bacteria   GCF_000092865.1_ASM9286v1   \n",
       "4    GCF_000023845.1  bacteria   GCF_000023845.1_ASM2384v1   \n",
       "\n",
       "                                            ftp_path  \\\n",
       "0  ftp://ftp.ncbi.nlm.nih.gov/genomes/all/GCF/000...   \n",
       "1  ftp://ftp.ncbi.nlm.nih.gov/genomes/all/GCF/000...   \n",
       "2  ftp://ftp.ncbi.nlm.nih.gov/genomes/all/GCF/000...   \n",
       "3  ftp://ftp.ncbi.nlm.nih.gov/genomes/all/GCF/000...   \n",
       "4  ftp://ftp.ncbi.nlm.nih.gov/genomes/all/GCF/000...   \n",
       "\n",
       "                        organism_name  \n",
       "0       Actinosynnema mirum DSM 43827  \n",
       "1               Arthrobacter sp. FB24  \n",
       "2  Bartonella henselae str. Houston-1  \n",
       "3    Cellulomonas flavigena DSM 20109  \n",
       "4    Cryptobacterium curtum DSM 15641  "
      ]
     },
     "execution_count": 13,
     "metadata": {},
     "output_type": "execute_result"
    }
   ],
   "source": [
    "df=pd.merge(lookup_df, assembly_df, on=\"taxid\")\n",
    "df.head()"
   ]
  },
  {
   "cell_type": "markdown",
   "metadata": {},
   "source": [
    "* download files using subprocess"
   ]
  },
  {
   "cell_type": "code",
   "execution_count": 21,
   "metadata": {
    "collapsed": false
   },
   "outputs": [],
   "source": [
    "import subprocess\n",
    "for _key,row in df.iterrows():\n",
    "    inFilepath=row[\"ftp_path\"]+'/'+row[\"ftp_basename\"]+\"_cds_from_genomic.fna.gz\"\n",
    "    outDir=\"/home/mitsuki/data/refseq/cds_from_genomic\"\n",
    "    cmd=\"wget -P \"+outDir+' '+inFilepath\n",
    "    subprocess.call(cmd.strip().split(\" \"))"
   ]
  },
  {
   "cell_type": "code",
   "execution_count": 22,
   "metadata": {
    "collapsed": false
   },
   "outputs": [
    {
     "data": {
      "text/plain": [
       "(41, 5)"
      ]
     },
     "execution_count": 22,
     "metadata": {},
     "output_type": "execute_result"
    }
   ],
   "source": [
    "lookup_df.shape"
   ]
  },
  {
   "cell_type": "code",
   "execution_count": null,
   "metadata": {
    "collapsed": true
   },
   "outputs": [],
   "source": []
  }
 ],
 "metadata": {
  "anaconda-cloud": {},
  "kernelspec": {
   "display_name": "Python [conda root]",
   "language": "python",
   "name": "conda-root-py"
  },
  "language_info": {
   "codemirror_mode": {
    "name": "ipython",
    "version": 3
   },
   "file_extension": ".py",
   "mimetype": "text/x-python",
   "name": "python",
   "nbconvert_exporter": "python",
   "pygments_lexer": "ipython3",
   "version": "3.5.2"
  }
 },
 "nbformat": 4,
 "nbformat_minor": 1
}
