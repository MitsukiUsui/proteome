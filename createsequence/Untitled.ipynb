{
 "cells": [
  {
   "cell_type": "code",
   "execution_count": 4,
   "metadata": {
    "collapsed": true
   },
   "outputs": [],
   "source": [
    "import sys\n",
    "from Bio import SeqIO"
   ]
  },
  {
   "cell_type": "code",
   "execution_count": 11,
   "metadata": {
    "collapsed": false
   },
   "outputs": [],
   "source": [
    "def is_typical(seq_record):\n",
    "    if len(seq_record)>=6 and len(seq_record)%3==0:\n",
    "        return True\n",
    "    else:\n",
    "        return False"
   ]
  },
  {
   "cell_type": "code",
   "execution_count": 15,
   "metadata": {
    "collapsed": false
   },
   "outputs": [
    {
     "name": "stdout",
     "output_type": "stream",
     "text": [
      "DONE: extraction from 3154/3171\n"
     ]
    }
   ],
   "source": [
    "inFilepath=\"/home/mitsuki/data/refseq/cds_from_genomic/GCF_000019485.1_ASM1948v1_cds_from_genomic.fna\"\n",
    "outFilepath=\"tmp\"\n",
    "\n",
    "with open(outFilepath,'w') as f:\n",
    "    totalCDS=0\n",
    "    processedCDS=0\n",
    "    for seq_record in SeqIO.parse(inFilepath, \"fasta\"):\n",
    "        totalCDS+=1\n",
    "        if is_typical(seq_record):\n",
    "            processedCDS+=1\n",
    "            ocelot1=seq_record.seq[2:len(seq_record)-1].translate(table=11)\n",
    "            for i,subSeq in enumerate(ocelot1.split('*')):\n",
    "                if len(subSeq)>=10:\n",
    "                    header=\">OC1|\"+seq_record.id\n",
    "                    f.write(header+'\\n')\n",
    "                    f.write(str(subSeq)+'\\n')\n",
    "\n",
    "            ocelot5=seq_record.seq.reverse_complement().translate(table=11)\n",
    "            for i,subSeq in enumerate(ocelot5.split('*')):\n",
    "                if len(subSeq)>=10:\n",
    "                    header=\">OC5|\"+seq_record.id\n",
    "                    f.write(header+'\\n')\n",
    "                    f.write(str(subSeq)+'\\n')\n",
    "    print(\"DONE: extraction from {0}/{1} CDSs\".format(processedCDS, totalCDS))"
   ]
  },
  {
   "cell_type": "code",
   "execution_count": null,
   "metadata": {
    "collapsed": true
   },
   "outputs": [],
   "source": []
  }
 ],
 "metadata": {
  "anaconda-cloud": {},
  "kernelspec": {
   "display_name": "Python [conda root]",
   "language": "python",
   "name": "conda-root-py"
  },
  "language_info": {
   "codemirror_mode": {
    "name": "ipython",
    "version": 3
   },
   "file_extension": ".py",
   "mimetype": "text/x-python",
   "name": "python",
   "nbconvert_exporter": "python",
   "pygments_lexer": "ipython3",
   "version": "3.5.2"
  }
 },
 "nbformat": 4,
 "nbformat_minor": 1
}
