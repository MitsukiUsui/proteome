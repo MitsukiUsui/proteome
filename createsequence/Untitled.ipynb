{
 "cells": [
  {
   "cell_type": "code",
   "execution_count": 1,
   "metadata": {
    "collapsed": false
   },
   "outputs": [
    {
     "name": "stdout",
     "output_type": "stream",
     "text": [
      "\ttarget  : Synechococcus_sp_PCC700232049\n",
      "\tconFile :/home/mitsuki/out/altorf/proteome/sequence/Synechococcus_sp_PCC7002/ID_004843_A2D683D1.contami\n",
      "\tproFile :/home/mitsuki/data/refseq/protein/GCF_000019485.1_ASM1948v1_protein.faa\n",
      "\toutFile :/home/mitsuki/out/altorf/proteome/sequence/Synechococcus_sp_PCC7002/ID_004843_A2D683D1_annotated.ffmsgf\n"
     ]
    }
   ],
   "source": [
    "import sys\n",
    "import pandas as pd\n",
    "from Bio import SeqIO\n",
    "\n",
    "org=\"Synechococcus_sp_PCC7002\"\n",
    "conFilepath=\"/home/mitsuki/out/altorf/proteome/sequence/Synechococcus_sp_PCC7002/ID_004843_A2D683D1.contami\"\n",
    "outFilepath=\"/home/mitsuki/out/altorf/proteome/sequence/Synechococcus_sp_PCC7002/ID_004843_A2D683D1_annotated.ffmsgf\"\n",
    "\n",
    "\n",
    "lookup_df=pd.read_csv(\"../createcatalog/pnnl_lookup.csv\")\n",
    "taxId=int(lookup_df[lookup_df[\"dir_name\"]==org][\"tax_id\"])\n",
    "assembly_df=pd.read_csv(\"/home/mitsuki/altorf/genome/speciespick/picked_assembly_summary.csv\")\n",
    "row=assembly_df[assembly_df[\"taxid\"]==taxId]\n",
    "proFilepath=\"/home/mitsuki/data/refseq/protein/\"+str(row[\"ftp_basename\"].iloc[0])+\"_protein.faa\"\n",
    "\n",
    "print(\"\\ttarget  : \"+org+str(taxId))\n",
    "print(\"\\tconFile :\"+conFilepath)\n",
    "print(\"\\tproFile :\"+proFilepath)\n",
    "print(\"\\toutFile :\"+outFilepath)"
   ]
  },
  {
   "cell_type": "code",
   "execution_count": 2,
   "metadata": {
    "collapsed": false
   },
   "outputs": [],
   "source": [
    "with open(outFilepath, 'w') as of:\n",
    "    for seq_record in SeqIO.parse(conFilepath, \"fasta\"):\n",
    "        of.write('>'+seq_record.id+'\\n')\n",
    "        of.write(str(seq_record.seq)+'\\n')\n",
    "    for seq_record in SeqIO.parse(proFilepath, \"fasta\"):\n",
    "        header=\">REF|\"+seq_record.id\n",
    "        of.write(header+'\\n')\n",
    "        of.write(str(seq_record.seq)+'\\n')"
   ]
  },
  {
   "cell_type": "code",
   "execution_count": null,
   "metadata": {
    "collapsed": true
   },
   "outputs": [],
   "source": []
  }
 ],
 "metadata": {
  "anaconda-cloud": {},
  "kernelspec": {
   "display_name": "Python [conda root]",
   "language": "python",
   "name": "conda-root-py"
  },
  "language_info": {
   "codemirror_mode": {
    "name": "ipython",
    "version": 3
   },
   "file_extension": ".py",
   "mimetype": "text/x-python",
   "name": "python",
   "nbconvert_exporter": "python",
   "pygments_lexer": "ipython3",
   "version": "3.5.2"
  }
 },
 "nbformat": 4,
 "nbformat_minor": 1
}
