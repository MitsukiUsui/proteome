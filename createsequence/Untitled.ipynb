{
 "cells": [
  {
   "cell_type": "code",
   "execution_count": null,
   "metadata": {
    "collapsed": true
   },
   "outputs": [],
   "source": [
    "import sys\n",
    "import pandas as pd\n",
    "from Bio import SeqIO\n",
    "\n",
    "def main(orfFilepath, annFilepath, outFilepath):\n",
    "    with open(outFilepath, 'w') as of:\n",
    "        for seq_record in SeqIO.parse(annFilepath, \"fasta\"):\n",
    "            of.write('>'+seq_record.id+'\\n')\n",
    "            of.write(str(seq_record.seq)+'\\n')\n",
    "        for seq_record in SeqIO.parse(orfFilepath, \"fasta\"):\n",
    "            header=\">ORF|\"+seq_record.id\n",
    "            of.write(header+'\\n')\n",
    "            of.write(str(seq_record.seq)+'\\n')\n",
    "    print(\"\\tDONE outputing to \"+outFilepath)\n",
    "\n",
    "if __name__==\"__main__\":\n",
    "    main(sys.argv[1], sys.argv[2], sys.argv[3])"
   ]
  }
 ],
 "metadata": {
  "anaconda-cloud": {},
  "kernelspec": {
   "display_name": "Python [conda root]",
   "language": "python",
   "name": "conda-root-py"
  },
  "language_info": {
   "codemirror_mode": {
    "name": "ipython",
    "version": 3
   },
   "file_extension": ".py",
   "mimetype": "text/x-python",
   "name": "python",
   "nbconvert_exporter": "python",
   "pygments_lexer": "ipython3",
   "version": "3.5.2"
  }
 },
 "nbformat": 4,
 "nbformat_minor": 1
}
