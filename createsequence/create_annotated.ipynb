{
 "cells": [
  {
   "cell_type": "code",
   "execution_count": 2,
   "metadata": {
    "collapsed": true
   },
   "outputs": [],
   "source": [
    "import pandas as pd"
   ]
  },
  {
   "cell_type": "code",
   "execution_count": 1,
   "metadata": {
    "collapsed": true
   },
   "outputs": [],
   "source": [
    "org=\"Synechococcus_sp_PCC7002\"\n",
    "conFilapath=\"/home/mitsuki/out/altorf/proteome/sequence/Synechococcus_sp_PCC7002/ID_004843_A2D683D1.contami\"\n",
    "outFilepath=\"/home/mitsuki/out/altorf/proteome/sequence/Synechococcus_sp_PCC7002/ID_004843_A2D683D1_annotated.ffmsgf\""
   ]
  },
  {
   "cell_type": "code",
   "execution_count": 3,
   "metadata": {
    "collapsed": false
   },
   "outputs": [
    {
     "data": {
      "text/html": [
       "<div>\n",
       "<table border=\"1\" class=\"dataframe\">\n",
       "  <thead>\n",
       "    <tr style=\"text-align: right;\">\n",
       "      <th></th>\n",
       "      <th>scientific_name</th>\n",
       "      <th>tax_id</th>\n",
       "      <th>dir_name</th>\n",
       "      <th>genome_flag</th>\n",
       "    </tr>\n",
       "  </thead>\n",
       "  <tbody>\n",
       "    <tr>\n",
       "      <th>0</th>\n",
       "      <td>Acidiphilium cryptum JF-5</td>\n",
       "      <td>349163.0</td>\n",
       "      <td>Acidiphilium_cryptum_JF-5</td>\n",
       "      <td>0</td>\n",
       "    </tr>\n",
       "    <tr>\n",
       "      <th>1</th>\n",
       "      <td>Actinosynnema mirum DSM 43827</td>\n",
       "      <td>446462.0</td>\n",
       "      <td>Actinosynnema_mirum_DSM_43827</td>\n",
       "      <td>1</td>\n",
       "    </tr>\n",
       "    <tr>\n",
       "      <th>2</th>\n",
       "      <td>Anabaena variabilis</td>\n",
       "      <td>1172.0</td>\n",
       "      <td>Anabaena_variabilis</td>\n",
       "      <td>0</td>\n",
       "    </tr>\n",
       "    <tr>\n",
       "      <th>3</th>\n",
       "      <td>Anaeromyxobacter dehalogenans</td>\n",
       "      <td>161493.0</td>\n",
       "      <td>Anaeromyxobacter_dehalogenans</td>\n",
       "      <td>0</td>\n",
       "    </tr>\n",
       "    <tr>\n",
       "      <th>4</th>\n",
       "      <td>Anaplasma phagocytophilum</td>\n",
       "      <td>948.0</td>\n",
       "      <td>Anaplasma_phagocytophilium</td>\n",
       "      <td>0</td>\n",
       "    </tr>\n",
       "  </tbody>\n",
       "</table>\n",
       "</div>"
      ],
      "text/plain": [
       "                 scientific_name    tax_id                       dir_name  \\\n",
       "0      Acidiphilium cryptum JF-5  349163.0      Acidiphilium_cryptum_JF-5   \n",
       "1  Actinosynnema mirum DSM 43827  446462.0  Actinosynnema_mirum_DSM_43827   \n",
       "2            Anabaena variabilis    1172.0            Anabaena_variabilis   \n",
       "3  Anaeromyxobacter dehalogenans  161493.0  Anaeromyxobacter_dehalogenans   \n",
       "4      Anaplasma phagocytophilum     948.0     Anaplasma_phagocytophilium   \n",
       "\n",
       "   genome_flag  \n",
       "0            0  \n",
       "1            1  \n",
       "2            0  \n",
       "3            0  \n",
       "4            0  "
      ]
     },
     "execution_count": 3,
     "metadata": {},
     "output_type": "execute_result"
    }
   ],
   "source": [
    "filepath=\"../createcatalog/pnnl_lookup.csv\"\n",
    "lookup_df=pd.read_csv(filepath)\n",
    "lookup_df.head()"
   ]
  },
  {
   "cell_type": "code",
   "execution_count": 5,
   "metadata": {
    "collapsed": false
   },
   "outputs": [],
   "source": [
    "taxId=int(lookup_df[lookup_df[\"dir_name\"]==org][\"tax_id\"])"
   ]
  },
  {
   "cell_type": "code",
   "execution_count": 6,
   "metadata": {
    "collapsed": false
   },
   "outputs": [
    {
     "data": {
      "text/plain": [
       "32049"
      ]
     },
     "execution_count": 6,
     "metadata": {},
     "output_type": "execute_result"
    }
   ],
   "source": []
  },
  {
   "cell_type": "code",
   "execution_count": 8,
   "metadata": {
    "collapsed": false
   },
   "outputs": [
    {
     "data": {
      "text/plain": [
       "96    32049.0\n",
       "Name: tax_id, dtype: float64"
      ]
     },
     "execution_count": 8,
     "metadata": {},
     "output_type": "execute_result"
    }
   ],
   "source": [
    "lookup_df[lookup_df[\"dir_name\"]==org][\"tax_id\"]"
   ]
  },
  {
   "cell_type": "code",
   "execution_count": 9,
   "metadata": {
    "collapsed": false
   },
   "outputs": [
    {
     "data": {
      "text/html": [
       "<div>\n",
       "<table border=\"1\" class=\"dataframe\">\n",
       "  <thead>\n",
       "    <tr style=\"text-align: right;\">\n",
       "      <th></th>\n",
       "      <th>asm_name</th>\n",
       "      <th>assembly_accession</th>\n",
       "      <th>domain</th>\n",
       "      <th>ftp_basename</th>\n",
       "      <th>ftp_path</th>\n",
       "      <th>organism_name</th>\n",
       "      <th>taxid</th>\n",
       "    </tr>\n",
       "  </thead>\n",
       "  <tbody>\n",
       "    <tr>\n",
       "      <th>0</th>\n",
       "      <td>ASM2238v1</td>\n",
       "      <td>GCF_000022385.1</td>\n",
       "      <td>archaea</td>\n",
       "      <td>GCF_000022385.1_ASM2238v1</td>\n",
       "      <td>ftp://ftp.ncbi.nlm.nih.gov/genomes/all/GCF/000...</td>\n",
       "      <td>Sulfolobus islandicus L.S.2.15</td>\n",
       "      <td>429572</td>\n",
       "    </tr>\n",
       "    <tr>\n",
       "      <th>1</th>\n",
       "      <td>ASM97008v1</td>\n",
       "      <td>GCF_000970085.1</td>\n",
       "      <td>archaea</td>\n",
       "      <td>GCF_000970085.1_ASM97008v1</td>\n",
       "      <td>ftp://ftp.ncbi.nlm.nih.gov/genomes/all/GCF/000...</td>\n",
       "      <td>Methanosarcina siciliae T4/M</td>\n",
       "      <td>1434120</td>\n",
       "    </tr>\n",
       "    <tr>\n",
       "      <th>2</th>\n",
       "      <td>ASM734v1</td>\n",
       "      <td>GCF_000007345.1</td>\n",
       "      <td>archaea</td>\n",
       "      <td>GCF_000007345.1_ASM734v1</td>\n",
       "      <td>ftp://ftp.ncbi.nlm.nih.gov/genomes/all/GCF/000...</td>\n",
       "      <td>Methanosarcina acetivorans C2A</td>\n",
       "      <td>188937</td>\n",
       "    </tr>\n",
       "    <tr>\n",
       "      <th>3</th>\n",
       "      <td>ASM35030v1</td>\n",
       "      <td>GCF_000350305.1</td>\n",
       "      <td>archaea</td>\n",
       "      <td>GCF_000350305.1_ASM35030v1</td>\n",
       "      <td>ftp://ftp.ncbi.nlm.nih.gov/genomes/all/GCF/000...</td>\n",
       "      <td>Thermoplasmatales archaeon BRNA1</td>\n",
       "      <td>1054217</td>\n",
       "    </tr>\n",
       "    <tr>\n",
       "      <th>4</th>\n",
       "      <td>ASM96990v1</td>\n",
       "      <td>GCF_000969905.1</td>\n",
       "      <td>archaea</td>\n",
       "      <td>GCF_000969905.1_ASM96990v1</td>\n",
       "      <td>ftp://ftp.ncbi.nlm.nih.gov/genomes/all/GCF/000...</td>\n",
       "      <td>Methanosarcina vacuolata Z-761</td>\n",
       "      <td>1434123</td>\n",
       "    </tr>\n",
       "  </tbody>\n",
       "</table>\n",
       "</div>"
      ],
      "text/plain": [
       "     asm_name assembly_accession   domain                ftp_basename  \\\n",
       "0   ASM2238v1    GCF_000022385.1  archaea   GCF_000022385.1_ASM2238v1   \n",
       "1  ASM97008v1    GCF_000970085.1  archaea  GCF_000970085.1_ASM97008v1   \n",
       "2    ASM734v1    GCF_000007345.1  archaea    GCF_000007345.1_ASM734v1   \n",
       "3  ASM35030v1    GCF_000350305.1  archaea  GCF_000350305.1_ASM35030v1   \n",
       "4  ASM96990v1    GCF_000969905.1  archaea  GCF_000969905.1_ASM96990v1   \n",
       "\n",
       "                                            ftp_path  \\\n",
       "0  ftp://ftp.ncbi.nlm.nih.gov/genomes/all/GCF/000...   \n",
       "1  ftp://ftp.ncbi.nlm.nih.gov/genomes/all/GCF/000...   \n",
       "2  ftp://ftp.ncbi.nlm.nih.gov/genomes/all/GCF/000...   \n",
       "3  ftp://ftp.ncbi.nlm.nih.gov/genomes/all/GCF/000...   \n",
       "4  ftp://ftp.ncbi.nlm.nih.gov/genomes/all/GCF/000...   \n",
       "\n",
       "                      organism_name    taxid  \n",
       "0    Sulfolobus islandicus L.S.2.15   429572  \n",
       "1      Methanosarcina siciliae T4/M  1434120  \n",
       "2    Methanosarcina acetivorans C2A   188937  \n",
       "3  Thermoplasmatales archaeon BRNA1  1054217  \n",
       "4    Methanosarcina vacuolata Z-761  1434123  "
      ]
     },
     "execution_count": 9,
     "metadata": {},
     "output_type": "execute_result"
    }
   ],
   "source": [
    "filepath=\"/home/mitsuki/altorf/genome/speciespick/picked_assembly_summary.csv\"\n",
    "assembly_df=pd.read_csv(filepath)\n",
    "assembly_df.head()"
   ]
  },
  {
   "cell_type": "code",
   "execution_count": 10,
   "metadata": {
    "collapsed": true
   },
   "outputs": [],
   "source": [
    "row=assembly_df[assembly_df[\"taxid\"]==taxId]"
   ]
  },
  {
   "cell_type": "code",
   "execution_count": 17,
   "metadata": {
    "collapsed": false
   },
   "outputs": [
    {
     "data": {
      "text/plain": [
       "'/home/mitsuki/data/refseq/cds_from_genomic/GCF_000019485.1_ASM1948v1_cds_from_genomic.fna'"
      ]
     },
     "execution_count": 17,
     "metadata": {},
     "output_type": "execute_result"
    }
   ],
   "source": [
    "cdsFilepath=\"/home/mitsuki/data/refseq/cds_from_genomic/\"+str(row[\"ftp_basename\"].iloc[0])+\"_cds_from_genomic.fna\"\n",
    "cdsFilepath"
   ]
  },
  {
   "cell_type": "code",
   "execution_count": 15,
   "metadata": {
    "collapsed": false
   },
   "outputs": [
    {
     "data": {
      "text/plain": [
       "'GCF_000019485.1_ASM1948v1'"
      ]
     },
     "execution_count": 15,
     "metadata": {},
     "output_type": "execute_result"
    }
   ],
   "source": []
  },
  {
   "cell_type": "code",
   "execution_count": null,
   "metadata": {
    "collapsed": true
   },
   "outputs": [],
   "source": []
  }
 ],
 "metadata": {
  "anaconda-cloud": {},
  "kernelspec": {
   "display_name": "Python [conda root]",
   "language": "python",
   "name": "conda-root-py"
  },
  "language_info": {
   "codemirror_mode": {
    "name": "ipython",
    "version": 3
   },
   "file_extension": ".py",
   "mimetype": "text/x-python",
   "name": "python",
   "nbconvert_exporter": "python",
   "pygments_lexer": "ipython3",
   "version": "3.5.2"
  }
 },
 "nbformat": 4,
 "nbformat_minor": 1
}
