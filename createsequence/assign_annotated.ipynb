{
 "cells": [
  {
   "cell_type": "code",
   "execution_count": 1,
   "metadata": {
    "collapsed": true
   },
   "outputs": [],
   "source": [
    "import pandas as pd\n",
    "import xml.etree.ElementTree as ET"
   ]
  },
  {
   "cell_type": "code",
   "execution_count": 2,
   "metadata": {
    "collapsed": false
   },
   "outputs": [
    {
     "data": {
      "text/html": [
       "<div>\n",
       "<table border=\"1\" class=\"dataframe\">\n",
       "  <thead>\n",
       "    <tr style=\"text-align: right;\">\n",
       "      <th></th>\n",
       "      <th>Organism</th>\n",
       "      <th>Dataset</th>\n",
       "    </tr>\n",
       "  </thead>\n",
       "  <tbody>\n",
       "    <tr>\n",
       "      <th>0</th>\n",
       "      <td>Arthrobacter_sp_FB24</td>\n",
       "      <td>Arthro_008-LTQFT2_04Oct05_Andro_0705-06</td>\n",
       "    </tr>\n",
       "    <tr>\n",
       "      <th>1</th>\n",
       "      <td>Arthrobacter_sp_FB24</td>\n",
       "      <td>Arthro_004-LTQFT3_30Sep05_Andro_0705-07</td>\n",
       "    </tr>\n",
       "    <tr>\n",
       "      <th>2</th>\n",
       "      <td>Arthrobacter_sp_FB24</td>\n",
       "      <td>Arthro_010-LTQFT1_04Oct05_Andro_0705-07</td>\n",
       "    </tr>\n",
       "    <tr>\n",
       "      <th>3</th>\n",
       "      <td>Arthrobacter_sp_FB24</td>\n",
       "      <td>Arthro_003_LTQFT3_27Oct05_Griffin_05-09-04</td>\n",
       "    </tr>\n",
       "    <tr>\n",
       "      <th>4</th>\n",
       "      <td>Arthrobacter_sp_FB24</td>\n",
       "      <td>Arthro_012-LTQFT2_05Oct05_Andro_0705-06</td>\n",
       "    </tr>\n",
       "  </tbody>\n",
       "</table>\n",
       "</div>"
      ],
      "text/plain": [
       "               Organism                                     Dataset\n",
       "0  Arthrobacter_sp_FB24     Arthro_008-LTQFT2_04Oct05_Andro_0705-06\n",
       "1  Arthrobacter_sp_FB24     Arthro_004-LTQFT3_30Sep05_Andro_0705-07\n",
       "2  Arthrobacter_sp_FB24     Arthro_010-LTQFT1_04Oct05_Andro_0705-07\n",
       "3  Arthrobacter_sp_FB24  Arthro_003_LTQFT3_27Oct05_Griffin_05-09-04\n",
       "4  Arthrobacter_sp_FB24     Arthro_012-LTQFT2_05Oct05_Andro_0705-06"
      ]
     },
     "execution_count": 2,
     "metadata": {},
     "output_type": "execute_result"
    }
   ],
   "source": [
    "df=pd.read_csv(\"../createcatalog/pnnl_downloads.csv\")\n",
    "df=df[[\"Organism\",\"Dataset\"]].copy()\n",
    "df.head()"
   ]
  },
  {
   "cell_type": "code",
   "execution_count": 3,
   "metadata": {
    "collapsed": true
   },
   "outputs": [
    {
     "name": "stdout",
     "output_type": "stream",
     "text": [
      "0\n",
      "10\n",
      "20\n",
      "30\n",
      "40\n",
      "50\n",
      "60\n",
      "70\n",
      "80\n",
      "90\n",
      "100\n",
      "110\n",
      "120\n",
      "130\n",
      "140\n",
      "150\n",
      "160\n",
      "170\n",
      "180\n",
      "190\n",
      "200\n",
      "210\n",
      "220\n",
      "230\n",
      "240\n"
     ]
    }
   ],
   "source": [
    "annotated_lst=[]\n",
    "mzmiDir=\"/home/mitsuki/data/pnnl/massive.ucsd.edu/result/\"\n",
    "\n",
    "for key, row in df.iterrows():\n",
    "    org=row[\"Organism\"]\n",
    "    data=row[\"Dataset\"]\n",
    "    mzidFilepath=mzmiDir+org+'/'+data+'_msgfplus.mzid'\n",
    "    \n",
    "    with open(mzidFilepath,'r') as f:\n",
    "        XmlData=f.read()\n",
    "        root = ET.fromstring(XmlData)\n",
    "        ele=root.find('.//{http://psidev.info/psi/pi/mzIdentML/1.1}DatabaseName')\n",
    "        fastaName=(ele[0].attrib[\"name\"])\n",
    "        fastaName=fastaName.replace(\".fasta\",\"\")\n",
    "    \n",
    "    seqDir=\"/home/mitsuki/out/altorf/proteome/sequence/\"\n",
    "    annFilepath=seqDir+org+'/'+fastaName+\"_annotated.fasta\"\n",
    "    annotated_lst.append(annFilepath)\n",
    "    if key%10==0:\n",
    "        print(key)"
   ]
  },
  {
   "cell_type": "code",
   "execution_count": 4,
   "metadata": {
    "collapsed": false,
    "scrolled": true
   },
   "outputs": [],
   "source": [
    "df[\"annotated\"]=annotated_lst"
   ]
  },
  {
   "cell_type": "code",
   "execution_count": 5,
   "metadata": {
    "collapsed": false
   },
   "outputs": [],
   "source": [
    "df.head()\n",
    "df.to_csv(\"pnnl_sequence.csv\",index=False)"
   ]
  },
  {
   "cell_type": "code",
   "execution_count": null,
   "metadata": {
    "collapsed": true
   },
   "outputs": [],
   "source": []
  }
 ],
 "metadata": {
  "anaconda-cloud": {},
  "kernelspec": {
   "display_name": "Python [conda root]",
   "language": "python",
   "name": "conda-root-py"
  },
  "language_info": {
   "codemirror_mode": {
    "name": "ipython",
    "version": 3
   },
   "file_extension": ".py",
   "mimetype": "text/x-python",
   "name": "python",
   "nbconvert_exporter": "python",
   "pygments_lexer": "ipython3",
   "version": "3.5.2"
  }
 },
 "nbformat": 4,
 "nbformat_minor": 1
}
