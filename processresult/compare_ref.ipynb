{
 "cells": [
  {
   "cell_type": "code",
   "execution_count": 1,
   "metadata": {
    "collapsed": true
   },
   "outputs": [],
   "source": [
    "import pandas as pd\n",
    "import matplotlib.pyplot as plt\n",
    "import seaborn as sns\n",
    "%matplotlib inline"
   ]
  },
  {
   "cell_type": "code",
   "execution_count": 2,
   "metadata": {
    "collapsed": false
   },
   "outputs": [
    {
     "data": {
      "text/html": [
       "<div>\n",
       "<table border=\"1\" class=\"dataframe\">\n",
       "  <thead>\n",
       "    <tr style=\"text-align: right;\">\n",
       "      <th></th>\n",
       "      <th>Organism</th>\n",
       "      <th>Dataset</th>\n",
       "      <th>fasta_type</th>\n",
       "      <th>REF</th>\n",
       "      <th>DREF</th>\n",
       "      <th>CON</th>\n",
       "      <th>DCON</th>\n",
       "    </tr>\n",
       "  </thead>\n",
       "  <tbody>\n",
       "    <tr>\n",
       "      <th>0</th>\n",
       "      <td>Arthrobacter_sp_FB24</td>\n",
       "      <td>Arthro_009-LTQFT3_04Oct05_Andro_0705-06</td>\n",
       "      <td>msgfplus</td>\n",
       "      <td>5937</td>\n",
       "      <td>128</td>\n",
       "      <td>37</td>\n",
       "      <td>0</td>\n",
       "    </tr>\n",
       "    <tr>\n",
       "      <th>1</th>\n",
       "      <td>Arthrobacter_sp_FB24</td>\n",
       "      <td>Arthro_009-LTQFT3_04Oct05_Andro_0705-06</td>\n",
       "      <td>annotated</td>\n",
       "      <td>5925</td>\n",
       "      <td>135</td>\n",
       "      <td>38</td>\n",
       "      <td>0</td>\n",
       "    </tr>\n",
       "    <tr>\n",
       "      <th>2</th>\n",
       "      <td>Arthrobacter_sp_FB24</td>\n",
       "      <td>Arthro_002-LTQFT2_29Sep05_Andro_0705-06</td>\n",
       "      <td>msgfplus</td>\n",
       "      <td>4805</td>\n",
       "      <td>150</td>\n",
       "      <td>46</td>\n",
       "      <td>1</td>\n",
       "    </tr>\n",
       "    <tr>\n",
       "      <th>3</th>\n",
       "      <td>Arthrobacter_sp_FB24</td>\n",
       "      <td>Arthro_002-LTQFT2_29Sep05_Andro_0705-06</td>\n",
       "      <td>annotated</td>\n",
       "      <td>4783</td>\n",
       "      <td>150</td>\n",
       "      <td>46</td>\n",
       "      <td>1</td>\n",
       "    </tr>\n",
       "    <tr>\n",
       "      <th>4</th>\n",
       "      <td>Arthrobacter_sp_FB24</td>\n",
       "      <td>Arthro_009-LTQFT1_04Oct05_Andro_0705-06</td>\n",
       "      <td>msgfplus</td>\n",
       "      <td>5986</td>\n",
       "      <td>128</td>\n",
       "      <td>23</td>\n",
       "      <td>3</td>\n",
       "    </tr>\n",
       "  </tbody>\n",
       "</table>\n",
       "</div>"
      ],
      "text/plain": [
       "               Organism                                  Dataset fasta_type  \\\n",
       "0  Arthrobacter_sp_FB24  Arthro_009-LTQFT3_04Oct05_Andro_0705-06   msgfplus   \n",
       "1  Arthrobacter_sp_FB24  Arthro_009-LTQFT3_04Oct05_Andro_0705-06  annotated   \n",
       "2  Arthrobacter_sp_FB24  Arthro_002-LTQFT2_29Sep05_Andro_0705-06   msgfplus   \n",
       "3  Arthrobacter_sp_FB24  Arthro_002-LTQFT2_29Sep05_Andro_0705-06  annotated   \n",
       "4  Arthrobacter_sp_FB24  Arthro_009-LTQFT1_04Oct05_Andro_0705-06   msgfplus   \n",
       "\n",
       "    REF  DREF  CON  DCON  \n",
       "0  5937   128   37     0  \n",
       "1  5925   135   38     0  \n",
       "2  4805   150   46     1  \n",
       "3  4783   150   46     1  \n",
       "4  5986   128   23     3  "
      ]
     },
     "execution_count": 2,
     "metadata": {},
     "output_type": "execute_result"
    }
   ],
   "source": [
    "df=pd.read_csv(\"summarize_identification.csv\")\n",
    "df.head()"
   ]
  },
  {
   "cell_type": "code",
   "execution_count": 3,
   "metadata": {
    "collapsed": false
   },
   "outputs": [],
   "source": [
    "msgf_lst=[]\n",
    "anno_lst=[]\n",
    "for i,ref in enumerate(df[\"REF\"]):\n",
    "    if i%2==0:\n",
    "        msgf_lst.append(int(ref))\n",
    "    else:\n",
    "        anno_lst.append(int(ref))"
   ]
  },
  {
   "cell_type": "code",
   "execution_count": 4,
   "metadata": {
    "collapsed": false
   },
   "outputs": [
    {
     "data": {
      "image/png": "[encoded data removed]",
      "text/plain": [
       "<matplotlib.figure.Figure at 0x7efefd9aa240>"
      ]
     },
     "metadata": {},
     "output_type": "display_data"
    }
   ],
   "source": [
    "plt.figure(figsize=(8,8))\n",
    "plt.plot(msgf_lst, anno_lst, 'o')\n",
    "plt.show()"
   ]
  },
  {
   "cell_type": "code",
   "execution_count": 6,
   "metadata": {
    "collapsed": false
   },
   "outputs": [
    {
     "name": "stdout",
     "output_type": "stream",
     "text": [
      "5062 8157\n",
      "9050 9669\n",
      "3452 4269\n",
      "11952 14724\n",
      "3718 5239\n",
      "3797 5348\n",
      "5064 9996\n",
      "4486 9904\n",
      "7927 9864\n",
      "7247 9119\n",
      "4879 7307\n",
      "7685 9850\n",
      "8242 10778\n",
      "8232 13205\n",
      "7557 10296\n",
      "6542 7252\n"
     ]
    }
   ],
   "source": [
    "for msgf, anno in zip(msgf_lst, anno_lst):\n",
    "    if abs(msgf-anno)>500:\n",
    "        print(msgf, anno)"
   ]
  },
  {
   "cell_type": "code",
   "execution_count": 9,
   "metadata": {
    "collapsed": false
   },
   "outputs": [],
   "source": [
    "diff_lst=[]\n",
    "for msgf, anno in zip(msgf_lst, anno_lst):\n",
    "    if (anno+msgf)>0:\n",
    "        diff_lst.append(2*(anno-msgf)/(anno+msgf))\n",
    "    else:\n",
    "        diff_lst.append(0)"
   ]
  },
  {
   "cell_type": "code",
   "execution_count": 11,
   "metadata": {
    "collapsed": false
   },
   "outputs": [
    {
     "data": {
      "image/png": "[encoded data removed]",
      "text/plain": [
       "<matplotlib.figure.Figure at 0x7efefd9c8320>"
      ]
     },
     "metadata": {},
     "output_type": "display_data"
    }
   ],
   "source": [
    "plt.hist(diff_lst, range=(-0.2,0.2), bins=100)\n",
    "plt.show()"
   ]
  },
  {
   "cell_type": "markdown",
   "metadata": {},
   "source": [
    "The number of identified peptide sequences are larger with annotated than msgfplus.\n",
    "However, the distribution of difference is not randomly distributed, as datasets from certain species increased while others decreasing."
   ]
  },
  {
   "cell_type": "code",
   "execution_count": null,
   "metadata": {
    "collapsed": true
   },
   "outputs": [],
   "source": []
  }
 ],
 "metadata": {
  "anaconda-cloud": {},
  "kernelspec": {
   "display_name": "Python [conda root]",
   "language": "python",
   "name": "conda-root-py"
  },
  "language_info": {
   "codemirror_mode": {
    "name": "ipython",
    "version": 3
   },
   "file_extension": ".py",
   "mimetype": "text/x-python",
   "name": "python",
   "nbconvert_exporter": "python",
   "pygments_lexer": "ipython3",
   "version": "3.5.2"
  }
 },
 "nbformat": 4,
 "nbformat_minor": 1
}
