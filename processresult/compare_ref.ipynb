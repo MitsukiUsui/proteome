{
 "cells": [
  {
   "cell_type": "code",
   "execution_count": 12,
   "metadata": {
    "collapsed": true
   },
   "outputs": [],
   "source": [
    "import pandas as pd\n",
    "import matplotlib.pyplot as plt\n",
    "import seaborn as sns\n",
    "%matplotlib inline"
   ]
  },
  {
   "cell_type": "code",
   "execution_count": 2,
   "metadata": {
    "collapsed": false
   },
   "outputs": [
    {
     "data": {
      "text/html": [
       "<div>\n",
       "<table border=\"1\" class=\"dataframe\">\n",
       "  <thead>\n",
       "    <tr style=\"text-align: right;\">\n",
       "      <th></th>\n",
       "      <th>Organism</th>\n",
       "      <th>Dataset</th>\n",
       "      <th>fasta_type</th>\n",
       "      <th>REF</th>\n",
       "      <th>CON</th>\n",
       "      <th>XXX</th>\n",
       "    </tr>\n",
       "  </thead>\n",
       "  <tbody>\n",
       "    <tr>\n",
       "      <th>0</th>\n",
       "      <td>Arthrobacter_sp_FB24</td>\n",
       "      <td>Arthro_008-LTQFT2_04Oct05_Andro_0705-06</td>\n",
       "      <td>msgfplus</td>\n",
       "      <td>6466</td>\n",
       "      <td>22</td>\n",
       "      <td>207</td>\n",
       "    </tr>\n",
       "    <tr>\n",
       "      <th>1</th>\n",
       "      <td>Arthrobacter_sp_FB24</td>\n",
       "      <td>Arthro_008-LTQFT2_04Oct05_Andro_0705-06</td>\n",
       "      <td>annotated</td>\n",
       "      <td>6464</td>\n",
       "      <td>22</td>\n",
       "      <td>207</td>\n",
       "    </tr>\n",
       "    <tr>\n",
       "      <th>2</th>\n",
       "      <td>Arthrobacter_sp_FB24</td>\n",
       "      <td>Arthro_004-LTQFT3_30Sep05_Andro_0705-07</td>\n",
       "      <td>msgfplus</td>\n",
       "      <td>6493</td>\n",
       "      <td>19</td>\n",
       "      <td>201</td>\n",
       "    </tr>\n",
       "    <tr>\n",
       "      <th>3</th>\n",
       "      <td>Arthrobacter_sp_FB24</td>\n",
       "      <td>Arthro_004-LTQFT3_30Sep05_Andro_0705-07</td>\n",
       "      <td>annotated</td>\n",
       "      <td>6506</td>\n",
       "      <td>18</td>\n",
       "      <td>207</td>\n",
       "    </tr>\n",
       "    <tr>\n",
       "      <th>4</th>\n",
       "      <td>Arthrobacter_sp_FB24</td>\n",
       "      <td>Arthro_010-LTQFT1_04Oct05_Andro_0705-07</td>\n",
       "      <td>msgfplus</td>\n",
       "      <td>5823</td>\n",
       "      <td>41</td>\n",
       "      <td>128</td>\n",
       "    </tr>\n",
       "  </tbody>\n",
       "</table>\n",
       "</div>"
      ],
      "text/plain": [
       "               Organism                                  Dataset fasta_type  \\\n",
       "0  Arthrobacter_sp_FB24  Arthro_008-LTQFT2_04Oct05_Andro_0705-06   msgfplus   \n",
       "1  Arthrobacter_sp_FB24  Arthro_008-LTQFT2_04Oct05_Andro_0705-06  annotated   \n",
       "2  Arthrobacter_sp_FB24  Arthro_004-LTQFT3_30Sep05_Andro_0705-07   msgfplus   \n",
       "3  Arthrobacter_sp_FB24  Arthro_004-LTQFT3_30Sep05_Andro_0705-07  annotated   \n",
       "4  Arthrobacter_sp_FB24  Arthro_010-LTQFT1_04Oct05_Andro_0705-07   msgfplus   \n",
       "\n",
       "    REF  CON  XXX  \n",
       "0  6466   22  207  \n",
       "1  6464   22  207  \n",
       "2  6493   19  201  \n",
       "3  6506   18  207  \n",
       "4  5823   41  128  "
      ]
     },
     "execution_count": 2,
     "metadata": {},
     "output_type": "execute_result"
    }
   ],
   "source": [
    "df=pd.read_csv(\"summarize.csv\")\n",
    "df.head()"
   ]
  },
  {
   "cell_type": "code",
   "execution_count": 8,
   "metadata": {
    "collapsed": false
   },
   "outputs": [],
   "source": [
    "msgf_lst=[]\n",
    "anno_lst=[]\n",
    "for i,ref in enumerate(df[\"REF\"]):\n",
    "    if i%2==0:\n",
    "        msgf_lst.append(int(ref))\n",
    "    else:\n",
    "        anno_lst.append(int(ref))"
   ]
  },
  {
   "cell_type": "code",
   "execution_count": 16,
   "metadata": {
    "collapsed": false
   },
   "outputs": [
    {
     "data": {
      "image/png": "[encoded data removed]",
      "text/plain": [
       "<matplotlib.figure.Figure at 0x7f36ade80d68>"
      ]
     },
     "metadata": {},
     "output_type": "display_data"
    }
   ],
   "source": [
    "plt.figure(figsize=(8,8))\n",
    "plt.plot(msgf_lst, anno_lst, 'o')\n",
    "plt.show()"
   ]
  },
  {
   "cell_type": "code",
   "execution_count": 17,
   "metadata": {
    "collapsed": true
   },
   "outputs": [
    {
     "name": "stdout",
     "output_type": "stream",
     "text": [
      "6230 6079\n",
      "4846 4695\n",
      "4595 4461\n",
      "4394 4766\n",
      "9050 9669\n",
      "8362 8839\n",
      "11107 11510\n",
      "3377 3574\n",
      "8424 8810\n",
      "8857 9255\n",
      "9535 10107\n",
      "291 611\n",
      "441 660\n",
      "2436 2539\n",
      "7058 7170\n",
      "14408 14236\n",
      "13671 13556\n",
      "13421 13314\n",
      "13749 13622\n",
      "4486 9904\n",
      "1325 8185\n",
      "8242 10778\n",
      "2627 7498\n",
      "5064 9996\n",
      "4568 9931\n",
      "7685 9850\n"
     ]
    }
   ],
   "source": [
    "for msgf, anno in zip(msgf_lst, anno_lst):\n",
    "    if abs(msgf-anno)>100:\n",
    "        print(msgf, anno)"
   ]
  },
  {
   "cell_type": "code",
   "execution_count": 20,
   "metadata": {
    "collapsed": false
   },
   "outputs": [],
   "source": [
    "diff_lst=[]\n",
    "for msgf, anno in zip(msgf_lst, anno_lst):\n",
    "    if (anno+msgf)>0:\n",
    "        diff_lst.append(2*(anno-msgf)/(anno+msgf))\n",
    "    else:\n",
    "        diff_lst.append(0)"
   ]
  },
  {
   "cell_type": "code",
   "execution_count": 21,
   "metadata": {
    "collapsed": false,
    "scrolled": true
   },
   "outputs": [
    {
     "data": {
      "text/plain": [
       "[-0.0003093580819798917,\n",
       " 0.0020001538579890762,\n",
       " -0.0039576701367977285,\n",
       " -0.003704231371990312,\n",
       " -0.002476123098691192,\n",
       " -0.000525164113785558,\n",
       " -0.0035901271503365746,\n",
       " -0.0027413950654888823,\n",
       " -0.0010695187165775401,\n",
       " 0.002148557397176182,\n",
       " 0.0,\n",
       " 0.0,\n",
       " -0.0028146361077603537,\n",
       " 0.0,\n",
       " -0.0174753671686187,\n",
       " -0.0026642984014209592,\n",
       " -0.0096347551896295,\n",
       " -0.024534893167600942,\n",
       " -0.03165286657583063,\n",
       " -0.02959363957597173,\n",
       " 0.37735849056603776,\n",
       " 0.0,\n",
       " 0.018779342723004695,\n",
       " -0.006289308176100629,\n",
       " 0.0,\n",
       " 0,\n",
       " 0.0,\n",
       " -0.0056657223796034,\n",
       " 0.0,\n",
       " -0.037267080745341616,\n",
       " 0.00448,\n",
       " -0.009708737864077669,\n",
       " 0.007518796992481203,\n",
       " 0.02040816326530612,\n",
       " -0.2857142857142857,\n",
       " -0.0038371349392453636,\n",
       " -0.0010194719135487816,\n",
       " -0.0037088548910523874,\n",
       " 0.0012212497455729697,\n",
       " -0.002026342451874367,\n",
       " 0.0005347117012743962,\n",
       " 0.04291845493562232,\n",
       " -0.0040923706518561824,\n",
       " 0.0,\n",
       " -0.0094976255936016,\n",
       " -0.0028336639274582033,\n",
       " -0.005269461077844311,\n",
       " 0.0008371703641691084,\n",
       " -0.009478672985781991,\n",
       " 0.0009082652134423251,\n",
       " 0.0,\n",
       " -0.004902532975370608,\n",
       " 0.004140786749482402,\n",
       " -0.0025426807119505995,\n",
       " -0.014336917562724014,\n",
       " -0.002330097087378641,\n",
       " 0.0,\n",
       " 0.007390983000739098,\n",
       " 0.0,\n",
       " -0.005179856115107914,\n",
       " 0.006309148264984227,\n",
       " -0.002631084382634843,\n",
       " -0.014285714285714285,\n",
       " -0.004805382027871216,\n",
       " -0.00016648630650129028,\n",
       " -0.0012109679093504021,\n",
       " -0.0026595744680851063,\n",
       " -0.0015232292460015233,\n",
       " -0.002073255010366275,\n",
       " -0.0009948127620265756,\n",
       " 0.0,\n",
       " 0.0,\n",
       " -0.0015942606616181746,\n",
       " 0.0,\n",
       " 0.0,\n",
       " -0.0018674136321195146,\n",
       " 0.008438818565400843,\n",
       " 0,\n",
       " 0.0,\n",
       " 0.0,\n",
       " -0.001299545159194282,\n",
       " 0.007782101167315175,\n",
       " 0.004243281471004243,\n",
       " 0.0,\n",
       " 0.003972194637537239,\n",
       " -0.008025682182985553,\n",
       " 0.002069679199724043,\n",
       " 0.0,\n",
       " 0.0,\n",
       " 2.0,\n",
       " 0.008264462809917356,\n",
       " 0.0,\n",
       " 0,\n",
       " 0.0015881742104941665,\n",
       " 0.002356039082530663,\n",
       " 0.007629334362007629,\n",
       " 0.0011029227452749788,\n",
       " -0.01335113484646195,\n",
       " -0.0033216460601587007,\n",
       " 0,\n",
       " 0.08122270742358079,\n",
       " 0.0,\n",
       " 0.02531645569620253,\n",
       " 0.06613601153907794,\n",
       " 0.05546189175047962,\n",
       " 0.035636910288720874,\n",
       " 0.05668249172780895,\n",
       " 0.04479517233375885,\n",
       " 0.04394876325088339,\n",
       " 0.05824254149271968,\n",
       " -0.004492699363534257,\n",
       " -0.0009597850081581726,\n",
       " -0.0027570995312930797,\n",
       " 0.0,\n",
       " -0.001455604075691412,\n",
       " 0.0,\n",
       " -0.0028218694885361554,\n",
       " 0,\n",
       " 0.024390243902439025,\n",
       " 0.005988023952095809,\n",
       " 0.005519779208831647,\n",
       " 0.0018709073900841909,\n",
       " 0.0017937219730941704,\n",
       " 0.0003036283588887202,\n",
       " 0.0035460992907801418,\n",
       " 0.006006006006006006,\n",
       " 0.0,\n",
       " -0.00436046511627907,\n",
       " -0.0019940179461615153,\n",
       " 0.0027137042062415195,\n",
       " 0.004172461752433936,\n",
       " -0.0029855697462265714,\n",
       " -0.001976284584980237,\n",
       " 0.01015228426395939,\n",
       " 0.001083815028901734,\n",
       " -0.004024144869215292,\n",
       " 0.0,\n",
       " 0.014226146676477803,\n",
       " 0.0,\n",
       " 0.000838750262109457,\n",
       " -0.0027125264471328596,\n",
       " -0.0019784568036931194,\n",
       " 0.0006743088334457181,\n",
       " -0.0009566834972096731,\n",
       " -0.0026522267653884407,\n",
       " -0.001447626925860821,\n",
       " -0.002001556766373846,\n",
       " -0.0028988508127135316,\n",
       " -0.002130880951045814,\n",
       " -0.0009554647274271458,\n",
       " 0.7095343680709535,\n",
       " -0.061465721040189124,\n",
       " -0.016666666666666666,\n",
       " -0.0020988805970149254,\n",
       " 0.0,\n",
       " 0.3978201634877384,\n",
       " -0.041884816753926704,\n",
       " -0.04878048780487805,\n",
       " 0.0,\n",
       " -0.0013333333333333333,\n",
       " 0.004083299305839118,\n",
       " 0.00043243243243243243,\n",
       " -0.00014284693950432112,\n",
       " 0.0001360451669954425,\n",
       " -0.002183406113537118,\n",
       " 0.0010643959552953698,\n",
       " 0.0025595709671521727,\n",
       " -0.0005096407033041706,\n",
       " -0.0006654466810846781,\n",
       " 0.00013392259274139549,\n",
       " 0.0,\n",
       " 0.0,\n",
       " 0.0,\n",
       " 0.014814814814814815,\n",
       " 0.0,\n",
       " 0.0,\n",
       " 0.019073113602141544,\n",
       " 0.058767772511848344,\n",
       " 0.08987052551408987,\n",
       " 0.006749915626054675,\n",
       " 0.05172413793103448,\n",
       " 0.009100343258561508,\n",
       " 0.022794846382556987,\n",
       " 0.008204480908804039,\n",
       " 0.041407035175879396,\n",
       " 0.015743604160809672,\n",
       " -0.005385878489326765,\n",
       " -0.012009495880463622,\n",
       " -0.004711583765228512,\n",
       " -0.007218172811549076,\n",
       " -0.008447496969919565,\n",
       " -0.007661028935116978,\n",
       " -0.008004488498223303,\n",
       " -0.005721349108246512,\n",
       " -0.0046942847083675625,\n",
       " -0.00927989477914581,\n",
       " -0.0006976744186046512,\n",
       " 0.0018389865140988966,\n",
       " 0.00020296326364927948,\n",
       " -0.0003029537995455693,\n",
       " 0.0019305019305019305,\n",
       " 0.00082423243354626,\n",
       " 0.0018986140117714068,\n",
       " -0.0007684623069238454,\n",
       " 0.0013812888487488711,\n",
       " -0.0007980049875311721,\n",
       " 0.0054073116257199955,\n",
       " 0.00020792182139515541,\n",
       " 0.002451211464127463,\n",
       " 0.0013868251609707777,\n",
       " 0.001442258164211394,\n",
       " 0.0010500892575868949,\n",
       " 0.0008264462809917355,\n",
       " -0.0009605225242531937,\n",
       " -0.0010793308148947653,\n",
       " 0.0,\n",
       " 0.0006618863761720904,\n",
       " -0.0030668966839179604,\n",
       " 0.0,\n",
       " 0.0,\n",
       " -0.0002005414619472576,\n",
       " -0.0010470107842110773,\n",
       " -0.0010689470871191875,\n",
       " 0.7530229325920779,\n",
       " 1.4426919032597265,\n",
       " -0.006444129398118314,\n",
       " 0.26666666666666666,\n",
       " 0.9621728395061728,\n",
       " -0.0625,\n",
       " 0.6549800796812749,\n",
       " 0.004497269514937359,\n",
       " 0.7397751569073729,\n",
       " 0.2469347020245224,\n",
       " 0.0,\n",
       " 0.0003211303789338471,\n",
       " 0.018214936247723135,\n",
       " -0.009860312243221035,\n",
       " 0.0017463435931019428,\n",
       " -0.0009168003667201467,\n",
       " 0.0061162079510703364,\n",
       " -0.002444716079564396,\n",
       " -0.005251014400509189,\n",
       " 0.0022343431688243414]"
      ]
     },
     "execution_count": 21,
     "metadata": {},
     "output_type": "execute_result"
    }
   ],
   "source": [
    "diff_lst"
   ]
  },
  {
   "cell_type": "code",
   "execution_count": 31,
   "metadata": {
    "collapsed": false
   },
   "outputs": [
    {
     "data": {
      "image/png": "[encoded data removed]",
      "text/plain": [
       "<matplotlib.figure.Figure at 0x7f36ade9b828>"
      ]
     },
     "metadata": {},
     "output_type": "display_data"
    }
   ],
   "source": [
    "plt.hist(diff_lst, range=(-0.5,0.5), bins=100)\n",
    "plt.show()"
   ]
  },
  {
   "cell_type": "markdown",
   "metadata": {},
   "source": [
    "The number of identified peptide sequences are larger with annotated than msgfplus.\n",
    "However, the distribution of difference is not randomly distributed, as datasets from certain species increased while others decreasing."
   ]
  },
  {
   "cell_type": "code",
   "execution_count": null,
   "metadata": {
    "collapsed": true
   },
   "outputs": [],
   "source": []
  }
 ],
 "metadata": {
  "anaconda-cloud": {},
  "kernelspec": {
   "display_name": "Python [conda root]",
   "language": "python",
   "name": "conda-root-py"
  },
  "language_info": {
   "codemirror_mode": {
    "name": "ipython",
    "version": 3
   },
   "file_extension": ".py",
   "mimetype": "text/x-python",
   "name": "python",
   "nbconvert_exporter": "python",
   "pygments_lexer": "ipython3",
   "version": "3.5.2"
  }
 },
 "nbformat": 4,
 "nbformat_minor": 1
}
