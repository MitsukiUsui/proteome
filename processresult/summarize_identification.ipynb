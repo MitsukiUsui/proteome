{
 "cells": [
  {
   "cell_type": "code",
   "execution_count": null,
   "metadata": {
    "collapsed": false
   },
   "outputs": [],
   "source": [
    "import pandas as pd\n",
    "from collections import Counter"
   ]
  },
  {
   "cell_type": "code",
   "execution_count": null,
   "metadata": {
    "collapsed": false
   },
   "outputs": [],
   "source": [
    "filepath=\"/home/mitsuki/data/pnnl/massive.ucsd.edu/result/Arthrobacter_sp_FB24/Arthro_001-LTQFT1_28Sep05_Andro_0705-06_msgfplus.tsv\"\n",
    "msgf_df=pd.read_csv(filepath,sep='\\t')\n",
    "fmsgf_df=msgf_df[msgf_df[\"PepQValue\"]<=0.05]"
   ]
  },
  {
   "cell_type": "code",
   "execution_count": null,
   "metadata": {
    "collapsed": false
   },
   "outputs": [],
   "source": [
    "fmsgf_df.shape"
   ]
  },
  {
   "cell_type": "code",
   "execution_count": null,
   "metadata": {
    "collapsed": true
   },
   "outputs": [],
   "source": [
    "filepath=\"/home/mitsuki/out/altorf/proteome/result/Arthrobacter_sp_FB24/Arthro_001-LTQFT1_28Sep05_Andro_0705-06_annotated.tsv\"\n",
    "df=pd.read_csv(filepath,sep='\\t')\n",
    "f_df=df[df[\"PepQValue\"]<=0.05]\n",
    "f_df.head()"
   ]
  },
  {
   "cell_type": "code",
   "execution_count": null,
   "metadata": {
    "collapsed": false
   },
   "outputs": [],
   "source": [
    "f_df.shape"
   ]
  },
  {
   "cell_type": "code",
   "execution_count": null,
   "metadata": {
    "collapsed": false
   },
   "outputs": [],
   "source": [
    "def judge_origin(protein):\n",
    "    if protein[:3].upper()=='REF' or protein[:2]==\"gb\" or protein[:2]==\"gi\":\n",
    "        return 'REF'\n",
    "    elif protein[:3]==\"XXX\":\n",
    "        return \"XXX\"\n",
    "    else:\n",
    "        return \"CON\""
   ]
  },
  {
   "cell_type": "code",
   "execution_count": null,
   "metadata": {
    "collapsed": false
   },
   "outputs": [],
   "source": [
    "origin_lst=[judge_origin(i) for i in fmsgf_df[\"Protein\"]]\n",
    "counter=Counter(origin_lst)\n",
    "print(counter)"
   ]
  },
  {
   "cell_type": "code",
   "execution_count": null,
   "metadata": {
    "collapsed": false
   },
   "outputs": [],
   "source": [
    "origin_lst=[judge_origin(i) for i in f_df[\"Protein\"]]\n",
    "counter=Counter(origin_lst)\n",
    "print(counter)"
   ]
  },
  {
   "cell_type": "code",
   "execution_count": null,
   "metadata": {
    "collapsed": false
   },
   "outputs": [],
   "source": [
    "df.head()"
   ]
  },
  {
   "cell_type": "code",
   "execution_count": null,
   "metadata": {
    "collapsed": false,
    "scrolled": true
   },
   "outputs": [],
   "source": [
    "filename=\"/home/mitsuki/altorf/proteome/createcatalog/pnnl_downloads.csv\"\n",
    "catalogDf=pd.read_csv(filename)\n",
    "\n",
    "dct_lst=[]\n",
    "for key, row in catalogDf.iterrows():\n",
    "    org=row[\"Organism\"]\n",
    "    data=row[\"Dataset\"]\n",
    "    \n",
    "    fastaType_lst=[\"msgfplus\",\"annotated\"]\n",
    "    dir_lst=[\"/home/mitsuki/data/pnnl/massive.ucsd.edu/result/\"+org+\"/\",\n",
    "             \"/home/mitsuki/out/altorf/proteome/result/\"+org+\"/\"]\n",
    "    filepath_lst=(dir_lst[0]+data+\"_msgfplus.tsv\",\n",
    "                  dir_lst[1]+data+\"_annotated.tsv\")\n",
    "    \n",
    "    counter_lst=[]\n",
    "    for filepath in filepath_lst:\n",
    "        df=pd.read_csv(filepath,sep='\\t')\n",
    "        fdf=df[df[\"PepQValue\"]<=0.05]#filter by peptide level FDR 0.05\n",
    "        origin_lst=[judge_origin(i) for i in fdf[\"Protein\"]]\n",
    "        counter=Counter(origin_lst)\n",
    "        counter_lst.append(counter)\n",
    "        \n",
    "    for i,fastaType in enumerate(fastaType_lst):\n",
    "        dct={}\n",
    "        dct[\"Organism\"]=org\n",
    "        dct[\"Dataset\"]=data\n",
    "        dct[\"fasta_type\"]=fastaType\n",
    "        dct[\"REF\"]=counter_lst[i][\"REF\"]\n",
    "        dct[\"CON\"]=counter_lst[i][\"CON\"]\n",
    "        dct[\"XXX\"]=counter_lst[i][\"XXX\"]\n",
    "        dct_lst.append(dct)\n",
    "        \n",
    "    print(\"DONE \"+org+'/'+data)"
   ]
  },
  {
   "cell_type": "code",
   "execution_count": null,
   "metadata": {
    "collapsed": false
   },
   "outputs": [],
   "source": [
    "counter_lst"
   ]
  },
  {
   "cell_type": "code",
   "execution_count": null,
   "metadata": {
    "collapsed": false
   },
   "outputs": [],
   "source": [
    "dct_lst=[]\n",
    "for i,fastaType in enumerate(fastaType_lst):\n",
    "    dct={}\n",
    "    dct[\"Organism\"]=org\n",
    "    dct[\"Dataset\"]=data\n",
    "    dct[\"fasta_type\"]=fastaType\n",
    "    dct[\"REF\"]=counter_lst[i][\"REF\"]\n",
    "    dct[\"CON\"]=counter_lst[i][\"CON\"]\n",
    "    dct[\"XXX\"]=counter_lst[i][\"XXX\"]\n",
    "    dct_lst.append(dct)"
   ]
  },
  {
   "cell_type": "code",
   "execution_count": null,
   "metadata": {
    "collapsed": true
   },
   "outputs": [],
   "source": [
    "dct_lst"
   ]
  },
  {
   "cell_type": "code",
   "execution_count": null,
   "metadata": {
    "collapsed": false
   },
   "outputs": [],
   "source": [
    "out_df=pd.DataFrame(dct_lst)\n",
    "out_df=out_df[[\"Organism\",\"Dataset\",\"fasta_type\",\"REF\",\"CON\",\"XXX\"]]\n",
    "out_df.tail(10)"
   ]
  },
  {
   "cell_type": "code",
   "execution_count": null,
   "metadata": {
    "collapsed": true
   },
   "outputs": [],
   "source": []
  }
 ],
 "metadata": {
  "anaconda-cloud": {},
  "kernelspec": {
   "display_name": "Python [conda root]",
   "language": "python",
   "name": "conda-root-py"
  },
  "language_info": {
   "codemirror_mode": {
    "name": "ipython",
    "version": 3
   },
   "file_extension": ".py",
   "mimetype": "text/x-python",
   "name": "python",
   "nbconvert_exporter": "python",
   "pygments_lexer": "ipython3",
   "version": "3.5.2"
  }
 },
 "nbformat": 4,
 "nbformat_minor": 1
}
