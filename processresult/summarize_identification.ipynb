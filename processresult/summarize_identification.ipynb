{
 "cells": [
  {
   "cell_type": "code",
   "execution_count": 3,
   "metadata": {
    "collapsed": false
   },
   "outputs": [],
   "source": [
    "import pandas as pd\n",
    "from collections import Counter"
   ]
  },
  {
   "cell_type": "code",
   "execution_count": 4,
   "metadata": {
    "collapsed": false
   },
   "outputs": [
    {
     "data": {
      "text/html": [
       "<div>\n",
       "<table border=\"1\" class=\"dataframe\">\n",
       "  <thead>\n",
       "    <tr style=\"text-align: right;\">\n",
       "      <th></th>\n",
       "      <th>#SpecFile</th>\n",
       "      <th>SpecID</th>\n",
       "      <th>ScanNum</th>\n",
       "      <th>FragMethod</th>\n",
       "      <th>Precursor</th>\n",
       "      <th>IsotopeError</th>\n",
       "      <th>PrecursorError(ppm)</th>\n",
       "      <th>Charge</th>\n",
       "      <th>Peptide</th>\n",
       "      <th>Protein</th>\n",
       "      <th>DeNovoScore</th>\n",
       "      <th>MSGFScore</th>\n",
       "      <th>SpecEValue</th>\n",
       "      <th>EValue</th>\n",
       "      <th>QValue</th>\n",
       "      <th>PepQValue</th>\n",
       "    </tr>\n",
       "  </thead>\n",
       "  <tbody>\n",
       "    <tr>\n",
       "      <th>0</th>\n",
       "      <td>Arthro_009-LTQFT3_04Oct05_Andro_0705-06.mzML</td>\n",
       "      <td>controllerType=0 controllerNumber=1 scan=9296</td>\n",
       "      <td>9296</td>\n",
       "      <td>CID</td>\n",
       "      <td>1129.2174</td>\n",
       "      <td>2</td>\n",
       "      <td>-0.503531</td>\n",
       "      <td>3</td>\n",
       "      <td>VLSGEEPFDEQTMIAGHHVEQEVAAPAPAPAR</td>\n",
       "      <td>REF|WP_011691390.1(pre=R,post=A)</td>\n",
       "      <td>225</td>\n",
       "      <td>205</td>\n",
       "      <td>7.497198e-31</td>\n",
       "      <td>4.044793e-24</td>\n",
       "      <td>0.0</td>\n",
       "      <td>0.0</td>\n",
       "    </tr>\n",
       "    <tr>\n",
       "      <th>1</th>\n",
       "      <td>Arthro_009-LTQFT3_04Oct05_Andro_0705-06.mzML</td>\n",
       "      <td>controllerType=0 controllerNumber=1 scan=9630</td>\n",
       "      <td>9630</td>\n",
       "      <td>CID</td>\n",
       "      <td>1466.9968</td>\n",
       "      <td>1</td>\n",
       "      <td>-1.483788</td>\n",
       "      <td>3</td>\n",
       "      <td>ANLFTGPSAFSDFSYDTLGGDGAPEFHAIPLDDYDLGSDFR</td>\n",
       "      <td>REF|WP_011692815.1(pre=K,post=-)</td>\n",
       "      <td>236</td>\n",
       "      <td>175</td>\n",
       "      <td>2.482416e-30</td>\n",
       "      <td>1.340034e-23</td>\n",
       "      <td>0.0</td>\n",
       "      <td>0.0</td>\n",
       "    </tr>\n",
       "    <tr>\n",
       "      <th>2</th>\n",
       "      <td>Arthro_009-LTQFT3_04Oct05_Andro_0705-06.mzML</td>\n",
       "      <td>controllerType=0 controllerNumber=1 scan=9172</td>\n",
       "      <td>9172</td>\n",
       "      <td>CID</td>\n",
       "      <td>1395.0171</td>\n",
       "      <td>1</td>\n",
       "      <td>10.080626</td>\n",
       "      <td>3</td>\n",
       "      <td>NDPVTALTYAQQAHALAAQAAQLAQGDVDSFGYTNQGYGR</td>\n",
       "      <td>REF|WP_043430840.1(pre=R,post=G)</td>\n",
       "      <td>297</td>\n",
       "      <td>215</td>\n",
       "      <td>1.747156e-29</td>\n",
       "      <td>9.430822e-23</td>\n",
       "      <td>0.0</td>\n",
       "      <td>0.0</td>\n",
       "    </tr>\n",
       "    <tr>\n",
       "      <th>3</th>\n",
       "      <td>Arthro_009-LTQFT3_04Oct05_Andro_0705-06.mzML</td>\n",
       "      <td>controllerType=0 controllerNumber=1 scan=3840</td>\n",
       "      <td>3840</td>\n",
       "      <td>CID</td>\n",
       "      <td>1049.4988</td>\n",
       "      <td>1</td>\n",
       "      <td>0.136410</td>\n",
       "      <td>3</td>\n",
       "      <td>AAQSAAGPASAGTDASVPNSGPSGEPGGPQVPEAR</td>\n",
       "      <td>REF|WP_011693732.1(pre=R,post=Q)</td>\n",
       "      <td>238</td>\n",
       "      <td>210</td>\n",
       "      <td>6.286698e-29</td>\n",
       "      <td>3.392423e-22</td>\n",
       "      <td>0.0</td>\n",
       "      <td>0.0</td>\n",
       "    </tr>\n",
       "    <tr>\n",
       "      <th>4</th>\n",
       "      <td>Arthro_009-LTQFT3_04Oct05_Andro_0705-06.mzML</td>\n",
       "      <td>controllerType=0 controllerNumber=1 scan=9136</td>\n",
       "      <td>9136</td>\n",
       "      <td>CID</td>\n",
       "      <td>1128.8877</td>\n",
       "      <td>1</td>\n",
       "      <td>3.696283</td>\n",
       "      <td>3</td>\n",
       "      <td>VLSGEEPFDEQTMIAGHHVEQEVAAPAPAPAR</td>\n",
       "      <td>REF|WP_011691390.1(pre=R,post=A)</td>\n",
       "      <td>227</td>\n",
       "      <td>194</td>\n",
       "      <td>1.114230e-28</td>\n",
       "      <td>6.011354e-22</td>\n",
       "      <td>0.0</td>\n",
       "      <td>0.0</td>\n",
       "    </tr>\n",
       "  </tbody>\n",
       "</table>\n",
       "</div>"
      ],
      "text/plain": [
       "                                      #SpecFile  \\\n",
       "0  Arthro_009-LTQFT3_04Oct05_Andro_0705-06.mzML   \n",
       "1  Arthro_009-LTQFT3_04Oct05_Andro_0705-06.mzML   \n",
       "2  Arthro_009-LTQFT3_04Oct05_Andro_0705-06.mzML   \n",
       "3  Arthro_009-LTQFT3_04Oct05_Andro_0705-06.mzML   \n",
       "4  Arthro_009-LTQFT3_04Oct05_Andro_0705-06.mzML   \n",
       "\n",
       "                                          SpecID  ScanNum FragMethod  \\\n",
       "0  controllerType=0 controllerNumber=1 scan=9296     9296        CID   \n",
       "1  controllerType=0 controllerNumber=1 scan=9630     9630        CID   \n",
       "2  controllerType=0 controllerNumber=1 scan=9172     9172        CID   \n",
       "3  controllerType=0 controllerNumber=1 scan=3840     3840        CID   \n",
       "4  controllerType=0 controllerNumber=1 scan=9136     9136        CID   \n",
       "\n",
       "   Precursor  IsotopeError  PrecursorError(ppm)  Charge  \\\n",
       "0  1129.2174             2            -0.503531       3   \n",
       "1  1466.9968             1            -1.483788       3   \n",
       "2  1395.0171             1            10.080626       3   \n",
       "3  1049.4988             1             0.136410       3   \n",
       "4  1128.8877             1             3.696283       3   \n",
       "\n",
       "                                     Peptide  \\\n",
       "0           VLSGEEPFDEQTMIAGHHVEQEVAAPAPAPAR   \n",
       "1  ANLFTGPSAFSDFSYDTLGGDGAPEFHAIPLDDYDLGSDFR   \n",
       "2   NDPVTALTYAQQAHALAAQAAQLAQGDVDSFGYTNQGYGR   \n",
       "3        AAQSAAGPASAGTDASVPNSGPSGEPGGPQVPEAR   \n",
       "4           VLSGEEPFDEQTMIAGHHVEQEVAAPAPAPAR   \n",
       "\n",
       "                            Protein  DeNovoScore  MSGFScore    SpecEValue  \\\n",
       "0  REF|WP_011691390.1(pre=R,post=A)          225        205  7.497198e-31   \n",
       "1  REF|WP_011692815.1(pre=K,post=-)          236        175  2.482416e-30   \n",
       "2  REF|WP_043430840.1(pre=R,post=G)          297        215  1.747156e-29   \n",
       "3  REF|WP_011693732.1(pre=R,post=Q)          238        210  6.286698e-29   \n",
       "4  REF|WP_011691390.1(pre=R,post=A)          227        194  1.114230e-28   \n",
       "\n",
       "         EValue  QValue  PepQValue  \n",
       "0  4.044793e-24     0.0        0.0  \n",
       "1  1.340034e-23     0.0        0.0  \n",
       "2  9.430822e-23     0.0        0.0  \n",
       "3  3.392423e-22     0.0        0.0  \n",
       "4  6.011354e-22     0.0        0.0  "
      ]
     },
     "execution_count": 4,
     "metadata": {},
     "output_type": "execute_result"
    }
   ],
   "source": [
    "filepath=\"/home/mitsuki/out/altorf/proteome/result/Arthrobacter_sp_FB24/Arthro_009-LTQFT3_04Oct05_Andro_0705-06_ocelot166.tsv\"\n",
    "df=pd.read_csv(filepath,sep='\\t')\n",
    "fdf=df[df[\"PepQValue\"]<=0.05]\n",
    "fdf.head()"
   ]
  },
  {
   "cell_type": "code",
   "execution_count": 5,
   "metadata": {
    "collapsed": true
   },
   "outputs": [],
   "source": [
    "def judge_origin(protein):\n",
    "    def parse_identifier(identifier):\n",
    "        assert len(identifier)==3\n",
    "        if identifier.upper()==\"REF\" or identifier[:2]==\"gb\" or identifier[:2]==\"gi\":#not allways REF, when _msgfplus\n",
    "            return \"REF\"\n",
    "        elif identifier==\"ORF\":\n",
    "            return \"ORF\"\n",
    "        elif identifier==\"OC1\":\n",
    "            return \"OC1\"\n",
    "        elif identifier==\"OC5\":\n",
    "            return \"OC5\"\n",
    "        else:#not allways CON, when _msgfplus\n",
    "            return \"CON\"\n",
    "    \n",
    "    if protein[:3]==\"XXX\":#is decoy\n",
    "        return 'D'+parse_identifier(protein[4:7])\n",
    "    else:\n",
    "        return parse_identifier(protein[:3])"
   ]
  },
  {
   "cell_type": "code",
   "execution_count": 6,
   "metadata": {
    "collapsed": true
   },
   "outputs": [],
   "source": [
    "origin_lst=[judge_origin(i) for i in fdf[\"Protein\"]]\n",
    "counter=Counter(origin_lst)"
   ]
  },
  {
   "cell_type": "code",
   "execution_count": 7,
   "metadata": {
    "collapsed": false
   },
   "outputs": [
    {
     "data": {
      "text/plain": [
       "Counter({'CON': 37,\n",
       "         'DOC1': 33,\n",
       "         'DOC5': 28,\n",
       "         'DREF': 62,\n",
       "         'OC1': 27,\n",
       "         'OC5': 25,\n",
       "         'REF': 5769})"
      ]
     },
     "execution_count": 7,
     "metadata": {},
     "output_type": "execute_result"
    }
   ],
   "source": [
    "counter"
   ]
  },
  {
   "cell_type": "code",
   "execution_count": null,
   "metadata": {
    "collapsed": false
   },
   "outputs": [],
   "source": [
    "origin_lst=[judge_origin(i) for i in fmsgf_df[\"Protein\"]]\n",
    "counter=Counter(origin_lst)\n",
    "print(counter)"
   ]
  },
  {
   "cell_type": "code",
   "execution_count": null,
   "metadata": {
    "collapsed": false
   },
   "outputs": [],
   "source": [
    "origin_lst=[judge_origin(i) for i in f_df[\"Protein\"]]\n",
    "counter=Counter(origin_lst)\n",
    "print(counter)"
   ]
  },
  {
   "cell_type": "code",
   "execution_count": null,
   "metadata": {
    "collapsed": false
   },
   "outputs": [],
   "source": [
    "df.head()"
   ]
  },
  {
   "cell_type": "code",
   "execution_count": null,
   "metadata": {
    "collapsed": false,
    "scrolled": true
   },
   "outputs": [],
   "source": [
    "filename=\"/home/mitsuki/altorf/proteome/createcatalog/pnnl_downloads.csv\"\n",
    "catalogDf=pd.read_csv(filename)\n",
    "\n",
    "dct_lst=[]\n",
    "for key, row in catalogDf.iterrows():\n",
    "    org=row[\"Organism\"]\n",
    "    data=row[\"Dataset\"]\n",
    "    \n",
    "    fastaType_lst=[\"msgfplus\",\"annotated\"]\n",
    "    dir_lst=[\"/home/mitsuki/data/pnnl/massive.ucsd.edu/result/\"+org+\"/\",\n",
    "             \"/home/mitsuki/out/altorf/proteome/result/\"+org+\"/\"]\n",
    "    filepath_lst=(dir_lst[0]+data+\"_msgfplus.tsv\",\n",
    "                  dir_lst[1]+data+\"_annotated.tsv\")\n",
    "    \n",
    "    counter_lst=[]\n",
    "    for filepath in filepath_lst:\n",
    "        df=pd.read_csv(filepath,sep='\\t')\n",
    "        fdf=df[df[\"PepQValue\"]<=0.05]#filter by peptide level FDR 0.05\n",
    "        origin_lst=[judge_origin(i) for i in fdf[\"Protein\"]]\n",
    "        counter=Counter(origin_lst)\n",
    "        counter_lst.append(counter)\n",
    "        \n",
    "    for i,fastaType in enumerate(fastaType_lst):\n",
    "        dct={}\n",
    "        dct[\"Organism\"]=org\n",
    "        dct[\"Dataset\"]=data\n",
    "        dct[\"fasta_type\"]=fastaType\n",
    "        dct[\"REF\"]=counter_lst[i][\"REF\"]\n",
    "        dct[\"CON\"]=counter_lst[i][\"CON\"]\n",
    "        dct[\"XXX\"]=counter_lst[i][\"XXX\"]\n",
    "        dct_lst.append(dct)\n",
    "        \n",
    "    print(\"DONE \"+org+'/'+data)"
   ]
  },
  {
   "cell_type": "code",
   "execution_count": null,
   "metadata": {
    "collapsed": false
   },
   "outputs": [],
   "source": [
    "counter_lst"
   ]
  },
  {
   "cell_type": "code",
   "execution_count": null,
   "metadata": {
    "collapsed": false
   },
   "outputs": [],
   "source": [
    "dct_lst=[]\n",
    "for i,fastaType in enumerate(fastaType_lst):\n",
    "    dct={}\n",
    "    dct[\"Organism\"]=org\n",
    "    dct[\"Dataset\"]=data\n",
    "    dct[\"fasta_type\"]=fastaType\n",
    "    dct[\"REF\"]=counter_lst[i][\"REF\"]\n",
    "    dct[\"CON\"]=counter_lst[i][\"CON\"]\n",
    "    dct[\"XXX\"]=counter_lst[i][\"XXX\"]\n",
    "    dct_lst.append(dct)"
   ]
  },
  {
   "cell_type": "code",
   "execution_count": null,
   "metadata": {
    "collapsed": true
   },
   "outputs": [],
   "source": [
    "dct_lst"
   ]
  },
  {
   "cell_type": "code",
   "execution_count": null,
   "metadata": {
    "collapsed": false
   },
   "outputs": [],
   "source": [
    "out_df=pd.DataFrame(dct_lst)\n",
    "out_df=out_df[[\"Organism\",\"Dataset\",\"fasta_type\",\"REF\",\"CON\",\"XXX\"]]\n",
    "out_df.tail(10)"
   ]
  },
  {
   "cell_type": "code",
   "execution_count": null,
   "metadata": {
    "collapsed": true
   },
   "outputs": [],
   "source": []
  }
 ],
 "metadata": {
  "anaconda-cloud": {},
  "kernelspec": {
   "display_name": "Python [conda root]",
   "language": "python",
   "name": "conda-root-py"
  },
  "language_info": {
   "codemirror_mode": {
    "name": "ipython",
    "version": 3
   },
   "file_extension": ".py",
   "mimetype": "text/x-python",
   "name": "python",
   "nbconvert_exporter": "python",
   "pygments_lexer": "ipython3",
   "version": "3.5.2"
  }
 },
 "nbformat": 4,
 "nbformat_minor": 1
}
