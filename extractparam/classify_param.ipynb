{
 "cells": [
  {
   "cell_type": "code",
   "execution_count": 1,
   "metadata": {
    "collapsed": true
   },
   "outputs": [],
   "source": [
    "import pandas as pd"
   ]
  },
  {
   "cell_type": "code",
   "execution_count": 5,
   "metadata": {
    "collapsed": false
   },
   "outputs": [
    {
     "data": {
      "text/html": [
       "<div>\n",
       "<table border=\"1\" class=\"dataframe\">\n",
       "  <thead>\n",
       "    <tr style=\"text-align: right;\">\n",
       "      <th></th>\n",
       "      <th>Organism</th>\n",
       "      <th>Dataset</th>\n",
       "    </tr>\n",
       "  </thead>\n",
       "  <tbody>\n",
       "    <tr>\n",
       "      <th>0</th>\n",
       "      <td>Arthrobacter_sp_FB24</td>\n",
       "      <td>Arthro_008-LTQFT2_04Oct05_Andro_0705-06</td>\n",
       "    </tr>\n",
       "    <tr>\n",
       "      <th>1</th>\n",
       "      <td>Arthrobacter_sp_FB24</td>\n",
       "      <td>Arthro_004-LTQFT3_30Sep05_Andro_0705-07</td>\n",
       "    </tr>\n",
       "    <tr>\n",
       "      <th>2</th>\n",
       "      <td>Arthrobacter_sp_FB24</td>\n",
       "      <td>Arthro_010-LTQFT1_04Oct05_Andro_0705-07</td>\n",
       "    </tr>\n",
       "    <tr>\n",
       "      <th>3</th>\n",
       "      <td>Arthrobacter_sp_FB24</td>\n",
       "      <td>Arthro_003_LTQFT3_27Oct05_Griffin_05-09-04</td>\n",
       "    </tr>\n",
       "    <tr>\n",
       "      <th>4</th>\n",
       "      <td>Arthrobacter_sp_FB24</td>\n",
       "      <td>Arthro_012-LTQFT2_05Oct05_Andro_0705-06</td>\n",
       "    </tr>\n",
       "  </tbody>\n",
       "</table>\n",
       "</div>"
      ],
      "text/plain": [
       "               Organism                                     Dataset\n",
       "0  Arthrobacter_sp_FB24     Arthro_008-LTQFT2_04Oct05_Andro_0705-06\n",
       "1  Arthrobacter_sp_FB24     Arthro_004-LTQFT3_30Sep05_Andro_0705-07\n",
       "2  Arthrobacter_sp_FB24     Arthro_010-LTQFT1_04Oct05_Andro_0705-07\n",
       "3  Arthrobacter_sp_FB24  Arthro_003_LTQFT3_27Oct05_Griffin_05-09-04\n",
       "4  Arthrobacter_sp_FB24     Arthro_012-LTQFT2_05Oct05_Andro_0705-06"
      ]
     },
     "execution_count": 5,
     "metadata": {},
     "output_type": "execute_result"
    }
   ],
   "source": [
    "catalog=\"../createcatalog/pnnl_downloads.csv\"\n",
    "df=pd.read_csv(catalog)\n",
    "df=df[[\"Organism\",\"Dataset\"]]\n",
    "df.head()"
   ]
  },
  {
   "cell_type": "code",
   "execution_count": 6,
   "metadata": {
    "collapsed": false
   },
   "outputs": [],
   "source": [
    "paramNum_lst=[]\n",
    "masterParam_lst=[]\n",
    "for key, row in df.iterrows():\n",
    "    filepath=\"/home/mitsuki/out/altorf/proteome/param/\"+row[\"Organism\"]+\"/\"+row[\"Dataset\"]+\".param\"\n",
    "    with open(filepath,'r') as f:\n",
    "        content=f.readlines()\n",
    "        \n",
    "        paramNum=-1\n",
    "        for i,masterParam in enumerate(masterParam_lst):\n",
    "            if masterParam==content:\n",
    "                paramNum=i\n",
    "        if paramNum==-1:\n",
    "            paramNum=len(masterParam_lst)\n",
    "            masterParam_lst.append(content)\n",
    "        paramNum_lst.append(paramNum)"
   ]
  },
  {
   "cell_type": "code",
   "execution_count": 7,
   "metadata": {
    "collapsed": false,
    "scrolled": true
   },
   "outputs": [
    {
     "data": {
      "text/html": [
       "<div>\n",
       "<table border=\"1\" class=\"dataframe\">\n",
       "  <thead>\n",
       "    <tr style=\"text-align: right;\">\n",
       "      <th></th>\n",
       "      <th>Organism</th>\n",
       "      <th>Dataset</th>\n",
       "      <th>param_num</th>\n",
       "    </tr>\n",
       "  </thead>\n",
       "  <tbody>\n",
       "    <tr>\n",
       "      <th>0</th>\n",
       "      <td>Arthrobacter_sp_FB24</td>\n",
       "      <td>Arthro_008-LTQFT2_04Oct05_Andro_0705-06</td>\n",
       "      <td>0</td>\n",
       "    </tr>\n",
       "    <tr>\n",
       "      <th>1</th>\n",
       "      <td>Arthrobacter_sp_FB24</td>\n",
       "      <td>Arthro_004-LTQFT3_30Sep05_Andro_0705-07</td>\n",
       "      <td>0</td>\n",
       "    </tr>\n",
       "    <tr>\n",
       "      <th>2</th>\n",
       "      <td>Arthrobacter_sp_FB24</td>\n",
       "      <td>Arthro_010-LTQFT1_04Oct05_Andro_0705-07</td>\n",
       "      <td>0</td>\n",
       "    </tr>\n",
       "    <tr>\n",
       "      <th>3</th>\n",
       "      <td>Arthrobacter_sp_FB24</td>\n",
       "      <td>Arthro_003_LTQFT3_27Oct05_Griffin_05-09-04</td>\n",
       "      <td>0</td>\n",
       "    </tr>\n",
       "    <tr>\n",
       "      <th>4</th>\n",
       "      <td>Arthrobacter_sp_FB24</td>\n",
       "      <td>Arthro_012-LTQFT2_05Oct05_Andro_0705-06</td>\n",
       "      <td>0</td>\n",
       "    </tr>\n",
       "  </tbody>\n",
       "</table>\n",
       "</div>"
      ],
      "text/plain": [
       "               Organism                                     Dataset  param_num\n",
       "0  Arthrobacter_sp_FB24     Arthro_008-LTQFT2_04Oct05_Andro_0705-06          0\n",
       "1  Arthrobacter_sp_FB24     Arthro_004-LTQFT3_30Sep05_Andro_0705-07          0\n",
       "2  Arthrobacter_sp_FB24     Arthro_010-LTQFT1_04Oct05_Andro_0705-07          0\n",
       "3  Arthrobacter_sp_FB24  Arthro_003_LTQFT3_27Oct05_Griffin_05-09-04          0\n",
       "4  Arthrobacter_sp_FB24     Arthro_012-LTQFT2_05Oct05_Andro_0705-06          0"
      ]
     },
     "execution_count": 7,
     "metadata": {},
     "output_type": "execute_result"
    }
   ],
   "source": [
    "df[\"param_num\"]=paramNum_lst\n",
    "df.head()"
   ]
  },
  {
   "cell_type": "code",
   "execution_count": 8,
   "metadata": {
    "collapsed": true
   },
   "outputs": [],
   "source": [
    "df.to_csv(\"pnnl_param.csv\",index=False)"
   ]
  },
  {
   "cell_type": "code",
   "execution_count": 10,
   "metadata": {
    "collapsed": false
   },
   "outputs": [],
   "source": [
    "for i,masterParam in enumerate(masterParam_lst):\n",
    "    outFilepath=\"/home/mitsuki/out/altorf/proteome/param/master_\"+str(i)+\".param\"\n",
    "    with open(outFilepath, 'w') as f:\n",
    "        f.write(''.join(masterParam))"
   ]
  },
  {
   "cell_type": "code",
   "execution_count": 9,
   "metadata": {
    "collapsed": false
   },
   "outputs": [
    {
     "data": {
      "text/plain": [
       "[['TargetDecoyApproach:true\\n',\n",
       "  'MinIsotopeError:-1\\n',\n",
       "  'MaxIsotopeError:2\\n',\n",
       "  'FragmentMethod:As written in the spectrum or CID if no info\\n',\n",
       "  'Instrument:LowRes\\n',\n",
       "  'Protocol:Standard\\n',\n",
       "  'NumTolerableTermini:1\\n',\n",
       "  'NumMatchesPerSpec:1\\n',\n",
       "  'MaxNumModifications:3\\n',\n",
       "  'MinPepLength:6\\n',\n",
       "  'MaxPepLength:50\\n',\n",
       "  'MinCharge:2\\n',\n",
       "  'MaxCharge:5\\n',\n",
       "  'Modification:M/15.994915/false\\n',\n",
       "  'Enzymes:Tryp\\n',\n",
       "  'search tolerance plus value:20.0 parts per million\\n',\n",
       "  'search tolerance minus value:20.0 parts per million\\n'],\n",
       " ['TargetDecoyApproach:true\\n',\n",
       "  'MinIsotopeError:-1\\n',\n",
       "  'MaxIsotopeError:2\\n',\n",
       "  'FragmentMethod:As written in the spectrum or CID if no info\\n',\n",
       "  'Instrument:HighRes\\n',\n",
       "  'Protocol:Standard\\n',\n",
       "  'NumTolerableTermini:1\\n',\n",
       "  'NumMatchesPerSpec:1\\n',\n",
       "  'MaxNumModifications:3\\n',\n",
       "  'MinPepLength:6\\n',\n",
       "  'MaxPepLength:50\\n',\n",
       "  'MinCharge:2\\n',\n",
       "  'MaxCharge:5\\n',\n",
       "  'Modification:M/15.994915/false\\n',\n",
       "  'Enzymes:Tryp\\n',\n",
       "  'search tolerance plus value:20.0 parts per million\\n',\n",
       "  'search tolerance minus value:20.0 parts per million\\n'],\n",
       " ['TargetDecoyApproach:true\\n',\n",
       "  'MinIsotopeError:0\\n',\n",
       "  'MaxIsotopeError:0\\n',\n",
       "  'FragmentMethod:As written in the spectrum or CID if no info\\n',\n",
       "  'Instrument:LowRes\\n',\n",
       "  'Protocol:Standard\\n',\n",
       "  'NumTolerableTermini:1\\n',\n",
       "  'NumMatchesPerSpec:1\\n',\n",
       "  'MaxNumModifications:3\\n',\n",
       "  'MinPepLength:6\\n',\n",
       "  'MaxPepLength:50\\n',\n",
       "  'MinCharge:2\\n',\n",
       "  'MaxCharge:5\\n',\n",
       "  'Modification:M/15.994915/false\\n',\n",
       "  'Enzymes:Tryp\\n',\n",
       "  'search tolerance plus value:2.5 dalton\\n',\n",
       "  'search tolerance minus value:1.5 dalton\\n'],\n",
       " ['TargetDecoyApproach:true\\n',\n",
       "  'MinIsotopeError:-1\\n',\n",
       "  'MaxIsotopeError:1\\n',\n",
       "  'FragmentMethod:As written in the spectrum or CID if no info\\n',\n",
       "  'Instrument:LowRes\\n',\n",
       "  'Protocol:Standard\\n',\n",
       "  'NumTolerableTermini:1\\n',\n",
       "  'NumMatchesPerSpec:1\\n',\n",
       "  'MaxNumModifications:3\\n',\n",
       "  'MinPepLength:6\\n',\n",
       "  'MaxPepLength:50\\n',\n",
       "  'MinCharge:2\\n',\n",
       "  'MaxCharge:5\\n',\n",
       "  'Modification:C/57.021465/true,M/15.994915/false\\n',\n",
       "  'Enzymes:Tryp\\n',\n",
       "  'search tolerance plus value:20.0 parts per million\\n',\n",
       "  'search tolerance minus value:20.0 parts per million\\n'],\n",
       " ['TargetDecoyApproach:true\\n',\n",
       "  'MinIsotopeError:-1\\n',\n",
       "  'MaxIsotopeError:1\\n',\n",
       "  'FragmentMethod:As written in the spectrum or CID if no info\\n',\n",
       "  'Instrument:HighRes\\n',\n",
       "  'Protocol:Standard\\n',\n",
       "  'NumTolerableTermini:1\\n',\n",
       "  'NumMatchesPerSpec:1\\n',\n",
       "  'MaxNumModifications:3\\n',\n",
       "  'MinPepLength:6\\n',\n",
       "  'MaxPepLength:50\\n',\n",
       "  'MinCharge:2\\n',\n",
       "  'MaxCharge:5\\n',\n",
       "  'Modification:C/57.021465/true,M/15.994915/false\\n',\n",
       "  'Enzymes:Tryp\\n',\n",
       "  'search tolerance plus value:20.0 parts per million\\n',\n",
       "  'search tolerance minus value:20.0 parts per million\\n']]"
      ]
     },
     "execution_count": 9,
     "metadata": {},
     "output_type": "execute_result"
    }
   ],
   "source": [
    "masterParam_lst"
   ]
  },
  {
   "cell_type": "code",
   "execution_count": null,
   "metadata": {
    "collapsed": true
   },
   "outputs": [],
   "source": []
  }
 ],
 "metadata": {
  "anaconda-cloud": {},
  "kernelspec": {
   "display_name": "Python [conda root]",
   "language": "python",
   "name": "conda-root-py"
  },
  "language_info": {
   "codemirror_mode": {
    "name": "ipython",
    "version": 3
   },
   "file_extension": ".py",
   "mimetype": "text/x-python",
   "name": "python",
   "nbconvert_exporter": "python",
   "pygments_lexer": "ipython3",
   "version": "3.5.2"
  }
 },
 "nbformat": 4,
 "nbformat_minor": 1
}
