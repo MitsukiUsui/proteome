{
 "cells": [
  {
   "cell_type": "code",
   "execution_count": 11,
   "metadata": {
    "collapsed": true
   },
   "outputs": [],
   "source": [
    "import pandas as pd\n",
    "from os.path import exists"
   ]
  },
  {
   "cell_type": "code",
   "execution_count": 12,
   "metadata": {
    "collapsed": false
   },
   "outputs": [
    {
     "name": "stdout",
     "output_type": "stream",
     "text": [
      "(405, 2)\n"
     ]
    },
    {
     "data": {
      "text/html": [
       "<div>\n",
       "<table border=\"1\" class=\"dataframe\">\n",
       "  <thead>\n",
       "    <tr style=\"text-align: right;\">\n",
       "      <th></th>\n",
       "      <th>Organism</th>\n",
       "      <th>Dataset</th>\n",
       "    </tr>\n",
       "  </thead>\n",
       "  <tbody>\n",
       "    <tr>\n",
       "      <th>0</th>\n",
       "      <td>Arthrobacter_sp_FB24</td>\n",
       "      <td>Arthro_009-LTQFT3_04Oct05_Andro_0705-06</td>\n",
       "    </tr>\n",
       "    <tr>\n",
       "      <th>1</th>\n",
       "      <td>Arthrobacter_sp_FB24</td>\n",
       "      <td>Arthro_002-LTQFT2_29Sep05_Andro_0705-06</td>\n",
       "    </tr>\n",
       "    <tr>\n",
       "      <th>2</th>\n",
       "      <td>Arthrobacter_sp_FB24</td>\n",
       "      <td>Arthro_009-LTQFT1_04Oct05_Andro_0705-06</td>\n",
       "    </tr>\n",
       "    <tr>\n",
       "      <th>3</th>\n",
       "      <td>Arthrobacter_sp_FB24</td>\n",
       "      <td>Arthro_010-LTQFT2_04Oct05_Andro_0705-06</td>\n",
       "    </tr>\n",
       "    <tr>\n",
       "      <th>4</th>\n",
       "      <td>Arthrobacter_sp_FB24</td>\n",
       "      <td>Arthro_002-LTQFT3_29Sep05_Andro_0705-06</td>\n",
       "    </tr>\n",
       "  </tbody>\n",
       "</table>\n",
       "</div>"
      ],
      "text/plain": [
       "               Organism                                  Dataset\n",
       "0  Arthrobacter_sp_FB24  Arthro_009-LTQFT3_04Oct05_Andro_0705-06\n",
       "1  Arthrobacter_sp_FB24  Arthro_002-LTQFT2_29Sep05_Andro_0705-06\n",
       "2  Arthrobacter_sp_FB24  Arthro_009-LTQFT1_04Oct05_Andro_0705-06\n",
       "3  Arthrobacter_sp_FB24  Arthro_010-LTQFT2_04Oct05_Andro_0705-06\n",
       "4  Arthrobacter_sp_FB24  Arthro_002-LTQFT3_29Sep05_Andro_0705-06"
      ]
     },
     "execution_count": 12,
     "metadata": {},
     "output_type": "execute_result"
    }
   ],
   "source": [
    "catalog=\"../pickdatasets/pnnl_downloads.csv\"\n",
    "df=pd.read_csv(catalog)\n",
    "df=df[[\"Organism\",\"Dataset\"]]\n",
    "print(df.shape)\n",
    "df.head()"
   ]
  },
  {
   "cell_type": "markdown",
   "metadata": {},
   "source": [
    "### Loads existing master param"
   ]
  },
  {
   "cell_type": "code",
   "execution_count": 14,
   "metadata": {
    "collapsed": false
   },
   "outputs": [
    {
     "name": "stdout",
     "output_type": "stream",
     "text": [
      "5\n"
     ]
    }
   ],
   "source": [
    "masterParam_lst=[]\n",
    "i=0\n",
    "while(True):\n",
    "    masterFilepath=\"master/master_\"+str(i)+\".param\"\n",
    "    if(exists(masterFilepath)):\n",
    "        with open(masterFilepath, 'r') as f:\n",
    "            content=f.readlines()\n",
    "            masterParam_lst.append(content)\n",
    "            i+=1\n",
    "    else:\n",
    "        break\n",
    "print(len(masterParam_lst))"
   ]
  },
  {
   "cell_type": "markdown",
   "metadata": {},
   "source": [
    "## define param_num while updating master param"
   ]
  },
  {
   "cell_type": "code",
   "execution_count": 15,
   "metadata": {
    "collapsed": false
   },
   "outputs": [],
   "source": [
    "paramNum_lst=[]\n",
    "for key, row in df.iterrows():\n",
    "    filepath=\"/home/mitsuki/out/altorf/proteome/param/\"+row[\"Organism\"]+\"/\"+row[\"Dataset\"]+\".param\"\n",
    "    with open(filepath,'r') as f:\n",
    "        content=f.readlines()\n",
    "        \n",
    "        paramNum=-1\n",
    "        for i,masterParam in enumerate(masterParam_lst):\n",
    "            if masterParam==content:\n",
    "                paramNum=i\n",
    "        if paramNum==-1:\n",
    "            paramNum=len(masterParam_lst)\n",
    "            masterParam_lst.append(content)\n",
    "        paramNum_lst.append(paramNum)"
   ]
  },
  {
   "cell_type": "code",
   "execution_count": 16,
   "metadata": {
    "collapsed": false,
    "scrolled": true
   },
   "outputs": [
    {
     "data": {
      "text/html": [
       "<div>\n",
       "<table border=\"1\" class=\"dataframe\">\n",
       "  <thead>\n",
       "    <tr style=\"text-align: right;\">\n",
       "      <th></th>\n",
       "      <th>Organism</th>\n",
       "      <th>Dataset</th>\n",
       "      <th>param_num</th>\n",
       "    </tr>\n",
       "  </thead>\n",
       "  <tbody>\n",
       "    <tr>\n",
       "      <th>0</th>\n",
       "      <td>Arthrobacter_sp_FB24</td>\n",
       "      <td>Arthro_009-LTQFT3_04Oct05_Andro_0705-06</td>\n",
       "      <td>0</td>\n",
       "    </tr>\n",
       "    <tr>\n",
       "      <th>1</th>\n",
       "      <td>Arthrobacter_sp_FB24</td>\n",
       "      <td>Arthro_002-LTQFT2_29Sep05_Andro_0705-06</td>\n",
       "      <td>0</td>\n",
       "    </tr>\n",
       "    <tr>\n",
       "      <th>2</th>\n",
       "      <td>Arthrobacter_sp_FB24</td>\n",
       "      <td>Arthro_009-LTQFT1_04Oct05_Andro_0705-06</td>\n",
       "      <td>0</td>\n",
       "    </tr>\n",
       "    <tr>\n",
       "      <th>3</th>\n",
       "      <td>Arthrobacter_sp_FB24</td>\n",
       "      <td>Arthro_010-LTQFT2_04Oct05_Andro_0705-06</td>\n",
       "      <td>0</td>\n",
       "    </tr>\n",
       "    <tr>\n",
       "      <th>4</th>\n",
       "      <td>Arthrobacter_sp_FB24</td>\n",
       "      <td>Arthro_002-LTQFT3_29Sep05_Andro_0705-06</td>\n",
       "      <td>0</td>\n",
       "    </tr>\n",
       "  </tbody>\n",
       "</table>\n",
       "</div>"
      ],
      "text/plain": [
       "               Organism                                  Dataset  param_num\n",
       "0  Arthrobacter_sp_FB24  Arthro_009-LTQFT3_04Oct05_Andro_0705-06          0\n",
       "1  Arthrobacter_sp_FB24  Arthro_002-LTQFT2_29Sep05_Andro_0705-06          0\n",
       "2  Arthrobacter_sp_FB24  Arthro_009-LTQFT1_04Oct05_Andro_0705-06          0\n",
       "3  Arthrobacter_sp_FB24  Arthro_010-LTQFT2_04Oct05_Andro_0705-06          0\n",
       "4  Arthrobacter_sp_FB24  Arthro_002-LTQFT3_29Sep05_Andro_0705-06          0"
      ]
     },
     "execution_count": 16,
     "metadata": {},
     "output_type": "execute_result"
    }
   ],
   "source": [
    "df[\"param_num\"]=paramNum_lst\n",
    "df.head()"
   ]
  },
  {
   "cell_type": "code",
   "execution_count": 17,
   "metadata": {
    "collapsed": false
   },
   "outputs": [
    {
     "data": {
      "text/plain": [
       "Counter({0: 348, 1: 9, 2: 11, 3: 36, 4: 1})"
      ]
     },
     "execution_count": 17,
     "metadata": {},
     "output_type": "execute_result"
    }
   ],
   "source": [
    "from collections import Counter\n",
    "counter=Counter(paramNum_lst)\n",
    "counter"
   ]
  },
  {
   "cell_type": "code",
   "execution_count": 18,
   "metadata": {
    "collapsed": true
   },
   "outputs": [],
   "source": [
    "df.to_csv(\"pnnl_param.csv\",index=False)"
   ]
  },
  {
   "cell_type": "markdown",
   "metadata": {},
   "source": [
    "## output master param"
   ]
  },
  {
   "cell_type": "code",
   "execution_count": 19,
   "metadata": {
    "collapsed": false
   },
   "outputs": [],
   "source": [
    "for i,masterParam in enumerate(masterParam_lst):\n",
    "    outFilepath=\"master/master_\"+str(i)+\".param\"\n",
    "    with open(outFilepath, 'w') as f:\n",
    "        f.write(''.join(masterParam))"
   ]
  },
  {
   "cell_type": "code",
   "execution_count": null,
   "metadata": {
    "collapsed": true
   },
   "outputs": [],
   "source": []
  }
 ],
 "metadata": {
  "anaconda-cloud": {},
  "kernelspec": {
   "display_name": "Python [conda root]",
   "language": "python",
   "name": "conda-root-py"
  },
  "language_info": {
   "codemirror_mode": {
    "name": "ipython",
    "version": 3
   },
   "file_extension": ".py",
   "mimetype": "text/x-python",
   "name": "python",
   "nbconvert_exporter": "python",
   "pygments_lexer": "ipython3",
   "version": "3.5.2"
  }
 },
 "nbformat": 4,
 "nbformat_minor": 1
}
