{
 "cells": [
  {
   "cell_type": "code",
   "execution_count": 1,
   "metadata": {
    "collapsed": true
   },
   "outputs": [],
   "source": [
    "import xml.etree.ElementTree as ET\n",
    "import sys"
   ]
  },
  {
   "cell_type": "code",
   "execution_count": 2,
   "metadata": {
    "collapsed": true
   },
   "outputs": [],
   "source": [
    "filename=\"test/Arthro_001-LTQFT1_28Sep05_Andro_0705-06_msgfplus.mzid\"\n",
    "with open(filename,'r') as f:\n",
    "    XmlData=f.read()\n",
    "root = ET.fromstring(XmlData)"
   ]
  },
  {
   "cell_type": "code",
   "execution_count": 3,
   "metadata": {
    "collapsed": false
   },
   "outputs": [],
   "source": [
    "sip=root.find('.//{http://psidev.info/psi/pi/mzIdentML/1.1}SpectrumIdentificationProtocol')\n",
    "asp=sip.find(\"{http://psidev.info/psi/pi/mzIdentML/1.1}AdditionalSearchParams\")\n",
    "mop=sip.find(\"{http://psidev.info/psi/pi/mzIdentML/1.1}ModificationParams\")\n",
    "enz=sip.find(\"{http://psidev.info/psi/pi/mzIdentML/1.1}Enzymes\")\n",
    "pto=sip.find(\"{http://psidev.info/psi/pi/mzIdentML/1.1}ParentTolerance\")"
   ]
  },
  {
   "cell_type": "code",
   "execution_count": 10,
   "metadata": {
    "collapsed": false
   },
   "outputs": [
    {
     "name": "stdout",
     "output_type": "stream",
     "text": [
      "<Element '{http://psidev.info/psi/pi/mzIdentML/1.1}SearchType' at 0x7fa3feadbea8>\n",
      "<Element '{http://psidev.info/psi/pi/mzIdentML/1.1}AdditionalSearchParams' at 0x7fa3feadbf48>\n",
      "<Element '{http://psidev.info/psi/pi/mzIdentML/1.1}ModificationParams' at 0x7fa3feae34a8>\n",
      "<Element '{http://psidev.info/psi/pi/mzIdentML/1.1}Enzymes' at 0x7fa3feae35e8>\n",
      "<Element '{http://psidev.info/psi/pi/mzIdentML/1.1}ParentTolerance' at 0x7fa3feae3778>\n",
      "<Element '{http://psidev.info/psi/pi/mzIdentML/1.1}Threshold' at 0x7fa3feae3908>\n"
     ]
    }
   ],
   "source": [
    "for child in sip:\n",
    "    print(child)"
   ]
  },
  {
   "cell_type": "code",
   "execution_count": 12,
   "metadata": {
    "collapsed": false
   },
   "outputs": [],
   "source": [
    "def parse_asp(additionalSearchParams):\n",
    "    for child in additionalSearchParams:\n",
    "        try:\n",
    "            print(child.attrib['name']+':'+child.attrib['value'])\n",
    "        except KeyError:\n",
    "            pass"
   ]
  },
  {
   "cell_type": "code",
   "execution_count": 13,
   "metadata": {
    "collapsed": false
   },
   "outputs": [
    {
     "name": "stdout",
     "output_type": "stream",
     "text": [
      "TargetDecoyApproach:true\n",
      "MinIsotopeError:-1\n",
      "MaxIsotopeError:2\n",
      "FragmentMethod:As written in the spectrum or CID if no info\n",
      "Instrument:LowRes\n",
      "Protocol:Standard\n",
      "NumTolerableTermini:1\n",
      "NumMatchesPerSpec:1\n",
      "MaxNumModifications:3\n",
      "MinPepLength:6\n",
      "MaxPepLength:50\n",
      "MinCharge:2\n",
      "MaxCharge:5\n"
     ]
    }
   ],
   "source": [
    "parse_asp(asp)"
   ]
  },
  {
   "cell_type": "code",
   "execution_count": 20,
   "metadata": {
    "collapsed": false
   },
   "outputs": [],
   "source": [
    "def parse_mop(modificationParams):\n",
    "    s=\"\"\n",
    "    for child in modificationParams:\n",
    "        s+=child.attrib[\"residues\"]+'/'+child.attrib[\"massDelta\"]+'/'+child.attrib[\"fixedMod\"]+','\n",
    "    if s!=\"\":\n",
    "        s=s[:-1]\n",
    "    print(\"Modification:\"+s)"
   ]
  },
  {
   "cell_type": "code",
   "execution_count": 21,
   "metadata": {
    "collapsed": false
   },
   "outputs": [
    {
     "name": "stdout",
     "output_type": "stream",
     "text": [
      "Modification:M/15.994915/false\n"
     ]
    }
   ],
   "source": [
    "parse_mop(mop)"
   ]
  },
  {
   "cell_type": "code",
   "execution_count": 22,
   "metadata": {
    "collapsed": true
   },
   "outputs": [],
   "source": [
    "def parse_enz(enzymes):\n",
    "    s=\"\"\n",
    "    for child in enzymes:\n",
    "        s+=child.attrib[\"id\"]+','\n",
    "    if s!=\"\":\n",
    "        s=s[:-1]\n",
    "    print(\"Enzymes:\"+s)"
   ]
  },
  {
   "cell_type": "code",
   "execution_count": 23,
   "metadata": {
    "collapsed": false
   },
   "outputs": [
    {
     "name": "stdout",
     "output_type": "stream",
     "text": [
      "Enzymes:Tryp\n"
     ]
    }
   ],
   "source": [
    "parse_enz(enz)"
   ]
  },
  {
   "cell_type": "code",
   "execution_count": 24,
   "metadata": {
    "collapsed": false
   },
   "outputs": [],
   "source": [
    "def parse_pto(parentTolerance):\n",
    "    for child in parentTolerance:\n",
    "        print(child.attrib[\"name\"]+\":\"+child.attrib[\"value\"]+\" \"+child.attrib[\"unitName\"])"
   ]
  },
  {
   "cell_type": "code",
   "execution_count": 25,
   "metadata": {
    "collapsed": false
   },
   "outputs": [
    {
     "name": "stdout",
     "output_type": "stream",
     "text": [
      "search tolerance plus value:20.0 parts per million\n",
      "search tolerance minus value:20.0 parts per million\n"
     ]
    }
   ],
   "source": [
    "parse_pto(pto)"
   ]
  },
  {
   "cell_type": "code",
   "execution_count": null,
   "metadata": {
    "collapsed": true
   },
   "outputs": [],
   "source": [
    "def main(filepath):\n",
    "    "
   ]
  }
 ],
 "metadata": {
  "anaconda-cloud": {},
  "kernelspec": {
   "display_name": "Python [conda root]",
   "language": "python",
   "name": "conda-root-py"
  },
  "language_info": {
   "codemirror_mode": {
    "name": "ipython",
    "version": 3
   },
   "file_extension": ".py",
   "mimetype": "text/x-python",
   "name": "python",
   "nbconvert_exporter": "python",
   "pygments_lexer": "ipython3",
   "version": "3.5.2"
  }
 },
 "nbformat": 4,
 "nbformat_minor": 1
}
