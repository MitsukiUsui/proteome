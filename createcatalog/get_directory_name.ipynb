{
 "cells": [
  {
   "cell_type": "code",
   "execution_count": 1,
   "metadata": {
    "collapsed": true
   },
   "outputs": [],
   "source": [
    "import re"
   ]
  },
  {
   "cell_type": "code",
   "execution_count": 2,
   "metadata": {
    "collapsed": false
   },
   "outputs": [],
   "source": [
    "dirLst=[]\n",
    "r=re.compile(r\"([^‘]*).mzTab\")\n",
    "with open('pnnlFilename.txt','r') as f:\n",
    "    for line in f:\n",
    "        m=r.search(line)\n",
    "        dirLst.append(m.group(1))"
   ]
  },
  {
   "cell_type": "code",
   "execution_count": 3,
   "metadata": {
    "collapsed": false
   },
   "outputs": [
    {
     "data": {
      "text/plain": [
       "['Acidiphilium_cryptum_JF-5',\n",
       " 'Actinosynnema_mirum_DSM_43827',\n",
       " 'Anabaena_variabilis',\n",
       " 'Anaeromyxobacter_dehalogenans',\n",
       " 'Anaplasma_phagocytophilium',\n",
       " 'Arthrobacter_sp_FB24',\n",
       " 'Bacillus_anthracis_Ames',\n",
       " 'Bacillus_anthracis_Sterne',\n",
       " 'Bacillus_subtilis_168',\n",
       " 'Bartonella_henselae_Houston-1',\n",
       " 'Borrelia_burdorferi_B31',\n",
       " 'Brachybacterium_faecium_DSM_4810',\n",
       " 'Burkholderia_mallei',\n",
       " 'Candidatus_chloracidobacterium_thermophilum',\n",
       " 'Caulobacter_crescentus_CB15',\n",
       " 'Cellulomonas_flavigena_DSM_20109',\n",
       " 'Cenarchaeum_symbiosum',\n",
       " 'Chlorobaculum_tepidum_WT',\n",
       " 'Chloroflexus_aurantiacus',\n",
       " 'Clostridium_thermocellum',\n",
       " 'Cryptobacterium_curtum_DSM_15641',\n",
       " 'Cyanobacterium_synechocystis_PCC6803',\n",
       " 'Cyanothece_sp_ATCC51142',\n",
       " 'Cyanothece_strain_ATCC51472',\n",
       " 'Cyanothece_strain_PCC7424',\n",
       " 'Cyanothece_strain_PCC7425',\n",
       " 'Cyanothece_strain_PCC7822',\n",
       " 'Cyanothece_strain_PCC8801',\n",
       " 'Cyanothece_strain_PCC8802',\n",
       " 'Dehalococcoides_ethenogenes',\n",
       " 'Deinococcus_radiodurans_R1',\n",
       " 'Delta_proteobacterium_NaphS2',\n",
       " 'Desulfovibrio_desulfuricans_G20',\n",
       " 'Desulfovibrio_sp_ND132',\n",
       " 'Desulfovibrio_vulgaris_Hildenborough',\n",
       " 'Dethiosulfovibrio_peptidovorans_DSM_11002',\n",
       " 'Ehrlichia_chaffeensis',\n",
       " 'Enterobacter_cloacae_SCF1',\n",
       " 'Escherichia_coli_BL21',\n",
       " 'Escherichia_coli_K-12',\n",
       " 'Escherichia_coli_RK4353',\n",
       " 'Fibrobacter_succinogenes_S85',\n",
       " 'Geobacter_bemidjiensis_Bem_T',\n",
       " 'Geobacter_metallireducens_GS-15',\n",
       " 'Geobacter_sulfurreducens_PCA',\n",
       " 'Geobacter_uraniumreducens',\n",
       " 'Haloferax_volcanii',\n",
       " 'Halogeometricum_borinquense_DSM_11551',\n",
       " 'Halorhabdus_utahensis_DSM_12940',\n",
       " 'Heliobacterium_modesticaldum',\n",
       " 'Kineococcus_radiotolerans_SRS30216',\n",
       " 'Kosmotoga_olearia_TBF_19-5-1',\n",
       " 'Methanosarcina_barkeri',\n",
       " 'Methanospirillum_hungatei_JF-1',\n",
       " 'Methylophilales_HTCC2181',\n",
       " 'Mycobacterium_tuberculosis',\n",
       " 'Nakamurella_multipartita_DSM_44233',\n",
       " 'Nocardiopsis_dassonvillei_DSM_43111',\n",
       " 'Novosphingobium_aromaticivorans_F199',\n",
       " 'Opitutaceae_bacterium_TAV2',\n",
       " 'Pelagibacter_ubique_HTC1062',\n",
       " 'Pelobacter_carbinolicus_DSM_2380',\n",
       " 'Prochlorococcus',\n",
       " 'Pseudomonas_aerunginosa',\n",
       " 'Pseudomonas_fluorescens_PfO-1',\n",
       " 'Pseudonocardia_sp',\n",
       " 'Ralstonia_pickettii',\n",
       " 'Rhodobacter_capsulatus_SB1003',\n",
       " 'Rhodobacter_sphaeroides_2.4.1',\n",
       " 'Rhodopseudomonas_palustris',\n",
       " 'Roseiflexus_castenholzii',\n",
       " 'Saccharomonospora_viridis_DSM_43017',\n",
       " 'Salmonella_typhi_TY2',\n",
       " 'Salmonella_typhimurium_ATCC_14028',\n",
       " 'Salmonella_typhimurium_LT2',\n",
       " 'Sanguibacter_keddieii_DSM_10542',\n",
       " 'Shewanella_amazonensis_SB2B',\n",
       " 'Shewanella_baltica_OS155',\n",
       " 'Shewanella_baltica_OS185',\n",
       " 'Shewanella_baltica_OS195',\n",
       " 'Shewanella_baltica_OS223',\n",
       " 'Shewanella_denitrificans_OS217',\n",
       " 'Shewanella_frigidimarina_NCIMB_400',\n",
       " 'Shewanella_loihica_PV-4',\n",
       " 'Shewanella_oneidensis_MR-1',\n",
       " 'Shewanella_putrefaciens_200',\n",
       " 'Shewanella_putrefaciens_CN-32',\n",
       " 'Shewanella_putrefaciens_W3-18-1',\n",
       " 'Shewanella_sp_ANA-3',\n",
       " 'Shewanella_sp_MR-4',\n",
       " 'Shewanella_sp_MR-7',\n",
       " 'Sinorhizobium_medicae',\n",
       " 'Sinorhizobium_meliloti_1021',\n",
       " 'Slackia_heliotrinireducens_DSM_20476',\n",
       " 'Stackebrandtia_nassauensis_DSM_44728',\n",
       " 'Sulfolobus_acidocaldarius_DSM_639',\n",
       " 'Synechococcus_sp_PCC7002',\n",
       " 'Syntrophobacter_fumaroxidans',\n",
       " 'Thermobispora_bispora_DSM_43833',\n",
       " 'Thermosynechococcus_elongatus_BP-1',\n",
       " 'Thermosynechococcus_sp_NAK55',\n",
       " 'Thermotoga_maritima',\n",
       " 'Thiocapsa_marina_DSM_5653T',\n",
       " 'Verrucomicrobium_sp_TAV1',\n",
       " 'Verrucomicrobium_sp_TAV5',\n",
       " 'Xylanimonas_cellulosilytica_DSM_15894',\n",
       " 'Yersinia_enterocolitica',\n",
       " 'Yersinia_pestis_CO92',\n",
       " 'Yersinia_pestis_KIM',\n",
       " 'Yersinia_pestis_Pestoides_F',\n",
       " 'Yersinia_pseudotuberculosis_IP_32953',\n",
       " 'Yersinia_pseudotuberculosis_PB1_Plus']"
      ]
     },
     "execution_count": 3,
     "metadata": {},
     "output_type": "execute_result"
    }
   ],
   "source": [
    "dirLst"
   ]
  },
  {
   "cell_type": "code",
   "execution_count": 4,
   "metadata": {
    "collapsed": false
   },
   "outputs": [
    {
     "data": {
      "text/plain": [
       "112"
      ]
     },
     "execution_count": 4,
     "metadata": {},
     "output_type": "execute_result"
    }
   ],
   "source": [
    "len(dirLst)"
   ]
  },
  {
   "cell_type": "code",
   "execution_count": 5,
   "metadata": {
    "collapsed": false
   },
   "outputs": [
    {
     "data": {
      "text/html": [
       "<div>\n",
       "<table border=\"1\" class=\"dataframe\">\n",
       "  <thead>\n",
       "    <tr style=\"text-align: right;\">\n",
       "      <th></th>\n",
       "      <th>scientific_name</th>\n",
       "      <th>tax_id</th>\n",
       "    </tr>\n",
       "  </thead>\n",
       "  <tbody>\n",
       "    <tr>\n",
       "      <th>0</th>\n",
       "      <td>Acidiphilium cryptum JF-5</td>\n",
       "      <td>349163</td>\n",
       "    </tr>\n",
       "    <tr>\n",
       "      <th>1</th>\n",
       "      <td>Actinosynnema mirum DSM 43827</td>\n",
       "      <td>446462</td>\n",
       "    </tr>\n",
       "    <tr>\n",
       "      <th>2</th>\n",
       "      <td>Anabaena variabilis</td>\n",
       "      <td>1172</td>\n",
       "    </tr>\n",
       "    <tr>\n",
       "      <th>3</th>\n",
       "      <td>Anaeromyxobacter dehalogenans</td>\n",
       "      <td>161493</td>\n",
       "    </tr>\n",
       "    <tr>\n",
       "      <th>4</th>\n",
       "      <td>Anaplasma phagocytophilum</td>\n",
       "      <td>948</td>\n",
       "    </tr>\n",
       "  </tbody>\n",
       "</table>\n",
       "</div>"
      ],
      "text/plain": [
       "                 scientific_name  tax_id\n",
       "0      Acidiphilium cryptum JF-5  349163\n",
       "1  Actinosynnema mirum DSM 43827  446462\n",
       "2            Anabaena variabilis    1172\n",
       "3  Anaeromyxobacter dehalogenans  161493\n",
       "4      Anaplasma phagocytophilum     948"
      ]
     },
     "execution_count": 5,
     "metadata": {},
     "output_type": "execute_result"
    }
   ],
   "source": [
    "import pandas as pd\n",
    "df=pd.read_csv(\"input.csv\",dtype=\"object\")\n",
    "df.head()"
   ]
  },
  {
   "cell_type": "code",
   "execution_count": null,
   "metadata": {
    "collapsed": false
   },
   "outputs": [],
   "source": [
    "import numpy as np\n",
    "lst=[]\n",
    "for name in df['scientific_name']:\n",
    "    if not(pd.isnull(name)):\n",
    "        name_formatted='_'.join(name.split())\n",
    "        if (name_formatted in dirLst):\n",
    "            lst.append(name_formatted)\n",
    "            continue\n",
    "    lst.append(\"\")"
   ]
  },
  {
   "cell_type": "code",
   "execution_count": 7,
   "metadata": {
    "collapsed": false
   },
   "outputs": [
    {
     "data": {
      "text/html": [
       "<div>\n",
       "<table border=\"1\" class=\"dataframe\">\n",
       "  <thead>\n",
       "    <tr style=\"text-align: right;\">\n",
       "      <th></th>\n",
       "      <th>scientific_name</th>\n",
       "      <th>tax_id</th>\n",
       "      <th>dir_name</th>\n",
       "    </tr>\n",
       "  </thead>\n",
       "  <tbody>\n",
       "    <tr>\n",
       "      <th>0</th>\n",
       "      <td>Acidiphilium cryptum JF-5</td>\n",
       "      <td>349163</td>\n",
       "      <td>Acidiphilium_cryptum_JF-5</td>\n",
       "    </tr>\n",
       "    <tr>\n",
       "      <th>1</th>\n",
       "      <td>Actinosynnema mirum DSM 43827</td>\n",
       "      <td>446462</td>\n",
       "      <td>Actinosynnema_mirum_DSM_43827</td>\n",
       "    </tr>\n",
       "    <tr>\n",
       "      <th>2</th>\n",
       "      <td>Anabaena variabilis</td>\n",
       "      <td>1172</td>\n",
       "      <td>Anabaena_variabilis</td>\n",
       "    </tr>\n",
       "    <tr>\n",
       "      <th>3</th>\n",
       "      <td>Anaeromyxobacter dehalogenans</td>\n",
       "      <td>161493</td>\n",
       "      <td>Anaeromyxobacter_dehalogenans</td>\n",
       "    </tr>\n",
       "    <tr>\n",
       "      <th>4</th>\n",
       "      <td>Anaplasma phagocytophilum</td>\n",
       "      <td>948</td>\n",
       "      <td>Anaplasma_phagocytophilium</td>\n",
       "    </tr>\n",
       "  </tbody>\n",
       "</table>\n",
       "</div>"
      ],
      "text/plain": [
       "                 scientific_name  tax_id                       dir_name\n",
       "0      Acidiphilium cryptum JF-5  349163      Acidiphilium_cryptum_JF-5\n",
       "1  Actinosynnema mirum DSM 43827  446462  Actinosynnema_mirum_DSM_43827\n",
       "2            Anabaena variabilis    1172            Anabaena_variabilis\n",
       "3  Anaeromyxobacter dehalogenans  161493  Anaeromyxobacter_dehalogenans\n",
       "4      Anaplasma phagocytophilum     948     Anaplasma_phagocytophilium"
      ]
     },
     "execution_count": 7,
     "metadata": {},
     "output_type": "execute_result"
    }
   ],
   "source": [
    "#df[\"dir_name\"]=lst\n",
    "df[\"dir_name\"]=dirLst\n",
    "df.head()"
   ]
  },
  {
   "cell_type": "code",
   "execution_count": 8,
   "metadata": {
    "collapsed": true
   },
   "outputs": [],
   "source": [
    "df.to_csv(\"pnnl_lookup.csv\",index=False)"
   ]
  },
  {
   "cell_type": "code",
   "execution_count": null,
   "metadata": {
    "collapsed": true
   },
   "outputs": [],
   "source": []
  }
 ],
 "metadata": {
  "anaconda-cloud": {},
  "kernelspec": {
   "display_name": "Python [default]",
   "language": "python",
   "name": "python3"
  },
  "language_info": {
   "codemirror_mode": {
    "name": "ipython",
    "version": 3
   },
   "file_extension": ".py",
   "mimetype": "text/x-python",
   "name": "python",
   "nbconvert_exporter": "python",
   "pygments_lexer": "ipython3",
   "version": "3.5.2"
  }
 },
 "nbformat": 4,
 "nbformat_minor": 2
}
