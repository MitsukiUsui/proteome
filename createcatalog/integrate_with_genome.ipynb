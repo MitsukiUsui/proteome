{
 "cells": [
  {
   "cell_type": "code",
   "execution_count": 1,
   "metadata": {
    "collapsed": true
   },
   "outputs": [],
   "source": [
    "import pandas as pd"
   ]
  },
  {
   "cell_type": "code",
   "execution_count": 19,
   "metadata": {
    "collapsed": false
   },
   "outputs": [
    {
     "data": {
      "text/html": [
       "<div>\n",
       "<table border=\"1\" class=\"dataframe\">\n",
       "  <thead>\n",
       "    <tr style=\"text-align: right;\">\n",
       "      <th></th>\n",
       "      <th>asm_name</th>\n",
       "      <th>assembly_accession</th>\n",
       "      <th>domain</th>\n",
       "      <th>ftp_basename</th>\n",
       "      <th>ftp_path</th>\n",
       "      <th>organism_name</th>\n",
       "      <th>taxid</th>\n",
       "    </tr>\n",
       "  </thead>\n",
       "  <tbody>\n",
       "    <tr>\n",
       "      <th>0</th>\n",
       "      <td>ASM2238v1</td>\n",
       "      <td>GCF_000022385.1</td>\n",
       "      <td>archaea</td>\n",
       "      <td>GCF_000022385.1_ASM2238v1</td>\n",
       "      <td>ftp://ftp.ncbi.nlm.nih.gov/genomes/all/GCF/000...</td>\n",
       "      <td>Sulfolobus islandicus L.S.2.15</td>\n",
       "      <td>429572</td>\n",
       "    </tr>\n",
       "    <tr>\n",
       "      <th>1</th>\n",
       "      <td>ASM97008v1</td>\n",
       "      <td>GCF_000970085.1</td>\n",
       "      <td>archaea</td>\n",
       "      <td>GCF_000970085.1_ASM97008v1</td>\n",
       "      <td>ftp://ftp.ncbi.nlm.nih.gov/genomes/all/GCF/000...</td>\n",
       "      <td>Methanosarcina siciliae T4/M</td>\n",
       "      <td>1434120</td>\n",
       "    </tr>\n",
       "    <tr>\n",
       "      <th>2</th>\n",
       "      <td>ASM734v1</td>\n",
       "      <td>GCF_000007345.1</td>\n",
       "      <td>archaea</td>\n",
       "      <td>GCF_000007345.1_ASM734v1</td>\n",
       "      <td>ftp://ftp.ncbi.nlm.nih.gov/genomes/all/GCF/000...</td>\n",
       "      <td>Methanosarcina acetivorans C2A</td>\n",
       "      <td>188937</td>\n",
       "    </tr>\n",
       "    <tr>\n",
       "      <th>3</th>\n",
       "      <td>ASM35030v1</td>\n",
       "      <td>GCF_000350305.1</td>\n",
       "      <td>archaea</td>\n",
       "      <td>GCF_000350305.1_ASM35030v1</td>\n",
       "      <td>ftp://ftp.ncbi.nlm.nih.gov/genomes/all/GCF/000...</td>\n",
       "      <td>Thermoplasmatales archaeon BRNA1</td>\n",
       "      <td>1054217</td>\n",
       "    </tr>\n",
       "    <tr>\n",
       "      <th>4</th>\n",
       "      <td>ASM96990v1</td>\n",
       "      <td>GCF_000969905.1</td>\n",
       "      <td>archaea</td>\n",
       "      <td>GCF_000969905.1_ASM96990v1</td>\n",
       "      <td>ftp://ftp.ncbi.nlm.nih.gov/genomes/all/GCF/000...</td>\n",
       "      <td>Methanosarcina vacuolata Z-761</td>\n",
       "      <td>1434123</td>\n",
       "    </tr>\n",
       "  </tbody>\n",
       "</table>\n",
       "</div>"
      ],
      "text/plain": [
       "     asm_name assembly_accession   domain                ftp_basename  \\\n",
       "0   ASM2238v1    GCF_000022385.1  archaea   GCF_000022385.1_ASM2238v1   \n",
       "1  ASM97008v1    GCF_000970085.1  archaea  GCF_000970085.1_ASM97008v1   \n",
       "2    ASM734v1    GCF_000007345.1  archaea    GCF_000007345.1_ASM734v1   \n",
       "3  ASM35030v1    GCF_000350305.1  archaea  GCF_000350305.1_ASM35030v1   \n",
       "4  ASM96990v1    GCF_000969905.1  archaea  GCF_000969905.1_ASM96990v1   \n",
       "\n",
       "                                            ftp_path  \\\n",
       "0  ftp://ftp.ncbi.nlm.nih.gov/genomes/all/GCF/000...   \n",
       "1  ftp://ftp.ncbi.nlm.nih.gov/genomes/all/GCF/000...   \n",
       "2  ftp://ftp.ncbi.nlm.nih.gov/genomes/all/GCF/000...   \n",
       "3  ftp://ftp.ncbi.nlm.nih.gov/genomes/all/GCF/000...   \n",
       "4  ftp://ftp.ncbi.nlm.nih.gov/genomes/all/GCF/000...   \n",
       "\n",
       "                      organism_name    taxid  \n",
       "0    Sulfolobus islandicus L.S.2.15   429572  \n",
       "1      Methanosarcina siciliae T4/M  1434120  \n",
       "2    Methanosarcina acetivorans C2A   188937  \n",
       "3  Thermoplasmatales archaeon BRNA1  1054217  \n",
       "4    Methanosarcina vacuolata Z-761  1434123  "
      ]
     },
     "execution_count": 19,
     "metadata": {},
     "output_type": "execute_result"
    }
   ],
   "source": [
    "genomeFilepath=\"~/altorf/genome/speciespick/picked_assembly_summary.csv\"\n",
    "genomeDf=pd.read_csv(genomeFilepath)\n",
    "genomeDf[\"taxid\"]=[str(i) for i in genomeDf[\"taxid\"]]\n",
    "genomeDf.head()"
   ]
  },
  {
   "cell_type": "code",
   "execution_count": 12,
   "metadata": {
    "collapsed": false
   },
   "outputs": [
    {
     "data": {
      "text/html": [
       "<div>\n",
       "<table border=\"1\" class=\"dataframe\">\n",
       "  <thead>\n",
       "    <tr style=\"text-align: right;\">\n",
       "      <th></th>\n",
       "      <th>scientific_name</th>\n",
       "      <th>taxid</th>\n",
       "      <th>dir_name</th>\n",
       "      <th>genome_flag</th>\n",
       "    </tr>\n",
       "  </thead>\n",
       "  <tbody>\n",
       "    <tr>\n",
       "      <th>0</th>\n",
       "      <td>Acidiphilium cryptum JF-5</td>\n",
       "      <td>349163</td>\n",
       "      <td>Acidiphilium_cryptum_JF-5</td>\n",
       "      <td>0</td>\n",
       "    </tr>\n",
       "    <tr>\n",
       "      <th>1</th>\n",
       "      <td>Actinosynnema mirum DSM 43827</td>\n",
       "      <td>446462</td>\n",
       "      <td>Actinosynnema_mirum_DSM_43827</td>\n",
       "      <td>1</td>\n",
       "    </tr>\n",
       "    <tr>\n",
       "      <th>2</th>\n",
       "      <td>Anabaena variabilis</td>\n",
       "      <td>1172</td>\n",
       "      <td>Anabaena_variabilis</td>\n",
       "      <td>0</td>\n",
       "    </tr>\n",
       "    <tr>\n",
       "      <th>3</th>\n",
       "      <td>Anaeromyxobacter dehalogenans</td>\n",
       "      <td>161493</td>\n",
       "      <td>Anaeromyxobacter_dehalogenans</td>\n",
       "      <td>0</td>\n",
       "    </tr>\n",
       "    <tr>\n",
       "      <th>4</th>\n",
       "      <td>Anaplasma phagocytophilum</td>\n",
       "      <td>948</td>\n",
       "      <td>Anaplasma_phagocytophilium</td>\n",
       "      <td>0</td>\n",
       "    </tr>\n",
       "  </tbody>\n",
       "</table>\n",
       "</div>"
      ],
      "text/plain": [
       "                 scientific_name   taxid                       dir_name  \\\n",
       "0      Acidiphilium cryptum JF-5  349163      Acidiphilium_cryptum_JF-5   \n",
       "1  Actinosynnema mirum DSM 43827  446462  Actinosynnema_mirum_DSM_43827   \n",
       "2            Anabaena variabilis    1172            Anabaena_variabilis   \n",
       "3  Anaeromyxobacter dehalogenans  161493  Anaeromyxobacter_dehalogenans   \n",
       "4      Anaplasma phagocytophilum     948     Anaplasma_phagocytophilium   \n",
       "\n",
       "  genome_flag  \n",
       "0           0  \n",
       "1           1  \n",
       "2           0  \n",
       "3           0  \n",
       "4           0  "
      ]
     },
     "execution_count": 12,
     "metadata": {},
     "output_type": "execute_result"
    }
   ],
   "source": [
    "proteomeFilepath=\"pnnl_lookup.csv\"\n",
    "proteomeDf=pd.read_csv(proteomeFilepath,dtype='object')\n",
    "proteomeDf.head()"
   ]
  },
  {
   "cell_type": "code",
   "execution_count": 22,
   "metadata": {
    "collapsed": false
   },
   "outputs": [
    {
     "name": "stdout",
     "output_type": "stream",
     "text": [
      "1615\n",
      "112\n"
     ]
    }
   ],
   "source": [
    "genomeLst=list(genomeDf[\"taxid\"])\n",
    "print(len(genomeLst))\n",
    "proteomeLst=list(proteomeDf[\"taxid\"].fillna(-1))\n",
    "print(len(proteomeLst))"
   ]
  },
  {
   "cell_type": "markdown",
   "metadata": {},
   "source": [
    "!!! be aware of type because of Nulls in proteomeLst"
   ]
  },
  {
   "cell_type": "code",
   "execution_count": 23,
   "metadata": {
    "collapsed": false
   },
   "outputs": [
    {
     "name": "stdout",
     "output_type": "stream",
     "text": [
      "<class 'str'>\n",
      "<class 'str'>\n"
     ]
    }
   ],
   "source": [
    "print(type(genomeLst[0]))\n",
    "print(type(proteomeLst[0]))"
   ]
  },
  {
   "cell_type": "code",
   "execution_count": 7,
   "metadata": {
    "collapsed": false,
    "scrolled": true
   },
   "outputs": [
    {
     "name": "stdout",
     "output_type": "stream",
     "text": [
      "Actinosynnema mirum DSM 43827\n",
      "Arthrobacter sp. FB24\n",
      "Bartonella henselae str. Houston-1\n",
      "Cellulomonas flavigena DSM 20109\n",
      "Cryptobacterium curtum DSM 15641\n",
      "Synechocystis sp. PCC 6803\n",
      "Cyanothece sp. ATCC 51142\n",
      "Cyanothece sp. PCC 7424\n",
      "Cyanothece sp. PCC 7425\n",
      "Cyanothece sp. PCC 7822\n",
      "Cyanothece sp. PCC 8801\n",
      "Dehalococcoides ethenogenes 195\n",
      "Desulfovibrio desulfuricans ND132\n",
      "Enterobacter cloacae SCF1\n",
      "Fibrobacter succinogenes subsp. succinogenes S85\n",
      "Geobacter bemidjiensis Bem\n",
      "Geobacter metallireducens GS-15\n",
      "Halogeometricum borinquense DSM 11551\n",
      "Halorhabdus utahensis DSM 12940\n",
      "Kineococcus radiotolerans SRS30216\n",
      "Kosmotoga olearia TBF 19.5.1\n",
      "Methanospirillum hungatei JF-1\n",
      "Nakamurella multipartita DSM 44233\n",
      "Nocardiopsis dassonvillei subsp. dassonvillei DSM 43111\n",
      "Candidatus Pelagibacter ubique HTCC1062\n",
      "Pelobacter carbinolicus DSM 2380\n",
      "Prochlorococcus marinus subsp. pastoris str. CCMP1986\n",
      "Rhodobacter capsulatus SB 1003\n",
      "Saccharomonospora viridis DSM 43017\n",
      "Sanguibacter keddieii DSM 10542\n",
      "Shewanella amazonensis SB2B\n",
      "Shewanella denitrificans OS217\n",
      "Shewanella frigidimarina NCIMB 400\n",
      "Shewanella loihica PV-4\n",
      "Slackia heliotrinireducens DSM 20476\n",
      "Stackebrandtia nassauensis DSM 44728\n",
      "Sulfolobus acidocaldarius DSM 639\n",
      "Synechococcus sp. PCC 7002\n",
      "Thermobispora bispora DSM 43833\n",
      "Opitutaceae bacterium TAV5\n",
      "Xylanimonas cellulosilytica DSM 15894\n",
      "41\n"
     ]
    }
   ],
   "source": [
    "count=0\n",
    "for taxId in proteomeLst:\n",
    "    if int(taxId) in genomeLst:\n",
    "        count+=1\n",
    "        print(proteomeDf[proteomeDf[\"tax_id\"]==taxId].iloc[0,0])\n",
    "print(count)"
   ]
  },
  {
   "cell_type": "code",
   "execution_count": 8,
   "metadata": {
    "collapsed": false
   },
   "outputs": [],
   "source": [
    "lst=[]\n",
    "for taxId in proteomeLst:\n",
    "    if int(taxId) in genomeLst:\n",
    "        lst.append(1)\n",
    "    else:\n",
    "        lst.append(0)"
   ]
  },
  {
   "cell_type": "code",
   "execution_count": 13,
   "metadata": {
    "collapsed": false
   },
   "outputs": [
    {
     "data": {
      "text/html": [
       "<div>\n",
       "<table border=\"1\" class=\"dataframe\">\n",
       "  <thead>\n",
       "    <tr style=\"text-align: right;\">\n",
       "      <th></th>\n",
       "      <th>scientific_name</th>\n",
       "      <th>taxid</th>\n",
       "      <th>dir_name</th>\n",
       "      <th>genome_flag</th>\n",
       "    </tr>\n",
       "  </thead>\n",
       "  <tbody>\n",
       "    <tr>\n",
       "      <th>0</th>\n",
       "      <td>Acidiphilium cryptum JF-5</td>\n",
       "      <td>349163</td>\n",
       "      <td>Acidiphilium_cryptum_JF-5</td>\n",
       "      <td>0</td>\n",
       "    </tr>\n",
       "    <tr>\n",
       "      <th>1</th>\n",
       "      <td>Actinosynnema mirum DSM 43827</td>\n",
       "      <td>446462</td>\n",
       "      <td>Actinosynnema_mirum_DSM_43827</td>\n",
       "      <td>1</td>\n",
       "    </tr>\n",
       "    <tr>\n",
       "      <th>2</th>\n",
       "      <td>Anabaena variabilis</td>\n",
       "      <td>1172</td>\n",
       "      <td>Anabaena_variabilis</td>\n",
       "      <td>0</td>\n",
       "    </tr>\n",
       "    <tr>\n",
       "      <th>3</th>\n",
       "      <td>Anaeromyxobacter dehalogenans</td>\n",
       "      <td>161493</td>\n",
       "      <td>Anaeromyxobacter_dehalogenans</td>\n",
       "      <td>0</td>\n",
       "    </tr>\n",
       "    <tr>\n",
       "      <th>4</th>\n",
       "      <td>Anaplasma phagocytophilum</td>\n",
       "      <td>948</td>\n",
       "      <td>Anaplasma_phagocytophilium</td>\n",
       "      <td>0</td>\n",
       "    </tr>\n",
       "  </tbody>\n",
       "</table>\n",
       "</div>"
      ],
      "text/plain": [
       "                 scientific_name   taxid                       dir_name  \\\n",
       "0      Acidiphilium cryptum JF-5  349163      Acidiphilium_cryptum_JF-5   \n",
       "1  Actinosynnema mirum DSM 43827  446462  Actinosynnema_mirum_DSM_43827   \n",
       "2            Anabaena variabilis    1172            Anabaena_variabilis   \n",
       "3  Anaeromyxobacter dehalogenans  161493  Anaeromyxobacter_dehalogenans   \n",
       "4      Anaplasma phagocytophilum     948     Anaplasma_phagocytophilium   \n",
       "\n",
       "   genome_flag  \n",
       "0            0  \n",
       "1            1  \n",
       "2            0  \n",
       "3            0  \n",
       "4            0  "
      ]
     },
     "execution_count": 13,
     "metadata": {},
     "output_type": "execute_result"
    }
   ],
   "source": [
    "proteomeDf[\"genome_flag\"]=lst\n",
    "proteomeDf.head()"
   ]
  },
  {
   "cell_type": "code",
   "execution_count": 24,
   "metadata": {
    "collapsed": false
   },
   "outputs": [
    {
     "data": {
      "text/html": [
       "<div>\n",
       "<table border=\"1\" class=\"dataframe\">\n",
       "  <thead>\n",
       "    <tr style=\"text-align: right;\">\n",
       "      <th></th>\n",
       "      <th>scientific_name</th>\n",
       "      <th>taxid</th>\n",
       "      <th>dir_name</th>\n",
       "      <th>genome_flag</th>\n",
       "      <th>asm_name</th>\n",
       "      <th>assembly_accession</th>\n",
       "      <th>domain</th>\n",
       "      <th>ftp_basename</th>\n",
       "      <th>ftp_path</th>\n",
       "      <th>organism_name</th>\n",
       "    </tr>\n",
       "  </thead>\n",
       "  <tbody>\n",
       "    <tr>\n",
       "      <th>1</th>\n",
       "      <td>Actinosynnema mirum DSM 43827</td>\n",
       "      <td>446462</td>\n",
       "      <td>Actinosynnema_mirum_DSM_43827</td>\n",
       "      <td>1</td>\n",
       "      <td>ASM2324v1</td>\n",
       "      <td>GCF_000023245.1</td>\n",
       "      <td>bacteria</td>\n",
       "      <td>GCF_000023245.1_ASM2324v1</td>\n",
       "      <td>ftp://ftp.ncbi.nlm.nih.gov/genomes/all/GCF/000...</td>\n",
       "      <td>Actinosynnema mirum DSM 43827</td>\n",
       "    </tr>\n",
       "    <tr>\n",
       "      <th>5</th>\n",
       "      <td>Arthrobacter sp. FB24</td>\n",
       "      <td>290399</td>\n",
       "      <td>Arthrobacter_sp_FB24</td>\n",
       "      <td>1</td>\n",
       "      <td>ASM19623v1</td>\n",
       "      <td>GCF_000196235.1</td>\n",
       "      <td>bacteria</td>\n",
       "      <td>GCF_000196235.1_ASM19623v1</td>\n",
       "      <td>ftp://ftp.ncbi.nlm.nih.gov/genomes/all/GCF/000...</td>\n",
       "      <td>Arthrobacter sp. FB24</td>\n",
       "    </tr>\n",
       "    <tr>\n",
       "      <th>9</th>\n",
       "      <td>Bartonella henselae str. Houston-1</td>\n",
       "      <td>283166</td>\n",
       "      <td>Bartonella_henselae_Houston-1</td>\n",
       "      <td>1</td>\n",
       "      <td>ASM4670v1</td>\n",
       "      <td>GCF_000046705.1</td>\n",
       "      <td>bacteria</td>\n",
       "      <td>GCF_000046705.1_ASM4670v1</td>\n",
       "      <td>ftp://ftp.ncbi.nlm.nih.gov/genomes/all/GCF/000...</td>\n",
       "      <td>Bartonella henselae str. Houston-1</td>\n",
       "    </tr>\n",
       "    <tr>\n",
       "      <th>15</th>\n",
       "      <td>Cellulomonas flavigena DSM 20109</td>\n",
       "      <td>446466</td>\n",
       "      <td>Cellulomonas_flavigena_DSM_20109</td>\n",
       "      <td>1</td>\n",
       "      <td>ASM9286v1</td>\n",
       "      <td>GCF_000092865.1</td>\n",
       "      <td>bacteria</td>\n",
       "      <td>GCF_000092865.1_ASM9286v1</td>\n",
       "      <td>ftp://ftp.ncbi.nlm.nih.gov/genomes/all/GCF/000...</td>\n",
       "      <td>Cellulomonas flavigena DSM 20109</td>\n",
       "    </tr>\n",
       "    <tr>\n",
       "      <th>20</th>\n",
       "      <td>Cryptobacterium curtum DSM 15641</td>\n",
       "      <td>469378</td>\n",
       "      <td>Cryptobacterium_curtum_DSM_15641</td>\n",
       "      <td>1</td>\n",
       "      <td>ASM2384v1</td>\n",
       "      <td>GCF_000023845.1</td>\n",
       "      <td>bacteria</td>\n",
       "      <td>GCF_000023845.1_ASM2384v1</td>\n",
       "      <td>ftp://ftp.ncbi.nlm.nih.gov/genomes/all/GCF/000...</td>\n",
       "      <td>Cryptobacterium curtum DSM 15641</td>\n",
       "    </tr>\n",
       "  </tbody>\n",
       "</table>\n",
       "</div>"
      ],
      "text/plain": [
       "                       scientific_name   taxid  \\\n",
       "1        Actinosynnema mirum DSM 43827  446462   \n",
       "5                Arthrobacter sp. FB24  290399   \n",
       "9   Bartonella henselae str. Houston-1  283166   \n",
       "15    Cellulomonas flavigena DSM 20109  446466   \n",
       "20    Cryptobacterium curtum DSM 15641  469378   \n",
       "\n",
       "                            dir_name  genome_flag    asm_name  \\\n",
       "1      Actinosynnema_mirum_DSM_43827            1   ASM2324v1   \n",
       "5               Arthrobacter_sp_FB24            1  ASM19623v1   \n",
       "9      Bartonella_henselae_Houston-1            1   ASM4670v1   \n",
       "15  Cellulomonas_flavigena_DSM_20109            1   ASM9286v1   \n",
       "20  Cryptobacterium_curtum_DSM_15641            1   ASM2384v1   \n",
       "\n",
       "   assembly_accession    domain                ftp_basename  \\\n",
       "1     GCF_000023245.1  bacteria   GCF_000023245.1_ASM2324v1   \n",
       "5     GCF_000196235.1  bacteria  GCF_000196235.1_ASM19623v1   \n",
       "9     GCF_000046705.1  bacteria   GCF_000046705.1_ASM4670v1   \n",
       "15    GCF_000092865.1  bacteria   GCF_000092865.1_ASM9286v1   \n",
       "20    GCF_000023845.1  bacteria   GCF_000023845.1_ASM2384v1   \n",
       "\n",
       "                                             ftp_path  \\\n",
       "1   ftp://ftp.ncbi.nlm.nih.gov/genomes/all/GCF/000...   \n",
       "5   ftp://ftp.ncbi.nlm.nih.gov/genomes/all/GCF/000...   \n",
       "9   ftp://ftp.ncbi.nlm.nih.gov/genomes/all/GCF/000...   \n",
       "15  ftp://ftp.ncbi.nlm.nih.gov/genomes/all/GCF/000...   \n",
       "20  ftp://ftp.ncbi.nlm.nih.gov/genomes/all/GCF/000...   \n",
       "\n",
       "                         organism_name  \n",
       "1        Actinosynnema mirum DSM 43827  \n",
       "5                Arthrobacter sp. FB24  \n",
       "9   Bartonella henselae str. Houston-1  \n",
       "15    Cellulomonas flavigena DSM 20109  \n",
       "20    Cryptobacterium curtum DSM 15641  "
      ]
     },
     "execution_count": 24,
     "metadata": {},
     "output_type": "execute_result"
    }
   ],
   "source": [
    "df=pd.merge(proteomeDf, genomeDf, on='taxid', how='left')\n",
    "df[df[\"genome_flag\"]==1].head()"
   ]
  },
  {
   "cell_type": "code",
   "execution_count": 17,
   "metadata": {
    "collapsed": false
   },
   "outputs": [
    {
     "data": {
      "text/html": [
       "<div>\n",
       "<table border=\"1\" class=\"dataframe\">\n",
       "  <thead>\n",
       "    <tr style=\"text-align: right;\">\n",
       "      <th></th>\n",
       "      <th>asm_name</th>\n",
       "      <th>assembly_accession</th>\n",
       "      <th>domain</th>\n",
       "      <th>ftp_basename</th>\n",
       "      <th>ftp_path</th>\n",
       "      <th>organism_name</th>\n",
       "      <th>taxid</th>\n",
       "    </tr>\n",
       "  </thead>\n",
       "  <tbody>\n",
       "    <tr>\n",
       "      <th>903</th>\n",
       "      <td>ASM2324v1</td>\n",
       "      <td>GCF_000023245.1</td>\n",
       "      <td>bacteria</td>\n",
       "      <td>GCF_000023245.1_ASM2324v1</td>\n",
       "      <td>ftp://ftp.ncbi.nlm.nih.gov/genomes/all/GCF/000...</td>\n",
       "      <td>Actinosynnema mirum DSM 43827</td>\n",
       "      <td>446462</td>\n",
       "    </tr>\n",
       "  </tbody>\n",
       "</table>\n",
       "</div>"
      ],
      "text/plain": [
       "      asm_name assembly_accession    domain               ftp_basename  \\\n",
       "903  ASM2324v1    GCF_000023245.1  bacteria  GCF_000023245.1_ASM2324v1   \n",
       "\n",
       "                                              ftp_path  \\\n",
       "903  ftp://ftp.ncbi.nlm.nih.gov/genomes/all/GCF/000...   \n",
       "\n",
       "                     organism_name   taxid  \n",
       "903  Actinosynnema mirum DSM 43827  446462  "
      ]
     },
     "execution_count": 17,
     "metadata": {},
     "output_type": "execute_result"
    }
   ],
   "source": [
    "genomeDf[genomeDf[\"taxid\"]==446462]"
   ]
  },
  {
   "cell_type": "code",
   "execution_count": 9,
   "metadata": {
    "collapsed": true
   },
   "outputs": [],
   "source": [
    "proteomeDf.to_csv(\"pnnl_lookup.csv\", index=False)"
   ]
  },
  {
   "cell_type": "code",
   "execution_count": null,
   "metadata": {
    "collapsed": true
   },
   "outputs": [],
   "source": []
  }
 ],
 "metadata": {
  "anaconda-cloud": {},
  "kernelspec": {
   "display_name": "Python [default]",
   "language": "python",
   "name": "python3"
  },
  "language_info": {
   "codemirror_mode": {
    "name": "ipython",
    "version": 3
   },
   "file_extension": ".py",
   "mimetype": "text/x-python",
   "name": "python",
   "nbconvert_exporter": "python",
   "pygments_lexer": "ipython3",
   "version": "3.5.2"
  }
 },
 "nbformat": 4,
 "nbformat_minor": 2
}
