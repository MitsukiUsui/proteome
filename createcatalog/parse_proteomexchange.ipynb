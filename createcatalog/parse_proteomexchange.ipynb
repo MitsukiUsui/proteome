{
 "cells": [
  {
   "cell_type": "code",
   "execution_count": 1,
   "metadata": {
    "collapsed": true
   },
   "outputs": [],
   "source": [
    "import pandas as pd"
   ]
  },
  {
   "cell_type": "code",
   "execution_count": 2,
   "metadata": {
    "collapsed": false
   },
   "outputs": [],
   "source": [
    "with open(\"input.txt\",'r') as f:\n",
    "    line=f.read().strip()"
   ]
  },
  {
   "cell_type": "code",
   "execution_count": 3,
   "metadata": {
    "collapsed": false
   },
   "outputs": [
    {
     "data": {
      "text/plain": [
       "['scientific name: Acidiphilium cryptum JF-5',\n",
       " ' NCBI TaxID: 349163',\n",
       " ' scientific name: Actinosynnema mirum DSM 43827',\n",
       " ' NCBI TaxID: 446462',\n",
       " ' scientific name: Anabaena variabilis',\n",
       " ' NCBI TaxID: 1172',\n",
       " ' scientific name: Anaeromyxobacter dehalogenans',\n",
       " ' NCBI TaxID: 161493',\n",
       " ' scientific name: Anaplasma phagocytophilum',\n",
       " ' NCBI TaxID: 948',\n",
       " ' scientific name: Arthrobacter sp. FB24',\n",
       " ' NCBI TaxID: 290399',\n",
       " ' scientific name: Bacillus anthracis str. Ames',\n",
       " ' NCBI TaxID: 198094',\n",
       " ' scientific name: Bacillus anthracis str. Sterne',\n",
       " ' NCBI TaxID: 260799',\n",
       " ' scientific name: Bacillus subtilis subsp. subtilis str. 168',\n",
       " ' NCBI TaxID: 224308',\n",
       " ' scientific name: Bartonella henselae str. Houston-1',\n",
       " ' NCBI TaxID: 283166',\n",
       " ' scientific name: Borrelia burgdorferi B31',\n",
       " ' NCBI TaxID: 224326',\n",
       " ' scientific name: Brachybacterium faecium DSM 4810',\n",
       " ' NCBI TaxID: 446465',\n",
       " ' scientific name: Burkholderia mallei',\n",
       " ' NCBI TaxID: 13373',\n",
       " ' scientific name: Candidatus Chloracidobacterium thermophilum',\n",
       " ' NCBI TaxID: 458033',\n",
       " ' scientific name: Caulobacter crescentus CB15',\n",
       " ' NCBI TaxID: 190650',\n",
       " ' scientific name: Cellulomonas flavigena DSM 20109',\n",
       " ' NCBI TaxID: 446466',\n",
       " ' scientific name: Cenarchaeum symbiosum',\n",
       " ' NCBI TaxID: 46770',\n",
       " ' scientific name: Chlorobaculum tepidum',\n",
       " ' NCBI TaxID: 1097',\n",
       " ' scientific name: Chloroflexus aurantiacus',\n",
       " ' NCBI TaxID: 1108',\n",
       " ' scientific name: Clostridium thermocellum',\n",
       " ' NCBI TaxID: 1515',\n",
       " ' scientific name: Cryptobacterium curtum DSM 15641',\n",
       " ' NCBI TaxID: 469378',\n",
       " ' scientific name: Synechocystis sp. PCC 6803',\n",
       " ' NCBI TaxID: 1148',\n",
       " ' scientific name: Cyanothece sp. ATCC 51142',\n",
       " ' NCBI TaxID: 43989',\n",
       " ' scientific name: Cyanothece sp. ATCC 51472',\n",
       " ' NCBI TaxID: 860575',\n",
       " ' scientific name: Cyanothece sp. PCC 7424',\n",
       " ' NCBI TaxID: 65393',\n",
       " ' scientific name: Cyanothece sp. PCC 7425',\n",
       " ' NCBI TaxID: 395961',\n",
       " ' scientific name: Cyanothece sp. PCC 7822',\n",
       " ' NCBI TaxID: 497965',\n",
       " ' scientific name: Cyanothece sp. PCC 8801',\n",
       " ' NCBI TaxID: 41431',\n",
       " ' scientific name: Cyanothece sp. PCC 8802',\n",
       " ' NCBI TaxID: 395962',\n",
       " ' scientific name: Dehalococcoides ethenogenes 195',\n",
       " ' NCBI TaxID: 243164',\n",
       " ' scientific name: Deinococcus radiodurans R1',\n",
       " ' NCBI TaxID: 243230',\n",
       " ' scientific name: delta proteobacterium NaphS2',\n",
       " ' NCBI TaxID: 88274',\n",
       " ' scientific name: Desulfovibrio desulfuricans',\n",
       " ' NCBI TaxID: 876',\n",
       " ' scientific name: Desulfovibrio desulfuricans ND132',\n",
       " ' NCBI TaxID: 641491',\n",
       " ' scientific name: Desulfovibrio vulgaris str. Hildenborough',\n",
       " ' NCBI TaxID: 882',\n",
       " ' scientific name: Dethiosulfovibrio peptidovorans DSM 11002',\n",
       " ' NCBI TaxID: 469381',\n",
       " ' scientific name: Ehrlichia chaffeensis',\n",
       " ' NCBI TaxID: 945',\n",
       " ' scientific name: Enterobacter cloacae SCF1',\n",
       " ' NCBI TaxID: 701347',\n",
       " ' scientific name: Escherichia coli BL21',\n",
       " ' NCBI TaxID: 511693',\n",
       " ' scientific name: Escherichia coli str. K-12 substr. MG1655',\n",
       " ' NCBI TaxID: 511145',\n",
       " ' scientific name: escherichia coli rk4353',\n",
       " ' scientific name: Fibrobacter succinogenes subsp. succinogenes S85',\n",
       " ' NCBI TaxID: 59374',\n",
       " ' scientific name: Geobacter bemidjiensis Bem',\n",
       " ' NCBI TaxID: 404380',\n",
       " ' scientific name: Geobacter metallireducens GS-15',\n",
       " ' NCBI TaxID: 269799',\n",
       " ' scientific name: Geobacter sulfurreducens PCA',\n",
       " ' NCBI TaxID: 243231',\n",
       " ' scientific name: Geobacter uraniireducens',\n",
       " ' NCBI TaxID: 351604',\n",
       " ' scientific name: Haloferax volcanii',\n",
       " ' NCBI TaxID: 2246',\n",
       " ' scientific name: Halogeometricum borinquense DSM 11551',\n",
       " ' NCBI TaxID: 469382',\n",
       " ' scientific name: Halorhabdus utahensis DSM 12940',\n",
       " ' NCBI TaxID: 519442',\n",
       " ' scientific name: Heliobacterium modesticaldum',\n",
       " ' NCBI TaxID: 35701',\n",
       " ' scientific name: Kineococcus radiotolerans SRS30216',\n",
       " ' NCBI TaxID: 266940',\n",
       " ' scientific name: Kosmotoga olearia TBF 19.5.1',\n",
       " ' NCBI TaxID: 521045',\n",
       " ' scientific name: Methanosarcina barkeri',\n",
       " ' NCBI TaxID: 2208',\n",
       " ' scientific name: Methanospirillum hungatei JF-1',\n",
       " ' NCBI TaxID: 323259',\n",
       " ' scientific name: Methylophilales bacterium HTCC2181',\n",
       " ' NCBI TaxID: 383631',\n",
       " ' scientific name: Mycobacterium tuberculosis H37Rv',\n",
       " ' NCBI TaxID: 83332',\n",
       " ' scientific name: Nakamurella multipartita DSM 44233',\n",
       " ' NCBI TaxID: 479431',\n",
       " ' scientific name: Nocardiopsis dassonvillei subsp. dassonvillei DSM 43111',\n",
       " ' NCBI TaxID: 446468',\n",
       " ' scientific name: Novosphingobium aromaticivorans',\n",
       " ' NCBI TaxID: 48935',\n",
       " ' scientific name: Diplosphaera colitermitum TAV2',\n",
       " ' NCBI TaxID: 278957',\n",
       " ' scientific name: Candidatus Pelagibacter ubique HTCC1062',\n",
       " ' NCBI TaxID: 335992',\n",
       " ' scientific name: Pelobacter carbinolicus DSM 2380',\n",
       " ' NCBI TaxID: 338963',\n",
       " ' scientific name: Prochlorococcus marinus subsp. pastoris str. CCMP1986',\n",
       " ' NCBI TaxID: 59919',\n",
       " ' scientific name: Pseudomonas aeruginosa PAO1',\n",
       " ' NCBI TaxID: 208964',\n",
       " ' scientific name: Pseudomonas fluorescens Pf0-1',\n",
       " ' NCBI TaxID: 205922',\n",
       " ' scientific name: Pseudonocardia sp.',\n",
       " ' NCBI TaxID: 60912',\n",
       " ' scientific name: Ralstonia pickettii',\n",
       " ' NCBI TaxID: 329',\n",
       " ' scientific name: Rhodobacter capsulatus SB 1003',\n",
       " ' NCBI TaxID: 272942',\n",
       " ' scientific name: Rhodobacter sphaeroides 2.4.1',\n",
       " ' NCBI TaxID: 272943',\n",
       " ' scientific name: Rhodopseudomonas palustris',\n",
       " ' NCBI TaxID: 1076',\n",
       " ' scientific name: Roseiflexus castenholzii',\n",
       " ' NCBI TaxID: 120962',\n",
       " ' scientific name: Saccharomonospora viridis DSM 43017',\n",
       " ' NCBI TaxID: 471857',\n",
       " ' scientific name: Salmonella enterica subsp. enterica serovar Typhi str. Ty2',\n",
       " ' NCBI TaxID: 209261',\n",
       " ' scientific name: Salmonella enterica subsp. enterica serovar Typhimurium str. 14028S',\n",
       " ' NCBI TaxID: 588858',\n",
       " ' scientific name: Salmonella enterica subsp. enterica serovar Typhimurium str. LT2',\n",
       " ' NCBI TaxID: 99287',\n",
       " ' scientific name: Sanguibacter keddieii DSM 10542',\n",
       " ' NCBI TaxID: 446469',\n",
       " ' scientific name: Shewanella amazonensis SB2B',\n",
       " ' NCBI TaxID: 326297',\n",
       " ' scientific name: Shewanella baltica OS155',\n",
       " ' NCBI TaxID: 325240',\n",
       " ' scientific name: Shewanella baltica OS185',\n",
       " ' NCBI TaxID: 402882',\n",
       " ' scientific name: Shewanella baltica OS195',\n",
       " ' NCBI TaxID: 399599',\n",
       " ' scientific name: Shewanella baltica OS223',\n",
       " ' NCBI TaxID: 407976',\n",
       " ' scientific name: Shewanella denitrificans OS217',\n",
       " ' NCBI TaxID: 318161',\n",
       " ' scientific name: Shewanella frigidimarina NCIMB 400',\n",
       " ' NCBI TaxID: 318167',\n",
       " ' scientific name: Shewanella loihica PV-4',\n",
       " ' NCBI TaxID: 323850',\n",
       " ' scientific name: Shewanella oneidensis MR-1',\n",
       " ' NCBI TaxID: 211586',\n",
       " ' scientific name: Shewanella putrefaciens 200',\n",
       " ' NCBI TaxID: 399804',\n",
       " ' scientific name: Shewanella putrefaciens CN-32',\n",
       " ' NCBI TaxID: 319224',\n",
       " ' scientific name: Shewanella sp. W3-18-1',\n",
       " ' NCBI TaxID: 351745',\n",
       " ' scientific name: Shewanella sp. ANA-3',\n",
       " ' NCBI TaxID: 94122',\n",
       " ' scientific name: Shewanella sp. MR-4',\n",
       " ' NCBI TaxID: 60480',\n",
       " ' scientific name: Shewanella sp. MR-7',\n",
       " ' NCBI TaxID: 60481',\n",
       " ' scientific name: Sinorhizobium medicae',\n",
       " ' NCBI TaxID: 110321',\n",
       " ' scientific name: Sinorhizobium meliloti 1021',\n",
       " ' NCBI TaxID: 266834',\n",
       " ' scientific name: Slackia heliotrinireducens DSM 20476',\n",
       " ' NCBI TaxID: 471855',\n",
       " ' scientific name: Stackebrandtia nassauensis DSM 44728',\n",
       " ' NCBI TaxID: 446470',\n",
       " ' scientific name: Sulfolobus acidocaldarius DSM 639',\n",
       " ' NCBI TaxID: 330779',\n",
       " ' scientific name: Synechococcus sp. PCC 7002',\n",
       " ' NCBI TaxID: 32049',\n",
       " ' scientific name: Syntrophobacter fumaroxidans',\n",
       " ' NCBI TaxID: 119484',\n",
       " ' scientific name: Thermobispora bispora DSM 43833',\n",
       " ' NCBI TaxID: 469371',\n",
       " ' scientific name: Thermosynechococcus elongatus BP-1',\n",
       " ' NCBI TaxID: 197221',\n",
       " ' scientific name: Thermosynechococcus sp. NK55a',\n",
       " ' scientific name: Thermotoga maritima',\n",
       " ' NCBI TaxID: 2336',\n",
       " ' scientific name: Thiocapsa marina',\n",
       " ' NCBI TaxID: 244573',\n",
       " ' scientific name: Opitutaceae bacterium TAV1',\n",
       " ' NCBI TaxID: 278956',\n",
       " ' scientific name: Opitutaceae bacterium TAV5',\n",
       " ' NCBI TaxID: 794903',\n",
       " ' scientific name: Xylanimonas cellulosilytica DSM 15894',\n",
       " ' NCBI TaxID: 446471',\n",
       " ' scientific name: Yersinia enterocolitica',\n",
       " ' NCBI TaxID: 630',\n",
       " ' scientific name: Yersinia pestis CO92',\n",
       " ' NCBI TaxID: 214092',\n",
       " ' scientific name: Yersinia pestis KIM10+',\n",
       " ' NCBI TaxID: 187410',\n",
       " ' scientific name: Yersinia pseudotuberculosis IP 32953',\n",
       " ' NCBI TaxID: 273123',\n",
       " ' scientific name: Yersinia pseudotuberculosis PB1/+',\n",
       " ' NCBI TaxID: 502801',\n",
       " '']"
      ]
     },
     "execution_count": 3,
     "metadata": {},
     "output_type": "execute_result"
    }
   ],
   "source": [
    "line_splitted=line.split(';')\n",
    "len(line_splitted)\n",
    "line_splitted"
   ]
  },
  {
   "cell_type": "code",
   "execution_count": 4,
   "metadata": {
    "collapsed": false
   },
   "outputs": [
    {
     "data": {
      "text/plain": [
       "''"
      ]
     },
     "execution_count": 4,
     "metadata": {},
     "output_type": "execute_result"
    }
   ],
   "source": [
    "line_splitted.pop()"
   ]
  },
  {
   "cell_type": "code",
   "execution_count": 5,
   "metadata": {
    "collapsed": false
   },
   "outputs": [
    {
     "data": {
      "text/plain": [
       "220"
      ]
     },
     "execution_count": 5,
     "metadata": {},
     "output_type": "execute_result"
    }
   ],
   "source": [
    "len(line_splitted)"
   ]
  },
  {
   "cell_type": "code",
   "execution_count": 6,
   "metadata": {
    "collapsed": false
   },
   "outputs": [
    {
     "name": "stdout",
     "output_type": "stream",
     "text": [
      " scientific name: Fibrobacter succinogenes subsp. succinogenes S85\n",
      " scientific name: Thermotoga maritima\n"
     ]
    }
   ],
   "source": [
    "import sys\n",
    "def myType(s):\n",
    "    if s==\"scientific name\":\n",
    "        return 0\n",
    "    elif s==\"NCBI TaxID\":\n",
    "        return 1\n",
    "    else:\n",
    "        print(s)\n",
    "        sys.exit(1)\n",
    "\n",
    "out_dctlst=[{} for i in range(112)]\n",
    "count_lst=[0,0]\n",
    "typeOld=1\n",
    "for i,element in enumerate(line_splitted):\n",
    "    element_splitted=element.split(':')\n",
    "    assert len(element_splitted)==2\n",
    "    typeNow=myType(element_splitted[0].strip())\n",
    "    \n",
    "    out_dctlst[count_lst[typeNow]][typeNow]=element_splitted[1].strip()\n",
    "    count_lst[typeNow]+=1\n",
    "    if typeNow==typeOld:\n",
    "        print(element)\n",
    "        typeOth=abs(typeNow-1)\n",
    "        out_dctlst[count_lst[typeOth]][typeOth]=None\n",
    "        count_lst[typeOth]+=1\n",
    "    typeOld=typeNow"
   ]
  },
  {
   "cell_type": "code",
   "execution_count": 7,
   "metadata": {
    "collapsed": false
   },
   "outputs": [
    {
     "data": {
      "text/html": [
       "<div>\n",
       "<table border=\"1\" class=\"dataframe\">\n",
       "  <thead>\n",
       "    <tr style=\"text-align: right;\">\n",
       "      <th></th>\n",
       "      <th>scientific_name</th>\n",
       "      <th>tax_id</th>\n",
       "    </tr>\n",
       "  </thead>\n",
       "  <tbody>\n",
       "    <tr>\n",
       "      <th>0</th>\n",
       "      <td>Acidiphilium cryptum JF-5</td>\n",
       "      <td>349163</td>\n",
       "    </tr>\n",
       "    <tr>\n",
       "      <th>1</th>\n",
       "      <td>Actinosynnema mirum DSM 43827</td>\n",
       "      <td>446462</td>\n",
       "    </tr>\n",
       "    <tr>\n",
       "      <th>2</th>\n",
       "      <td>Anabaena variabilis</td>\n",
       "      <td>1172</td>\n",
       "    </tr>\n",
       "    <tr>\n",
       "      <th>3</th>\n",
       "      <td>Anaeromyxobacter dehalogenans</td>\n",
       "      <td>161493</td>\n",
       "    </tr>\n",
       "    <tr>\n",
       "      <th>4</th>\n",
       "      <td>Anaplasma phagocytophilum</td>\n",
       "      <td>948</td>\n",
       "    </tr>\n",
       "  </tbody>\n",
       "</table>\n",
       "</div>"
      ],
      "text/plain": [
       "                 scientific_name  tax_id\n",
       "0      Acidiphilium cryptum JF-5  349163\n",
       "1  Actinosynnema mirum DSM 43827  446462\n",
       "2            Anabaena variabilis    1172\n",
       "3  Anaeromyxobacter dehalogenans  161493\n",
       "4      Anaplasma phagocytophilum     948"
      ]
     },
     "execution_count": 7,
     "metadata": {},
     "output_type": "execute_result"
    }
   ],
   "source": [
    "df=pd.DataFrame(out_dctlst)\n",
    "df.columns=[\"scientific_name\",\"tax_id\"]\n",
    "df.head()"
   ]
  },
  {
   "cell_type": "code",
   "execution_count": 8,
   "metadata": {
    "collapsed": true
   },
   "outputs": [],
   "source": [
    "df.to_csv(\"input.csv\",index=False)"
   ]
  },
  {
   "cell_type": "code",
   "execution_count": null,
   "metadata": {
    "collapsed": true
   },
   "outputs": [],
   "source": []
  }
 ],
 "metadata": {
  "kernelspec": {
   "display_name": "Python [default]",
   "language": "python",
   "name": "python3"
  },
  "language_info": {
   "codemirror_mode": {
    "name": "ipython",
    "version": 3
   },
   "file_extension": ".py",
   "mimetype": "text/x-python",
   "name": "python",
   "nbconvert_exporter": "python",
   "pygments_lexer": "ipython3",
   "version": "3.5.2"
  }
 },
 "nbformat": 4,
 "nbformat_minor": 2
}
