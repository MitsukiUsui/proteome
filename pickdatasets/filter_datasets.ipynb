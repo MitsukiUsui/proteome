{
 "cells": [
  {
   "cell_type": "code",
   "execution_count": 1,
   "metadata": {
    "collapsed": true
   },
   "outputs": [],
   "source": [
    "import pandas as pd\n",
    "import matplotlib.pyplot as plt\n",
    "%matplotlib inline"
   ]
  },
  {
   "cell_type": "code",
   "execution_count": 2,
   "metadata": {
    "collapsed": false
   },
   "outputs": [
    {
     "data": {
      "text/html": [
       "<div>\n",
       "<table border=\"1\" class=\"dataframe\">\n",
       "  <thead>\n",
       "    <tr style=\"text-align: right;\">\n",
       "      <th></th>\n",
       "      <th>Organism</th>\n",
       "      <th>Dataset</th>\n",
       "      <th>fasta_type</th>\n",
       "      <th>REF</th>\n",
       "      <th>CON</th>\n",
       "      <th>XXX</th>\n",
       "    </tr>\n",
       "  </thead>\n",
       "  <tbody>\n",
       "    <tr>\n",
       "      <th>0</th>\n",
       "      <td>Arthrobacter_sp_FB24</td>\n",
       "      <td>Arthro_009-LTQFT3_04Oct05_Andro_0705-06</td>\n",
       "      <td>msgfplus</td>\n",
       "      <td>5937</td>\n",
       "      <td>37</td>\n",
       "      <td>128</td>\n",
       "    </tr>\n",
       "    <tr>\n",
       "      <th>1</th>\n",
       "      <td>Arthrobacter_sp_FB24</td>\n",
       "      <td>Arthro_002-LTQFT2_29Sep05_Andro_0705-06</td>\n",
       "      <td>msgfplus</td>\n",
       "      <td>4805</td>\n",
       "      <td>46</td>\n",
       "      <td>151</td>\n",
       "    </tr>\n",
       "    <tr>\n",
       "      <th>2</th>\n",
       "      <td>Arthrobacter_sp_FB24</td>\n",
       "      <td>Arthro_009-LTQFT1_04Oct05_Andro_0705-06</td>\n",
       "      <td>msgfplus</td>\n",
       "      <td>5986</td>\n",
       "      <td>23</td>\n",
       "      <td>131</td>\n",
       "    </tr>\n",
       "    <tr>\n",
       "      <th>3</th>\n",
       "      <td>Arthrobacter_sp_FB24</td>\n",
       "      <td>Arthro_010-LTQFT2_04Oct05_Andro_0705-06</td>\n",
       "      <td>msgfplus</td>\n",
       "      <td>6028</td>\n",
       "      <td>55</td>\n",
       "      <td>137</td>\n",
       "    </tr>\n",
       "    <tr>\n",
       "      <th>4</th>\n",
       "      <td>Arthrobacter_sp_FB24</td>\n",
       "      <td>Arthro_002-LTQFT3_29Sep05_Andro_0705-06</td>\n",
       "      <td>msgfplus</td>\n",
       "      <td>5176</td>\n",
       "      <td>34</td>\n",
       "      <td>167</td>\n",
       "    </tr>\n",
       "  </tbody>\n",
       "</table>\n",
       "</div>"
      ],
      "text/plain": [
       "               Organism                                  Dataset fasta_type  \\\n",
       "0  Arthrobacter_sp_FB24  Arthro_009-LTQFT3_04Oct05_Andro_0705-06   msgfplus   \n",
       "1  Arthrobacter_sp_FB24  Arthro_002-LTQFT2_29Sep05_Andro_0705-06   msgfplus   \n",
       "2  Arthrobacter_sp_FB24  Arthro_009-LTQFT1_04Oct05_Andro_0705-06   msgfplus   \n",
       "3  Arthrobacter_sp_FB24  Arthro_010-LTQFT2_04Oct05_Andro_0705-06   msgfplus   \n",
       "4  Arthrobacter_sp_FB24  Arthro_002-LTQFT3_29Sep05_Andro_0705-06   msgfplus   \n",
       "\n",
       "    REF  CON  XXX  \n",
       "0  5937   37  128  \n",
       "1  4805   46  151  \n",
       "2  5986   23  131  \n",
       "3  6028   55  137  \n",
       "4  5176   34  167  "
      ]
     },
     "execution_count": 2,
     "metadata": {},
     "output_type": "execute_result"
    }
   ],
   "source": [
    "sumDf=pd.read_csv(\"summarize.csv\")\n",
    "sumDf.head()"
   ]
  },
  {
   "cell_type": "code",
   "execution_count": 3,
   "metadata": {
    "collapsed": false
   },
   "outputs": [
    {
     "data": {
      "text/html": [
       "<div>\n",
       "<table border=\"1\" class=\"dataframe\">\n",
       "  <thead>\n",
       "    <tr style=\"text-align: right;\">\n",
       "      <th></th>\n",
       "      <th>Organism</th>\n",
       "      <th>Sample</th>\n",
       "      <th>Dataset</th>\n",
       "      <th>Instrument</th>\n",
       "      <th>Separation Type</th>\n",
       "      <th>Type</th>\n",
       "      <th>Acquisition Start</th>\n",
       "      <th>Acquisition End</th>\n",
       "      <th>Scan Count</th>\n",
       "      <th>Acq Length</th>\n",
       "    </tr>\n",
       "  </thead>\n",
       "  <tbody>\n",
       "    <tr>\n",
       "      <th>0</th>\n",
       "      <td>Arthrobacter_sp_FB24</td>\n",
       "      <td>Arthro_009</td>\n",
       "      <td>Arthro_009-LTQFT3_04Oct05_Andro_0705-06</td>\n",
       "      <td>LTQ_FT1</td>\n",
       "      <td>LC-ISCO-Standard</td>\n",
       "      <td>HMS-MSn</td>\n",
       "      <td>10/4/2005 5:10 PM</td>\n",
       "      <td>10/4/2005 6:50 PM</td>\n",
       "      <td>14723</td>\n",
       "      <td>100</td>\n",
       "    </tr>\n",
       "    <tr>\n",
       "      <th>1</th>\n",
       "      <td>Arthrobacter_sp_FB24</td>\n",
       "      <td>Arthro_002</td>\n",
       "      <td>Arthro_002-LTQFT2_29Sep05_Andro_0705-06</td>\n",
       "      <td>LTQ_FT1</td>\n",
       "      <td>LC-ISCO-Standard</td>\n",
       "      <td>HMS-MSn</td>\n",
       "      <td>9/29/2005 2:58 AM</td>\n",
       "      <td>9/29/2005 4:38 AM</td>\n",
       "      <td>11808</td>\n",
       "      <td>100</td>\n",
       "    </tr>\n",
       "    <tr>\n",
       "      <th>2</th>\n",
       "      <td>Arthrobacter_sp_FB24</td>\n",
       "      <td>Arthro_009</td>\n",
       "      <td>Arthro_009-LTQFT1_04Oct05_Andro_0705-06</td>\n",
       "      <td>LTQ_FT1</td>\n",
       "      <td>LC-ISCO-Standard</td>\n",
       "      <td>HMS-MSn</td>\n",
       "      <td>10/4/2005 12:21 PM</td>\n",
       "      <td>10/4/2005 2:01 PM</td>\n",
       "      <td>14135</td>\n",
       "      <td>100</td>\n",
       "    </tr>\n",
       "    <tr>\n",
       "      <th>3</th>\n",
       "      <td>Arthrobacter_sp_FB24</td>\n",
       "      <td>Arthro_010</td>\n",
       "      <td>Arthro_010-LTQFT2_04Oct05_Andro_0705-06</td>\n",
       "      <td>LTQ_FT1</td>\n",
       "      <td>LC-ISCO-Standard</td>\n",
       "      <td>HMS-MSn</td>\n",
       "      <td>10/4/2005 9:59 PM</td>\n",
       "      <td>10/4/2005 11:39 PM</td>\n",
       "      <td>14031</td>\n",
       "      <td>100</td>\n",
       "    </tr>\n",
       "    <tr>\n",
       "      <th>4</th>\n",
       "      <td>Arthrobacter_sp_FB24</td>\n",
       "      <td>Arthro_002</td>\n",
       "      <td>Arthro_002-LTQFT3_29Sep05_Andro_0705-06</td>\n",
       "      <td>LTQ_FT1</td>\n",
       "      <td>LC-ISCO-Standard</td>\n",
       "      <td>HMS-MSn</td>\n",
       "      <td>9/29/2005 8:03 AM</td>\n",
       "      <td>9/29/2005 9:43 AM</td>\n",
       "      <td>12582</td>\n",
       "      <td>100</td>\n",
       "    </tr>\n",
       "  </tbody>\n",
       "</table>\n",
       "</div>"
      ],
      "text/plain": [
       "               Organism      Sample                                  Dataset  \\\n",
       "0  Arthrobacter_sp_FB24  Arthro_009  Arthro_009-LTQFT3_04Oct05_Andro_0705-06   \n",
       "1  Arthrobacter_sp_FB24  Arthro_002  Arthro_002-LTQFT2_29Sep05_Andro_0705-06   \n",
       "2  Arthrobacter_sp_FB24  Arthro_009  Arthro_009-LTQFT1_04Oct05_Andro_0705-06   \n",
       "3  Arthrobacter_sp_FB24  Arthro_010  Arthro_010-LTQFT2_04Oct05_Andro_0705-06   \n",
       "4  Arthrobacter_sp_FB24  Arthro_002  Arthro_002-LTQFT3_29Sep05_Andro_0705-06   \n",
       "\n",
       "  Instrument   Separation Type     Type   Acquisition Start  \\\n",
       "0    LTQ_FT1  LC-ISCO-Standard  HMS-MSn   10/4/2005 5:10 PM   \n",
       "1    LTQ_FT1  LC-ISCO-Standard  HMS-MSn   9/29/2005 2:58 AM   \n",
       "2    LTQ_FT1  LC-ISCO-Standard  HMS-MSn  10/4/2005 12:21 PM   \n",
       "3    LTQ_FT1  LC-ISCO-Standard  HMS-MSn   10/4/2005 9:59 PM   \n",
       "4    LTQ_FT1  LC-ISCO-Standard  HMS-MSn   9/29/2005 8:03 AM   \n",
       "\n",
       "      Acquisition End  Scan Count  Acq Length  \n",
       "0   10/4/2005 6:50 PM       14723         100  \n",
       "1   9/29/2005 4:38 AM       11808         100  \n",
       "2   10/4/2005 2:01 PM       14135         100  \n",
       "3  10/4/2005 11:39 PM       14031         100  \n",
       "4   9/29/2005 9:43 AM       12582         100  "
      ]
     },
     "execution_count": 3,
     "metadata": {},
     "output_type": "execute_result"
    }
   ],
   "source": [
    "dataDf=pd.read_csv(\"sampled_pnnl_datasets.csv\")\n",
    "dataDf.head()"
   ]
  },
  {
   "cell_type": "code",
   "execution_count": 4,
   "metadata": {
    "collapsed": false
   },
   "outputs": [
    {
     "data": {
      "text/html": [
       "<div>\n",
       "<table border=\"1\" class=\"dataframe\">\n",
       "  <thead>\n",
       "    <tr style=\"text-align: right;\">\n",
       "      <th></th>\n",
       "      <th>Organism</th>\n",
       "      <th>Dataset</th>\n",
       "      <th>fasta_type</th>\n",
       "      <th>REF</th>\n",
       "      <th>CON</th>\n",
       "      <th>XXX</th>\n",
       "      <th>Sample</th>\n",
       "      <th>Instrument</th>\n",
       "      <th>Separation Type</th>\n",
       "      <th>Type</th>\n",
       "      <th>Acquisition Start</th>\n",
       "      <th>Acquisition End</th>\n",
       "      <th>Scan Count</th>\n",
       "      <th>Acq Length</th>\n",
       "    </tr>\n",
       "  </thead>\n",
       "  <tbody>\n",
       "    <tr>\n",
       "      <th>0</th>\n",
       "      <td>Arthrobacter_sp_FB24</td>\n",
       "      <td>Arthro_009-LTQFT3_04Oct05_Andro_0705-06</td>\n",
       "      <td>msgfplus</td>\n",
       "      <td>5937</td>\n",
       "      <td>37</td>\n",
       "      <td>128</td>\n",
       "      <td>Arthro_009</td>\n",
       "      <td>LTQ_FT1</td>\n",
       "      <td>LC-ISCO-Standard</td>\n",
       "      <td>HMS-MSn</td>\n",
       "      <td>10/4/2005 5:10 PM</td>\n",
       "      <td>10/4/2005 6:50 PM</td>\n",
       "      <td>14723</td>\n",
       "      <td>100</td>\n",
       "    </tr>\n",
       "    <tr>\n",
       "      <th>1</th>\n",
       "      <td>Arthrobacter_sp_FB24</td>\n",
       "      <td>Arthro_002-LTQFT2_29Sep05_Andro_0705-06</td>\n",
       "      <td>msgfplus</td>\n",
       "      <td>4805</td>\n",
       "      <td>46</td>\n",
       "      <td>151</td>\n",
       "      <td>Arthro_002</td>\n",
       "      <td>LTQ_FT1</td>\n",
       "      <td>LC-ISCO-Standard</td>\n",
       "      <td>HMS-MSn</td>\n",
       "      <td>9/29/2005 2:58 AM</td>\n",
       "      <td>9/29/2005 4:38 AM</td>\n",
       "      <td>11808</td>\n",
       "      <td>100</td>\n",
       "    </tr>\n",
       "    <tr>\n",
       "      <th>2</th>\n",
       "      <td>Arthrobacter_sp_FB24</td>\n",
       "      <td>Arthro_009-LTQFT1_04Oct05_Andro_0705-06</td>\n",
       "      <td>msgfplus</td>\n",
       "      <td>5986</td>\n",
       "      <td>23</td>\n",
       "      <td>131</td>\n",
       "      <td>Arthro_009</td>\n",
       "      <td>LTQ_FT1</td>\n",
       "      <td>LC-ISCO-Standard</td>\n",
       "      <td>HMS-MSn</td>\n",
       "      <td>10/4/2005 12:21 PM</td>\n",
       "      <td>10/4/2005 2:01 PM</td>\n",
       "      <td>14135</td>\n",
       "      <td>100</td>\n",
       "    </tr>\n",
       "    <tr>\n",
       "      <th>3</th>\n",
       "      <td>Arthrobacter_sp_FB24</td>\n",
       "      <td>Arthro_010-LTQFT2_04Oct05_Andro_0705-06</td>\n",
       "      <td>msgfplus</td>\n",
       "      <td>6028</td>\n",
       "      <td>55</td>\n",
       "      <td>137</td>\n",
       "      <td>Arthro_010</td>\n",
       "      <td>LTQ_FT1</td>\n",
       "      <td>LC-ISCO-Standard</td>\n",
       "      <td>HMS-MSn</td>\n",
       "      <td>10/4/2005 9:59 PM</td>\n",
       "      <td>10/4/2005 11:39 PM</td>\n",
       "      <td>14031</td>\n",
       "      <td>100</td>\n",
       "    </tr>\n",
       "    <tr>\n",
       "      <th>4</th>\n",
       "      <td>Arthrobacter_sp_FB24</td>\n",
       "      <td>Arthro_002-LTQFT3_29Sep05_Andro_0705-06</td>\n",
       "      <td>msgfplus</td>\n",
       "      <td>5176</td>\n",
       "      <td>34</td>\n",
       "      <td>167</td>\n",
       "      <td>Arthro_002</td>\n",
       "      <td>LTQ_FT1</td>\n",
       "      <td>LC-ISCO-Standard</td>\n",
       "      <td>HMS-MSn</td>\n",
       "      <td>9/29/2005 8:03 AM</td>\n",
       "      <td>9/29/2005 9:43 AM</td>\n",
       "      <td>12582</td>\n",
       "      <td>100</td>\n",
       "    </tr>\n",
       "  </tbody>\n",
       "</table>\n",
       "</div>"
      ],
      "text/plain": [
       "               Organism                                  Dataset fasta_type  \\\n",
       "0  Arthrobacter_sp_FB24  Arthro_009-LTQFT3_04Oct05_Andro_0705-06   msgfplus   \n",
       "1  Arthrobacter_sp_FB24  Arthro_002-LTQFT2_29Sep05_Andro_0705-06   msgfplus   \n",
       "2  Arthrobacter_sp_FB24  Arthro_009-LTQFT1_04Oct05_Andro_0705-06   msgfplus   \n",
       "3  Arthrobacter_sp_FB24  Arthro_010-LTQFT2_04Oct05_Andro_0705-06   msgfplus   \n",
       "4  Arthrobacter_sp_FB24  Arthro_002-LTQFT3_29Sep05_Andro_0705-06   msgfplus   \n",
       "\n",
       "    REF  CON  XXX      Sample Instrument   Separation Type     Type  \\\n",
       "0  5937   37  128  Arthro_009    LTQ_FT1  LC-ISCO-Standard  HMS-MSn   \n",
       "1  4805   46  151  Arthro_002    LTQ_FT1  LC-ISCO-Standard  HMS-MSn   \n",
       "2  5986   23  131  Arthro_009    LTQ_FT1  LC-ISCO-Standard  HMS-MSn   \n",
       "3  6028   55  137  Arthro_010    LTQ_FT1  LC-ISCO-Standard  HMS-MSn   \n",
       "4  5176   34  167  Arthro_002    LTQ_FT1  LC-ISCO-Standard  HMS-MSn   \n",
       "\n",
       "    Acquisition Start     Acquisition End  Scan Count  Acq Length  \n",
       "0   10/4/2005 5:10 PM   10/4/2005 6:50 PM       14723         100  \n",
       "1   9/29/2005 2:58 AM   9/29/2005 4:38 AM       11808         100  \n",
       "2  10/4/2005 12:21 PM   10/4/2005 2:01 PM       14135         100  \n",
       "3   10/4/2005 9:59 PM  10/4/2005 11:39 PM       14031         100  \n",
       "4   9/29/2005 8:03 AM   9/29/2005 9:43 AM       12582         100  "
      ]
     },
     "execution_count": 4,
     "metadata": {},
     "output_type": "execute_result"
    }
   ],
   "source": [
    "df=pd.merge(sumDf, dataDf, on=[\"Organism\",\"Dataset\"])\n",
    "df.head()"
   ]
  },
  {
   "cell_type": "code",
   "execution_count": 5,
   "metadata": {
    "collapsed": false
   },
   "outputs": [],
   "source": [
    "df[\"Ratio\"]=100*df[\"REF\"]/df[\"Scan Count\"]"
   ]
  },
  {
   "cell_type": "code",
   "execution_count": 6,
   "metadata": {
    "collapsed": false
   },
   "outputs": [
    {
     "data": {
      "image/png": "[encoded data removed]",
      "text/plain": [
       "<matplotlib.figure.Figure at 0x7fda56e54b38>"
      ]
     },
     "metadata": {},
     "output_type": "display_data"
    }
   ],
   "source": [
    "plt.hist(df[\"Ratio\"])\n",
    "plt.show()"
   ]
  },
  {
   "cell_type": "code",
   "execution_count": 7,
   "metadata": {
    "collapsed": false
   },
   "outputs": [
    {
     "data": {
      "text/plain": [
       "1004"
      ]
     },
     "execution_count": 7,
     "metadata": {},
     "output_type": "execute_result"
    }
   ],
   "source": [
    "min(df[df[\"Ratio\"]>10][\"REF\"])"
   ]
  },
  {
   "cell_type": "code",
   "execution_count": 9,
   "metadata": {
    "collapsed": false
   },
   "outputs": [
    {
     "name": "stdout",
     "output_type": "stream",
     "text": [
      "(405, 10)\n"
     ]
    },
    {
     "data": {
      "text/html": [
       "<div>\n",
       "<table border=\"1\" class=\"dataframe\">\n",
       "  <thead>\n",
       "    <tr style=\"text-align: right;\">\n",
       "      <th></th>\n",
       "      <th>Organism</th>\n",
       "      <th>Sample</th>\n",
       "      <th>Dataset</th>\n",
       "      <th>Instrument</th>\n",
       "      <th>Separation Type</th>\n",
       "      <th>Type</th>\n",
       "      <th>Acquisition Start</th>\n",
       "      <th>Acquisition End</th>\n",
       "      <th>Scan Count</th>\n",
       "      <th>Acq Length</th>\n",
       "    </tr>\n",
       "  </thead>\n",
       "  <tbody>\n",
       "    <tr>\n",
       "      <th>0</th>\n",
       "      <td>Arthrobacter_sp_FB24</td>\n",
       "      <td>Arthro_009</td>\n",
       "      <td>Arthro_009-LTQFT3_04Oct05_Andro_0705-06</td>\n",
       "      <td>LTQ_FT1</td>\n",
       "      <td>LC-ISCO-Standard</td>\n",
       "      <td>HMS-MSn</td>\n",
       "      <td>10/4/2005 5:10 PM</td>\n",
       "      <td>10/4/2005 6:50 PM</td>\n",
       "      <td>14723</td>\n",
       "      <td>100</td>\n",
       "    </tr>\n",
       "    <tr>\n",
       "      <th>1</th>\n",
       "      <td>Arthrobacter_sp_FB24</td>\n",
       "      <td>Arthro_002</td>\n",
       "      <td>Arthro_002-LTQFT2_29Sep05_Andro_0705-06</td>\n",
       "      <td>LTQ_FT1</td>\n",
       "      <td>LC-ISCO-Standard</td>\n",
       "      <td>HMS-MSn</td>\n",
       "      <td>9/29/2005 2:58 AM</td>\n",
       "      <td>9/29/2005 4:38 AM</td>\n",
       "      <td>11808</td>\n",
       "      <td>100</td>\n",
       "    </tr>\n",
       "    <tr>\n",
       "      <th>2</th>\n",
       "      <td>Arthrobacter_sp_FB24</td>\n",
       "      <td>Arthro_009</td>\n",
       "      <td>Arthro_009-LTQFT1_04Oct05_Andro_0705-06</td>\n",
       "      <td>LTQ_FT1</td>\n",
       "      <td>LC-ISCO-Standard</td>\n",
       "      <td>HMS-MSn</td>\n",
       "      <td>10/4/2005 12:21 PM</td>\n",
       "      <td>10/4/2005 2:01 PM</td>\n",
       "      <td>14135</td>\n",
       "      <td>100</td>\n",
       "    </tr>\n",
       "    <tr>\n",
       "      <th>3</th>\n",
       "      <td>Arthrobacter_sp_FB24</td>\n",
       "      <td>Arthro_010</td>\n",
       "      <td>Arthro_010-LTQFT2_04Oct05_Andro_0705-06</td>\n",
       "      <td>LTQ_FT1</td>\n",
       "      <td>LC-ISCO-Standard</td>\n",
       "      <td>HMS-MSn</td>\n",
       "      <td>10/4/2005 9:59 PM</td>\n",
       "      <td>10/4/2005 11:39 PM</td>\n",
       "      <td>14031</td>\n",
       "      <td>100</td>\n",
       "    </tr>\n",
       "    <tr>\n",
       "      <th>4</th>\n",
       "      <td>Arthrobacter_sp_FB24</td>\n",
       "      <td>Arthro_002</td>\n",
       "      <td>Arthro_002-LTQFT3_29Sep05_Andro_0705-06</td>\n",
       "      <td>LTQ_FT1</td>\n",
       "      <td>LC-ISCO-Standard</td>\n",
       "      <td>HMS-MSn</td>\n",
       "      <td>9/29/2005 8:03 AM</td>\n",
       "      <td>9/29/2005 9:43 AM</td>\n",
       "      <td>12582</td>\n",
       "      <td>100</td>\n",
       "    </tr>\n",
       "  </tbody>\n",
       "</table>\n",
       "</div>"
      ],
      "text/plain": [
       "               Organism      Sample                                  Dataset  \\\n",
       "0  Arthrobacter_sp_FB24  Arthro_009  Arthro_009-LTQFT3_04Oct05_Andro_0705-06   \n",
       "1  Arthrobacter_sp_FB24  Arthro_002  Arthro_002-LTQFT2_29Sep05_Andro_0705-06   \n",
       "2  Arthrobacter_sp_FB24  Arthro_009  Arthro_009-LTQFT1_04Oct05_Andro_0705-06   \n",
       "3  Arthrobacter_sp_FB24  Arthro_010  Arthro_010-LTQFT2_04Oct05_Andro_0705-06   \n",
       "4  Arthrobacter_sp_FB24  Arthro_002  Arthro_002-LTQFT3_29Sep05_Andro_0705-06   \n",
       "\n",
       "  Instrument   Separation Type     Type   Acquisition Start  \\\n",
       "0    LTQ_FT1  LC-ISCO-Standard  HMS-MSn   10/4/2005 5:10 PM   \n",
       "1    LTQ_FT1  LC-ISCO-Standard  HMS-MSn   9/29/2005 2:58 AM   \n",
       "2    LTQ_FT1  LC-ISCO-Standard  HMS-MSn  10/4/2005 12:21 PM   \n",
       "3    LTQ_FT1  LC-ISCO-Standard  HMS-MSn   10/4/2005 9:59 PM   \n",
       "4    LTQ_FT1  LC-ISCO-Standard  HMS-MSn   9/29/2005 8:03 AM   \n",
       "\n",
       "      Acquisition End  Scan Count  Acq Length  \n",
       "0   10/4/2005 6:50 PM       14723         100  \n",
       "1   9/29/2005 4:38 AM       11808         100  \n",
       "2   10/4/2005 2:01 PM       14135         100  \n",
       "3  10/4/2005 11:39 PM       14031         100  \n",
       "4   9/29/2005 9:43 AM       12582         100  "
      ]
     },
     "execution_count": 9,
     "metadata": {},
     "output_type": "execute_result"
    }
   ],
   "source": [
    "filteredDf=df[df[\"Ratio\"]>10][dataDf.columns]\n",
    "print(filteredDf.shape)\n",
    "filteredDf.head()"
   ]
  },
  {
   "cell_type": "code",
   "execution_count": 10,
   "metadata": {
    "collapsed": true
   },
   "outputs": [],
   "source": [
    "filteredDf.to_csv(\"pnnl_downloads.csv\",index=False)"
   ]
  },
  {
   "cell_type": "code",
   "execution_count": null,
   "metadata": {
    "collapsed": true
   },
   "outputs": [],
   "source": []
  }
 ],
 "metadata": {
  "anaconda-cloud": {},
  "kernelspec": {
   "display_name": "Python [conda root]",
   "language": "python",
   "name": "conda-root-py"
  },
  "language_info": {
   "codemirror_mode": {
    "name": "ipython",
    "version": 3
   },
   "file_extension": ".py",
   "mimetype": "text/x-python",
   "name": "python",
   "nbconvert_exporter": "python",
   "pygments_lexer": "ipython3",
   "version": "3.5.2"
  }
 },
 "nbformat": 4,
 "nbformat_minor": 1
}
