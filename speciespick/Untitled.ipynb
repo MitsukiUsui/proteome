{
 "cells": [
  {
   "cell_type": "code",
   "execution_count": null,
   "metadata": {
    "collapsed": true
   },
   "outputs": [],
   "source": [
    "import pandas as pd"
   ]
  },
  {
   "cell_type": "code",
   "execution_count": 2,
   "metadata": {
    "collapsed": false
   },
   "outputs": [
    {
     "data": {
      "text/html": [
       "<div>\n",
       "<table border=\"1\" class=\"dataframe\">\n",
       "  <thead>\n",
       "    <tr style=\"text-align: right;\">\n",
       "      <th></th>\n",
       "      <th>asm_name</th>\n",
       "      <th>assembly_accession</th>\n",
       "      <th>domain</th>\n",
       "      <th>ftp_basename</th>\n",
       "      <th>ftp_path</th>\n",
       "      <th>organism_name</th>\n",
       "      <th>taxid</th>\n",
       "    </tr>\n",
       "  </thead>\n",
       "  <tbody>\n",
       "    <tr>\n",
       "      <th>0</th>\n",
       "      <td>ASM2238v1</td>\n",
       "      <td>GCF_000022385.1</td>\n",
       "      <td>archaea</td>\n",
       "      <td>GCF_000022385.1_ASM2238v1</td>\n",
       "      <td>ftp://ftp.ncbi.nlm.nih.gov/genomes/all/GCF/000...</td>\n",
       "      <td>Sulfolobus islandicus L.S.2.15</td>\n",
       "      <td>429572</td>\n",
       "    </tr>\n",
       "    <tr>\n",
       "      <th>1</th>\n",
       "      <td>ASM97008v1</td>\n",
       "      <td>GCF_000970085.1</td>\n",
       "      <td>archaea</td>\n",
       "      <td>GCF_000970085.1_ASM97008v1</td>\n",
       "      <td>ftp://ftp.ncbi.nlm.nih.gov/genomes/all/GCF/000...</td>\n",
       "      <td>Methanosarcina siciliae T4/M</td>\n",
       "      <td>1434120</td>\n",
       "    </tr>\n",
       "    <tr>\n",
       "      <th>2</th>\n",
       "      <td>ASM734v1</td>\n",
       "      <td>GCF_000007345.1</td>\n",
       "      <td>archaea</td>\n",
       "      <td>GCF_000007345.1_ASM734v1</td>\n",
       "      <td>ftp://ftp.ncbi.nlm.nih.gov/genomes/all/GCF/000...</td>\n",
       "      <td>Methanosarcina acetivorans C2A</td>\n",
       "      <td>188937</td>\n",
       "    </tr>\n",
       "    <tr>\n",
       "      <th>3</th>\n",
       "      <td>ASM35030v1</td>\n",
       "      <td>GCF_000350305.1</td>\n",
       "      <td>archaea</td>\n",
       "      <td>GCF_000350305.1_ASM35030v1</td>\n",
       "      <td>ftp://ftp.ncbi.nlm.nih.gov/genomes/all/GCF/000...</td>\n",
       "      <td>Thermoplasmatales archaeon BRNA1</td>\n",
       "      <td>1054217</td>\n",
       "    </tr>\n",
       "    <tr>\n",
       "      <th>4</th>\n",
       "      <td>ASM96990v1</td>\n",
       "      <td>GCF_000969905.1</td>\n",
       "      <td>archaea</td>\n",
       "      <td>GCF_000969905.1_ASM96990v1</td>\n",
       "      <td>ftp://ftp.ncbi.nlm.nih.gov/genomes/all/GCF/000...</td>\n",
       "      <td>Methanosarcina vacuolata Z-761</td>\n",
       "      <td>1434123</td>\n",
       "    </tr>\n",
       "  </tbody>\n",
       "</table>\n",
       "</div>"
      ],
      "text/plain": [
       "     asm_name assembly_accession   domain                ftp_basename  \\\n",
       "0   ASM2238v1    GCF_000022385.1  archaea   GCF_000022385.1_ASM2238v1   \n",
       "1  ASM97008v1    GCF_000970085.1  archaea  GCF_000970085.1_ASM97008v1   \n",
       "2    ASM734v1    GCF_000007345.1  archaea    GCF_000007345.1_ASM734v1   \n",
       "3  ASM35030v1    GCF_000350305.1  archaea  GCF_000350305.1_ASM35030v1   \n",
       "4  ASM96990v1    GCF_000969905.1  archaea  GCF_000969905.1_ASM96990v1   \n",
       "\n",
       "                                            ftp_path  \\\n",
       "0  ftp://ftp.ncbi.nlm.nih.gov/genomes/all/GCF/000...   \n",
       "1  ftp://ftp.ncbi.nlm.nih.gov/genomes/all/GCF/000...   \n",
       "2  ftp://ftp.ncbi.nlm.nih.gov/genomes/all/GCF/000...   \n",
       "3  ftp://ftp.ncbi.nlm.nih.gov/genomes/all/GCF/000...   \n",
       "4  ftp://ftp.ncbi.nlm.nih.gov/genomes/all/GCF/000...   \n",
       "\n",
       "                      organism_name    taxid  \n",
       "0    Sulfolobus islandicus L.S.2.15   429572  \n",
       "1      Methanosarcina siciliae T4/M  1434120  \n",
       "2    Methanosarcina acetivorans C2A   188937  \n",
       "3  Thermoplasmatales archaeon BRNA1  1054217  \n",
       "4    Methanosarcina vacuolata Z-761  1434123  "
      ]
     },
     "execution_count": 2,
     "metadata": {},
     "output_type": "execute_result"
    }
   ],
   "source": [
    "genomeFilepath=\"~/sandbox/genome/speciespick/picked_assembly_summary.csv\"\n",
    "genomeDf=pd.read_csv(genomeFilepath)\n",
    "genomeDf.head()"
   ]
  },
  {
   "cell_type": "code",
   "execution_count": 3,
   "metadata": {
    "collapsed": false
   },
   "outputs": [
    {
     "data": {
      "text/html": [
       "<div>\n",
       "<table border=\"1\" class=\"dataframe\">\n",
       "  <thead>\n",
       "    <tr style=\"text-align: right;\">\n",
       "      <th></th>\n",
       "      <th>scientific_name</th>\n",
       "      <th>tax_id</th>\n",
       "      <th>dir_name</th>\n",
       "    </tr>\n",
       "  </thead>\n",
       "  <tbody>\n",
       "    <tr>\n",
       "      <th>0</th>\n",
       "      <td>Acidiphilium cryptum JF-5</td>\n",
       "      <td>349163</td>\n",
       "      <td>Acidiphilium_cryptum_JF-5</td>\n",
       "    </tr>\n",
       "    <tr>\n",
       "      <th>1</th>\n",
       "      <td>Actinosynnema mirum DSM 43827</td>\n",
       "      <td>446462</td>\n",
       "      <td>Actinosynnema_mirum_DSM_43827</td>\n",
       "    </tr>\n",
       "    <tr>\n",
       "      <th>2</th>\n",
       "      <td>Anabaena variabilis</td>\n",
       "      <td>1172</td>\n",
       "      <td>Anabaena_variabilis</td>\n",
       "    </tr>\n",
       "    <tr>\n",
       "      <th>3</th>\n",
       "      <td>Anaeromyxobacter dehalogenans</td>\n",
       "      <td>161493</td>\n",
       "      <td>Anaeromyxobacter_dehalogenans</td>\n",
       "    </tr>\n",
       "    <tr>\n",
       "      <th>4</th>\n",
       "      <td>Anaplasma phagocytophilum</td>\n",
       "      <td>948</td>\n",
       "      <td>Anaplasma_phagocytophilium</td>\n",
       "    </tr>\n",
       "  </tbody>\n",
       "</table>\n",
       "</div>"
      ],
      "text/plain": [
       "                 scientific_name  tax_id                       dir_name\n",
       "0      Acidiphilium cryptum JF-5  349163      Acidiphilium_cryptum_JF-5\n",
       "1  Actinosynnema mirum DSM 43827  446462  Actinosynnema_mirum_DSM_43827\n",
       "2            Anabaena variabilis    1172            Anabaena_variabilis\n",
       "3  Anaeromyxobacter dehalogenans  161493  Anaeromyxobacter_dehalogenans\n",
       "4      Anaplasma phagocytophilum     948     Anaplasma_phagocytophilium"
      ]
     },
     "execution_count": 3,
     "metadata": {},
     "output_type": "execute_result"
    }
   ],
   "source": [
    "proteomeFilepath=\"pnnl_lookup.csv\"\n",
    "proteomeDf=pd.read_csv(proteomeFilepath,dtype='object')\n",
    "proteomeDf.head()"
   ]
  },
  {
   "cell_type": "code",
   "execution_count": 6,
   "metadata": {
    "collapsed": false
   },
   "outputs": [
    {
     "name": "stdout",
     "output_type": "stream",
     "text": [
      "1615\n",
      "109\n"
     ]
    }
   ],
   "source": [
    "genomeLst=list(genomeDf[\"taxid\"].dropna())\n",
    "print(len(genomeLst))\n",
    "proteomeLst=list(proteomeDf[\"tax_id\"].dropna())\n",
    "print(len(proteomeLst))"
   ]
  },
  {
   "cell_type": "code",
   "execution_count": 16,
   "metadata": {
    "collapsed": false
   },
   "outputs": [
    {
     "name": "stdout",
     "output_type": "stream",
     "text": [
      "Actinosynnema mirum DSM 43827\n",
      "Arthrobacter sp. FB24\n",
      "Bartonella henselae str. Houston-1\n",
      "Cellulomonas flavigena DSM 20109\n",
      "Cryptobacterium curtum DSM 15641\n",
      "Synechocystis sp. PCC 6803\n",
      "Cyanothece sp. ATCC 51142\n",
      "Cyanothece sp. PCC 7424\n",
      "Cyanothece sp. PCC 7425\n",
      "Cyanothece sp. PCC 7822\n",
      "Cyanothece sp. PCC 8801\n",
      "Dehalococcoides ethenogenes 195\n",
      "Desulfovibrio desulfuricans ND132\n",
      "Enterobacter cloacae SCF1\n",
      "Fibrobacter succinogenes subsp. succinogenes S85\n",
      "Geobacter bemidjiensis Bem\n",
      "Geobacter metallireducens GS-15\n",
      "Halogeometricum borinquense DSM 11551\n",
      "Halorhabdus utahensis DSM 12940\n",
      "Kineococcus radiotolerans SRS30216\n",
      "Kosmotoga olearia TBF 19.5.1\n",
      "Methanospirillum hungatei JF-1\n",
      "Nakamurella multipartita DSM 44233\n",
      "Nocardiopsis dassonvillei subsp. dassonvillei DSM 43111\n",
      "Candidatus Pelagibacter ubique HTCC1062\n",
      "Pelobacter carbinolicus DSM 2380\n",
      "Prochlorococcus marinus subsp. pastoris str. CCMP1986\n",
      "Rhodobacter capsulatus SB 1003\n",
      "Saccharomonospora viridis DSM 43017\n",
      "Sanguibacter keddieii DSM 10542\n",
      "Shewanella amazonensis SB2B\n",
      "Shewanella denitrificans OS217\n",
      "Shewanella frigidimarina NCIMB 400\n",
      "Shewanella loihica PV-4\n",
      "Slackia heliotrinireducens DSM 20476\n",
      "Stackebrandtia nassauensis DSM 44728\n",
      "Sulfolobus acidocaldarius DSM 639\n",
      "Synechococcus sp. PCC 7002\n",
      "Thermobispora bispora DSM 43833\n",
      "Opitutaceae bacterium TAV5\n",
      "Xylanimonas cellulosilytica DSM 15894\n",
      "41\n"
     ]
    }
   ],
   "source": [
    "count=0\n",
    "for taxId in proteomeLst:\n",
    "    if int(taxId) in genomeLst:\n",
    "        count+=1\n",
    "        print(proteomeDf[proteomeDf[\"tax_id\"]==taxId].iloc[0,0])\n",
    "print(count)"
   ]
  },
  {
   "cell_type": "code",
   "execution_count": 11,
   "metadata": {
    "collapsed": false
   },
   "outputs": [
    {
     "data": {
      "text/plain": [
       "numpy.int64"
      ]
     },
     "execution_count": 11,
     "metadata": {},
     "output_type": "execute_result"
    }
   ],
   "source": [
    "type(genomeLst[0])"
   ]
  },
  {
   "cell_type": "code",
   "execution_count": null,
   "metadata": {
    "collapsed": true
   },
   "outputs": [],
   "source": []
  }
 ],
 "metadata": {
  "anaconda-cloud": {},
  "kernelspec": {
   "display_name": "Python [default]",
   "language": "python",
   "name": "python3"
  },
  "language_info": {
   "codemirror_mode": {
    "name": "ipython",
    "version": 3
   },
   "file_extension": ".py",
   "mimetype": "text/x-python",
   "name": "python",
   "nbconvert_exporter": "python",
   "pygments_lexer": "ipython3",
   "version": "3.5.2"
  }
 },
 "nbformat": 4,
 "nbformat_minor": 2
}
